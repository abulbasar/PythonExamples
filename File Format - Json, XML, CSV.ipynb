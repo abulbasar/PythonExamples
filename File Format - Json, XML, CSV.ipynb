{
 "cells": [
  {
   "cell_type": "code",
   "execution_count": 3,
   "metadata": {},
   "outputs": [],
   "source": [
    "from xml.etree import ElementTree as et\n",
    "import requests"
   ]
  },
  {
   "cell_type": "code",
   "execution_count": 4,
   "metadata": {
    "scrolled": true
   },
   "outputs": [
    {
     "data": {
      "text/plain": [
       "'<?xml version=\"1.0\" encoding=\"UTF-8\"?>\\n<?xml-stylesheet title=\"XSL_formatting\" type=\"text/xsl\" href=\"/shared/bsp/xsl/rss/nolsol.xsl\"?>\\n<rss xmlns:dc=\"http://purl.org/dc/elements/1.1/\" xmlns:content=\"http://purl.org/rss/1.0/modules/content/\" xmlns:atom=\"http://www.w3.org/2005/Atom\" version=\"2.0\" xmlns:media=\"http://search.yahoo.com/mrss/\">\\n    <channel>\\n        <title><![CDATA[BBC News - News front page]]></title>\\n        <description><![CDATA[BBC News - News front page]]></description>\\n        <link>https://www.bbc.co.uk/news/</link>\\n        <image>\\n            <url>https://news.bbcimg.co.uk/nol/shared/img/bbc_news_120x60.gif</url>\\n            <title>BBC News - News front page</title>\\n            <link>https://www.bbc.co.uk/news/</link>\\n        </image>\\n        <generator>RSS for Node</generator>\\n        <lastBuildDate>Wed, 31 Jul 2019 09:05:04 GMT</lastBuildDate>\\n        <copyright><![CDATA[Copyright: (C) British Broadcasting Corporation, see http://news.bbc.co.uk/2/hi/help/rss/4498287.stm for terms and conditions of reuse.]]></copyright>\\n        <language><![CDATA[en-gb]]></language>\\n        <ttl>15</ttl>\\n        <item>\\n            <title><![CDATA[Firm in data scandal \\'made election boasts\\']]></title>\\n            <description><![CDATA[The company that became Cambridge Analytica boasted about interfering in foreign elections, according to documents seen by the Sunday Politics.]]></description>\\n            <link>https://www.bbc.co.uk/news/uk-politics-43532916</link>\\n            <guid isPermaLink=\"true\">https://www.bbc.co.uk/news/uk-politics-43532916</guid>\\n            <pubDate>Sun, 25 Mar 2018 11:52:46 GMT</pubDate>\\n        </item>\\n        <item>\\n            <title><![CDATA[Hawaii missile alert: False alarm warning broadcast]]></title>\\n            <description><![CDATA[A false missile alert was broadcast in Hawaii urging people to take shelter.]]></description>\\n            <link>https://www.bbc.co.uk/news/world-us-canada-42679614</link>\\n            <guid isPermaLink=\"true\">https://www.bbc.co.uk/news/world-us-canada-42679614</guid>\\n            <pubDate>Sun, 14 Jan 2018 02:40:43 GMT</pubDate>\\n        </item>\\n        <item>\\n            <title><![CDATA[Dealing with debt: The mini-bankers learning how to save]]></title>\\n            <description><![CDATA[Schoolchildren from Kirton Primary in Boston run their own bank with its own currency to learn about saving money.]]></description>\\n            <link>https://www.bbc.co.uk/news/uk-england-42664110</link>\\n            <guid isPermaLink=\"true\">https://www.bbc.co.uk/news/uk-england-42664110</guid>\\n            <pubDate>Sun, 14 Jan 2018 00:46:09 GMT</pubDate>\\n        </item>\\n        <item>\\n            <title><![CDATA[EgyptAir hijack: Man jumps from plane cockpit window]]></title>\\n            <description><![CDATA[A man was filmed jumping from a hijacked EgyptAir plane cockpit window shortly before the hijacker surrendered.]]></description>\\n            <link>https://www.bbc.co.uk/news/world-middle-east-35917663</link>\\n            <guid isPermaLink=\"true\">https://www.bbc.co.uk/news/world-middle-east-35917663</guid>\\n            <pubDate>Tue, 29 Mar 2016 11:46:23 GMT</pubDate>\\n        </item>\\n        <item>\\n            <title><![CDATA[EgyptAir hijack: Cyprus president laughs off hijacking]]></title>\\n            <description><![CDATA[Cyprus President Nicos Anastasiades has said that the hijacking of the plane that landed at Larnaca was not linked to terrorism.]]></description>\\n            <link>https://www.bbc.co.uk/news/world-europe-35915230</link>\\n            <guid isPermaLink=\"true\">https://www.bbc.co.uk/news/world-europe-35915230</guid>\\n            <pubDate>Tue, 29 Mar 2016 10:42:10 GMT</pubDate>\\n        </item>\\n        <item>\\n            <title><![CDATA[Armed man shot by police at US Capitol building]]></title>\\n            <description><![CDATA[Police shot an armed man as he tried to enter the Capitol building visitor centre in Washington DC.]]></description>\\n            <link>https://www.bbc.co.uk/news/world-us-canada-35914581</link>\\n            <guid isPermaLink=\"true\">https://www.bbc.co.uk/news/world-us-canada-35914581</guid>\\n            <pubDate>Tue, 29 Mar 2016 01:29:40 GMT</pubDate>\\n        </item>\\n        <item>\\n            <title><![CDATA[How did FBI unlock dead gunman\\'s iPhone?]]></title>\\n            <description><![CDATA[The FBI has managed to unlock the iPhone of the San Bernardino gunman without Apple\\'s help, ending a court case, the US justice department says.]]></description>\\n            <link>https://www.bbc.co.uk/news/world-us-canada-35913892</link>\\n            <guid isPermaLink=\"true\">https://www.bbc.co.uk/news/world-us-canada-35913892</guid>\\n            <pubDate>Tue, 29 Mar 2016 06:22:51 GMT</pubDate>\\n        </item>\\n        <item>\\n            <title><![CDATA[Library cuts: How flagship building made savings]]></title>\\n            <description><![CDATA[Birmingham\\'s new £189m library had to shed staff and reduce hours within two years of opening.]]></description>\\n            <link>https://www.bbc.co.uk/news/uk-england-35885559</link>\\n            <guid isPermaLink=\"true\">https://www.bbc.co.uk/news/uk-england-35885559</guid>\\n            <pubDate>Mon, 28 Mar 2016 23:00:16 GMT</pubDate>\\n        </item>\\n        <item>\\n            <title><![CDATA[Israel on alert for attacks by Islamic State fighters in Sinai]]></title>\\n            <description><![CDATA[With so-called Islamic State militants active in Egypt\\'s Sinai, Israeli troops are on alert for attacks just across the border.]]></description>\\n            <link>https://www.bbc.co.uk/news/world-middle-east-35914582</link>\\n            <guid isPermaLink=\"true\">https://www.bbc.co.uk/news/world-middle-east-35914582</guid>\\n            <pubDate>Tue, 29 Mar 2016 05:32:26 GMT</pubDate>\\n        </item>\\n        <item>\\n            <title><![CDATA[Fire engulfs tower block in UAE city Ajman]]></title>\\n            <description><![CDATA[A fire has broken out in a tower block in the city of Ajman in the United Arab Emirates.]]></description>\\n            <link>https://www.bbc.co.uk/news/world-us-canada-35913885</link>\\n            <guid isPermaLink=\"true\">https://www.bbc.co.uk/news/world-us-canada-35913885</guid>\\n            <pubDate>Mon, 28 Mar 2016 21:39:52 GMT</pubDate>\\n        </item>\\n        <item>\\n            <title><![CDATA[Inside Aleppo province: On the ground with Kurdish forces fighting IS]]></title>\\n            <description><![CDATA[The BBC gains exclusive access in Aleppo province, where Kurdish forces have seized most of the border with Turkey from Islamic State fighters.]]></description>\\n            <link>https://www.bbc.co.uk/news/world-middle-east-35913890</link>\\n            <guid isPermaLink=\"true\">https://www.bbc.co.uk/news/world-middle-east-35913890</guid>\\n            <pubDate>Tue, 29 Mar 2016 04:08:36 GMT</pubDate>\\n        </item>\\n        <item>\\n            <title><![CDATA[Bouncy castle victim \\'a beautiful angel\\']]></title>\\n            <description><![CDATA[The parents of Summer Grant, seven, who died when the bouncy castle she was playing on blew away have been paying tribute to her.]]></description>\\n            <link>https://www.bbc.co.uk/news/uk-35912050</link>\\n            <guid isPermaLink=\"true\">https://www.bbc.co.uk/news/uk-35912050</guid>\\n            <pubDate>Mon, 28 Mar 2016 19:11:04 GMT</pubDate>\\n        </item>\\n        <item>\\n            <title><![CDATA[What Katie did: Storm damage across London]]></title>\\n            <description><![CDATA[Wind gusts of up to 105 mph (170 kph) from Storm Katie have caused Gatwick-bound flights to be diverted, and damage across London.]]></description>\\n            <link>https://www.bbc.co.uk/news/uk-35910002</link>\\n            <guid isPermaLink=\"true\">https://www.bbc.co.uk/news/uk-35910002</guid>\\n            <pubDate>Mon, 28 Mar 2016 09:47:14 GMT</pubDate>\\n        </item>\\n        <item>\\n            <title><![CDATA[Drone reveals ancient city \\'still standing\\']]></title>\\n            <description><![CDATA[Drone footage has revealed that the ancient city of Palmyra is largely still intact, after being recaptured from so-called Islamic State (IS).]]></description>\\n            <link>https://www.bbc.co.uk/news/world-middle-east-35910551</link>\\n            <guid isPermaLink=\"true\">https://www.bbc.co.uk/news/world-middle-east-35910551</guid>\\n            <pubDate>Mon, 28 Mar 2016 09:19:00 GMT</pubDate>\\n        </item>\\n        <item>\\n            <title><![CDATA[Syria crisis: Refugees \\'fascinated\\' by mobility scooter]]></title>\\n            <description><![CDATA[The BBC\\'s disability news correspondent, Nikki Fox, has been to the camp to see how those with a disability, who are some of the most vulnerable, survive.]]></description>\\n            <link>https://www.bbc.co.uk/news/world-middle-east-35912903</link>\\n            <guid isPermaLink=\"true\">https://www.bbc.co.uk/news/world-middle-east-35912903</guid>\\n            <pubDate>Mon, 28 Mar 2016 17:09:45 GMT</pubDate>\\n        </item>\\n        <item>\\n            <title><![CDATA[Pants for fishing nets: How stranded WW2 crew survived]]></title>\\n            <description><![CDATA[The family of an RAF flight officer relives their father\\'s wartime tale of survival.]]></description>\\n            <link>https://www.bbc.co.uk/news/uk-35911549</link>\\n            <guid isPermaLink=\"true\">https://www.bbc.co.uk/news/uk-35911549</guid>\\n            <pubDate>Mon, 28 Mar 2016 11:31:08 GMT</pubDate>\\n        </item>\\n    </channel>\\n</rss>'"
      ]
     },
     "execution_count": 4,
     "metadata": {},
     "output_type": "execute_result"
    }
   ],
   "source": [
    "path = \"http://feeds.bbci.co.uk/news/video_and_audio/news_front_page/rss.xml\"\n",
    "xml_string = requests.get(path).text\n",
    "xml_string"
   ]
  },
  {
   "cell_type": "code",
   "execution_count": 5,
   "metadata": {},
   "outputs": [],
   "source": [
    "root = et.fromstring(xml_string)"
   ]
  },
  {
   "cell_type": "code",
   "execution_count": 8,
   "metadata": {},
   "outputs": [],
   "source": [
    "items = list(root.findall(\"channel/item\"))"
   ]
  },
  {
   "cell_type": "code",
   "execution_count": 10,
   "metadata": {},
   "outputs": [],
   "source": [
    "item = items[0]"
   ]
  },
  {
   "cell_type": "code",
   "execution_count": 14,
   "metadata": {},
   "outputs": [
    {
     "data": {
      "text/plain": [
       "\"Firm in data scandal 'made election boasts'\""
      ]
     },
     "execution_count": 14,
     "metadata": {},
     "output_type": "execute_result"
    }
   ],
   "source": [
    "item.find(\"title\").text"
   ]
  },
  {
   "cell_type": "code",
   "execution_count": 15,
   "metadata": {},
   "outputs": [
    {
     "data": {
      "text/plain": [
       "'The company that became Cambridge Analytica boasted about interfering in foreign elections, according to documents seen by the Sunday Politics.'"
      ]
     },
     "execution_count": 15,
     "metadata": {},
     "output_type": "execute_result"
    }
   ],
   "source": [
    "item.find(\"description\").text"
   ]
  },
  {
   "cell_type": "code",
   "execution_count": 17,
   "metadata": {},
   "outputs": [
    {
     "data": {
      "text/plain": [
       "'https://www.bbc.co.uk/news/uk-politics-43532916'"
      ]
     },
     "execution_count": 17,
     "metadata": {},
     "output_type": "execute_result"
    }
   ],
   "source": [
    "item.find(\"link\").text"
   ]
  },
  {
   "cell_type": "code",
   "execution_count": 18,
   "metadata": {},
   "outputs": [
    {
     "data": {
      "text/plain": [
       "'https://www.bbc.co.uk/news/uk-politics-43532916'"
      ]
     },
     "execution_count": 18,
     "metadata": {},
     "output_type": "execute_result"
    }
   ],
   "source": [
    "item.find(\"guid\").text"
   ]
  },
  {
   "cell_type": "code",
   "execution_count": 31,
   "metadata": {},
   "outputs": [],
   "source": [
    "guid = item.find(\"guid\")"
   ]
  },
  {
   "cell_type": "code",
   "execution_count": 33,
   "metadata": {},
   "outputs": [
    {
     "data": {
      "text/plain": [
       "'true'"
      ]
     },
     "execution_count": 33,
     "metadata": {},
     "output_type": "execute_result"
    }
   ],
   "source": [
    "guid.attrib[\"isPermaLink\"]"
   ]
  },
  {
   "cell_type": "code",
   "execution_count": 19,
   "metadata": {},
   "outputs": [
    {
     "data": {
      "text/plain": [
       "'Sun, 25 Mar 2018 11:52:46 GMT'"
      ]
     },
     "execution_count": 19,
     "metadata": {},
     "output_type": "execute_result"
    }
   ],
   "source": [
    "item.find(\"pubDate\").text"
   ]
  },
  {
   "cell_type": "code",
   "execution_count": 27,
   "metadata": {},
   "outputs": [],
   "source": [
    "class Article:\n",
    "    title = None\n",
    "    description = None\n",
    "    link = None\n",
    "    guid = None\n",
    "    pubDate = None\n",
    "    \n",
    "    def __repr__(self):\n",
    "        import json\n",
    "        return json.dumps(self.__dict__)"
   ]
  },
  {
   "cell_type": "code",
   "execution_count": 28,
   "metadata": {},
   "outputs": [],
   "source": [
    "articles = []\n",
    "for item in items:\n",
    "    article = Article()\n",
    "    article.title = item.find(\"title\").text\n",
    "    article.description = item.find(\"description\").text\n",
    "    article.link = item.find(\"link\").text\n",
    "    article.guid = item.find(\"guid\").text\n",
    "    article.pubDate = item.find(\"pubDate\").text\n",
    "    articles.append(article)"
   ]
  },
  {
   "cell_type": "code",
   "execution_count": 29,
   "metadata": {},
   "outputs": [
    {
     "data": {
      "text/plain": [
       "[{\"title\": \"Firm in data scandal 'made election boasts'\", \"description\": \"The company that became Cambridge Analytica boasted about interfering in foreign elections, according to documents seen by the Sunday Politics.\", \"link\": \"https://www.bbc.co.uk/news/uk-politics-43532916\", \"guid\": \"https://www.bbc.co.uk/news/uk-politics-43532916\", \"pubDate\": \"Sun, 25 Mar 2018 11:52:46 GMT\"},\n",
       " {\"title\": \"Hawaii missile alert: False alarm warning broadcast\", \"description\": \"A false missile alert was broadcast in Hawaii urging people to take shelter.\", \"link\": \"https://www.bbc.co.uk/news/world-us-canada-42679614\", \"guid\": \"https://www.bbc.co.uk/news/world-us-canada-42679614\", \"pubDate\": \"Sun, 14 Jan 2018 02:40:43 GMT\"},\n",
       " {\"title\": \"Dealing with debt: The mini-bankers learning how to save\", \"description\": \"Schoolchildren from Kirton Primary in Boston run their own bank with its own currency to learn about saving money.\", \"link\": \"https://www.bbc.co.uk/news/uk-england-42664110\", \"guid\": \"https://www.bbc.co.uk/news/uk-england-42664110\", \"pubDate\": \"Sun, 14 Jan 2018 00:46:09 GMT\"},\n",
       " {\"title\": \"EgyptAir hijack: Man jumps from plane cockpit window\", \"description\": \"A man was filmed jumping from a hijacked EgyptAir plane cockpit window shortly before the hijacker surrendered.\", \"link\": \"https://www.bbc.co.uk/news/world-middle-east-35917663\", \"guid\": \"https://www.bbc.co.uk/news/world-middle-east-35917663\", \"pubDate\": \"Tue, 29 Mar 2016 11:46:23 GMT\"},\n",
       " {\"title\": \"EgyptAir hijack: Cyprus president laughs off hijacking\", \"description\": \"Cyprus President Nicos Anastasiades has said that the hijacking of the plane that landed at Larnaca was not linked to terrorism.\", \"link\": \"https://www.bbc.co.uk/news/world-europe-35915230\", \"guid\": \"https://www.bbc.co.uk/news/world-europe-35915230\", \"pubDate\": \"Tue, 29 Mar 2016 10:42:10 GMT\"},\n",
       " {\"title\": \"Armed man shot by police at US Capitol building\", \"description\": \"Police shot an armed man as he tried to enter the Capitol building visitor centre in Washington DC.\", \"link\": \"https://www.bbc.co.uk/news/world-us-canada-35914581\", \"guid\": \"https://www.bbc.co.uk/news/world-us-canada-35914581\", \"pubDate\": \"Tue, 29 Mar 2016 01:29:40 GMT\"},\n",
       " {\"title\": \"How did FBI unlock dead gunman's iPhone?\", \"description\": \"The FBI has managed to unlock the iPhone of the San Bernardino gunman without Apple's help, ending a court case, the US justice department says.\", \"link\": \"https://www.bbc.co.uk/news/world-us-canada-35913892\", \"guid\": \"https://www.bbc.co.uk/news/world-us-canada-35913892\", \"pubDate\": \"Tue, 29 Mar 2016 06:22:51 GMT\"},\n",
       " {\"title\": \"Library cuts: How flagship building made savings\", \"description\": \"Birmingham's new \\u00a3189m library had to shed staff and reduce hours within two years of opening.\", \"link\": \"https://www.bbc.co.uk/news/uk-england-35885559\", \"guid\": \"https://www.bbc.co.uk/news/uk-england-35885559\", \"pubDate\": \"Mon, 28 Mar 2016 23:00:16 GMT\"},\n",
       " {\"title\": \"Israel on alert for attacks by Islamic State fighters in Sinai\", \"description\": \"With so-called Islamic State militants active in Egypt's Sinai, Israeli troops are on alert for attacks just across the border.\", \"link\": \"https://www.bbc.co.uk/news/world-middle-east-35914582\", \"guid\": \"https://www.bbc.co.uk/news/world-middle-east-35914582\", \"pubDate\": \"Tue, 29 Mar 2016 05:32:26 GMT\"},\n",
       " {\"title\": \"Fire engulfs tower block in UAE city Ajman\", \"description\": \"A fire has broken out in a tower block in the city of Ajman in the United Arab Emirates.\", \"link\": \"https://www.bbc.co.uk/news/world-us-canada-35913885\", \"guid\": \"https://www.bbc.co.uk/news/world-us-canada-35913885\", \"pubDate\": \"Mon, 28 Mar 2016 21:39:52 GMT\"},\n",
       " {\"title\": \"Inside Aleppo province: On the ground with Kurdish forces fighting IS\", \"description\": \"The BBC gains exclusive access in Aleppo province, where Kurdish forces have seized most of the border with Turkey from Islamic State fighters.\", \"link\": \"https://www.bbc.co.uk/news/world-middle-east-35913890\", \"guid\": \"https://www.bbc.co.uk/news/world-middle-east-35913890\", \"pubDate\": \"Tue, 29 Mar 2016 04:08:36 GMT\"},\n",
       " {\"title\": \"Bouncy castle victim 'a beautiful angel'\", \"description\": \"The parents of Summer Grant, seven, who died when the bouncy castle she was playing on blew away have been paying tribute to her.\", \"link\": \"https://www.bbc.co.uk/news/uk-35912050\", \"guid\": \"https://www.bbc.co.uk/news/uk-35912050\", \"pubDate\": \"Mon, 28 Mar 2016 19:11:04 GMT\"},\n",
       " {\"title\": \"What Katie did: Storm damage across London\", \"description\": \"Wind gusts of up to 105 mph (170 kph) from Storm Katie have caused Gatwick-bound flights to be diverted, and damage across London.\", \"link\": \"https://www.bbc.co.uk/news/uk-35910002\", \"guid\": \"https://www.bbc.co.uk/news/uk-35910002\", \"pubDate\": \"Mon, 28 Mar 2016 09:47:14 GMT\"},\n",
       " {\"title\": \"Drone reveals ancient city 'still standing'\", \"description\": \"Drone footage has revealed that the ancient city of Palmyra is largely still intact, after being recaptured from so-called Islamic State (IS).\", \"link\": \"https://www.bbc.co.uk/news/world-middle-east-35910551\", \"guid\": \"https://www.bbc.co.uk/news/world-middle-east-35910551\", \"pubDate\": \"Mon, 28 Mar 2016 09:19:00 GMT\"},\n",
       " {\"title\": \"Syria crisis: Refugees 'fascinated' by mobility scooter\", \"description\": \"The BBC's disability news correspondent, Nikki Fox, has been to the camp to see how those with a disability, who are some of the most vulnerable, survive.\", \"link\": \"https://www.bbc.co.uk/news/world-middle-east-35912903\", \"guid\": \"https://www.bbc.co.uk/news/world-middle-east-35912903\", \"pubDate\": \"Mon, 28 Mar 2016 17:09:45 GMT\"},\n",
       " {\"title\": \"Pants for fishing nets: How stranded WW2 crew survived\", \"description\": \"The family of an RAF flight officer relives their father's wartime tale of survival.\", \"link\": \"https://www.bbc.co.uk/news/uk-35911549\", \"guid\": \"https://www.bbc.co.uk/news/uk-35911549\", \"pubDate\": \"Mon, 28 Mar 2016 11:31:08 GMT\"}]"
      ]
     },
     "execution_count": 29,
     "metadata": {},
     "output_type": "execute_result"
    }
   ],
   "source": [
    "articles"
   ]
  },
  {
   "cell_type": "code",
   "execution_count": 35,
   "metadata": {},
   "outputs": [
    {
     "data": {
      "text/plain": [
       "__main__.Article"
      ]
     },
     "execution_count": 35,
     "metadata": {},
     "output_type": "execute_result"
    }
   ],
   "source": [
    "type(articles[0])"
   ]
  },
  {
   "cell_type": "code",
   "execution_count": 36,
   "metadata": {},
   "outputs": [
    {
     "data": {
      "text/plain": [
       "dict"
      ]
     },
     "execution_count": 36,
     "metadata": {},
     "output_type": "execute_result"
    }
   ],
   "source": [
    "type(articles[0].__dict__)"
   ]
  },
  {
   "cell_type": "code",
   "execution_count": 37,
   "metadata": {},
   "outputs": [
    {
     "data": {
      "text/plain": [
       "{'title': \"Firm in data scandal 'made election boasts'\",\n",
       " 'description': 'The company that became Cambridge Analytica boasted about interfering in foreign elections, according to documents seen by the Sunday Politics.',\n",
       " 'link': 'https://www.bbc.co.uk/news/uk-politics-43532916',\n",
       " 'guid': 'https://www.bbc.co.uk/news/uk-politics-43532916',\n",
       " 'pubDate': 'Sun, 25 Mar 2018 11:52:46 GMT'}"
      ]
     },
     "execution_count": 37,
     "metadata": {},
     "output_type": "execute_result"
    }
   ],
   "source": [
    "articles[0].__dict__"
   ]
  },
  {
   "cell_type": "code",
   "execution_count": 39,
   "metadata": {},
   "outputs": [],
   "source": [
    "import json"
   ]
  },
  {
   "cell_type": "code",
   "execution_count": 40,
   "metadata": {},
   "outputs": [
    {
     "data": {
      "text/plain": [
       "'{\"title\": \"Firm in data scandal \\'made election boasts\\'\", \"description\": \"The company that became Cambridge Analytica boasted about interfering in foreign elections, according to documents seen by the Sunday Politics.\", \"link\": \"https://www.bbc.co.uk/news/uk-politics-43532916\", \"guid\": \"https://www.bbc.co.uk/news/uk-politics-43532916\", \"pubDate\": \"Sun, 25 Mar 2018 11:52:46 GMT\"}'"
      ]
     },
     "execution_count": 40,
     "metadata": {},
     "output_type": "execute_result"
    }
   ],
   "source": [
    "json.dumps(articles[0].__dict__)"
   ]
  },
  {
   "cell_type": "code",
   "execution_count": 41,
   "metadata": {},
   "outputs": [],
   "source": [
    "with open(\"/tmp/bbc.json\", \"w\") as f:\n",
    "    for article in articles:\n",
    "        json_str = json.dumps(article.__dict__)\n",
    "        f.write(json_str + \"\\n\")"
   ]
  },
  {
   "cell_type": "code",
   "execution_count": 42,
   "metadata": {},
   "outputs": [],
   "source": [
    "import csv"
   ]
  },
  {
   "cell_type": "code",
   "execution_count": 47,
   "metadata": {},
   "outputs": [
    {
     "data": {
      "text/plain": [
       "[['movieId', 'title', 'genres'],\n",
       " ['1', 'Toy Story (1995)', 'Adventure|Animation|Children|Comedy|Fantasy'],\n",
       " ['2', 'Jumanji (1995)', 'Adventure|Children|Fantasy'],\n",
       " ['3', 'Grumpier Old Men (1995)', 'Comedy|Romance'],\n",
       " ['4', 'Waiting to Exhale (1995)', 'Comedy|Drama|Romance']]"
      ]
     },
     "execution_count": 47,
     "metadata": {},
     "output_type": "execute_result"
    }
   ],
   "source": [
    "with open(\"/data/movielens/movies.csv\") as f:\n",
    "    csv_reader = csv.reader(f)\n",
    "    records = list(csv_reader)\n",
    "records[:5]"
   ]
  },
  {
   "cell_type": "code",
   "execution_count": 48,
   "metadata": {
    "scrolled": false
   },
   "outputs": [
    {
     "data": {
      "text/plain": [
       "[OrderedDict([('movieId', '1'),\n",
       "              ('title', 'Toy Story (1995)'),\n",
       "              ('genres', 'Adventure|Animation|Children|Comedy|Fantasy')]),\n",
       " OrderedDict([('movieId', '2'),\n",
       "              ('title', 'Jumanji (1995)'),\n",
       "              ('genres', 'Adventure|Children|Fantasy')]),\n",
       " OrderedDict([('movieId', '3'),\n",
       "              ('title', 'Grumpier Old Men (1995)'),\n",
       "              ('genres', 'Comedy|Romance')]),\n",
       " OrderedDict([('movieId', '4'),\n",
       "              ('title', 'Waiting to Exhale (1995)'),\n",
       "              ('genres', 'Comedy|Drama|Romance')]),\n",
       " OrderedDict([('movieId', '5'),\n",
       "              ('title', 'Father of the Bride Part II (1995)'),\n",
       "              ('genres', 'Comedy')])]"
      ]
     },
     "execution_count": 48,
     "metadata": {},
     "output_type": "execute_result"
    }
   ],
   "source": [
    "with open(\"/data/movielens/movies.csv\") as f:\n",
    "    csv_reader = csv.DictReader(f)\n",
    "    records = list(csv_reader)\n",
    "records[:5]"
   ]
  },
  {
   "cell_type": "code",
   "execution_count": 49,
   "metadata": {},
   "outputs": [],
   "source": [
    "with open(\"/data/movielens/movies.csv\") as f:\n",
    "    csv_reader = csv.reader(f)\n",
    "    records = list(csv_reader)"
   ]
  },
  {
   "cell_type": "code",
   "execution_count": 50,
   "metadata": {},
   "outputs": [],
   "source": [
    "headers = records[0]"
   ]
  },
  {
   "cell_type": "code",
   "execution_count": 60,
   "metadata": {},
   "outputs": [],
   "source": [
    "def escape_html(text):\n",
    "    text = text.replace(\"&\", \"&amp;\")\n",
    "    text = text.replace(\"<\", \"&lt;\")\n",
    "    text = text.replace(\">\", \"&gt;\")\n",
    "    return text"
   ]
  },
  {
   "cell_type": "code",
   "execution_count": 67,
   "metadata": {},
   "outputs": [],
   "source": [
    "def create_table_row(fields, bgcolor = \"white\"):\n",
    "    tr = '<tr bgcolor=\"{}\">\\n'.format(bgcolor)\n",
    "    for field in fields:\n",
    "        tr += \"\\t<td>{}</td>\\n\".format(escape_html(field))\n",
    "    tr += \"</tr>\"\n",
    "    return tr"
   ]
  },
  {
   "cell_type": "code",
   "execution_count": 68,
   "metadata": {},
   "outputs": [
    {
     "name": "stdout",
     "output_type": "stream",
     "text": [
      "<tr bgcolor=\"white\">\n",
      "\t<td>movieId</td>\n",
      "\t<td>title</td>\n",
      "\t<td>genres</td>\n",
      "</tr>\n"
     ]
    }
   ],
   "source": [
    "print(create_table_row(headers))"
   ]
  },
  {
   "cell_type": "code",
   "execution_count": 73,
   "metadata": {},
   "outputs": [],
   "source": [
    "table = '<table border=\"1\">'\n",
    "for i, record in enumerate(records):\n",
    "    if i == 0:\n",
    "        bgcolor = \"green\"\n",
    "    elif i % 2 == 0:\n",
    "        bgcolor = \"white\"\n",
    "    else:\n",
    "        bgcolor = \"steelblue\"\n",
    "    table += create_table_row(record, bgcolor) + \"\\n\"\n",
    "table+= '</table>'"
   ]
  },
  {
   "cell_type": "code",
   "execution_count": 74,
   "metadata": {},
   "outputs": [
    {
     "data": {
      "text/plain": [
       "983553"
      ]
     },
     "execution_count": 74,
     "metadata": {},
     "output_type": "execute_result"
    }
   ],
   "source": [
    "open(\"/tmp/output.html\", \"w\").write(table)"
   ]
  },
  {
   "cell_type": "code",
   "execution_count": 2,
   "metadata": {},
   "outputs": [
    {
     "data": {
      "text/plain": [
       "983553"
      ]
     },
     "execution_count": 2,
     "metadata": {},
     "output_type": "execute_result"
    }
   ],
   "source": [
    "import csv\n",
    "filename = \"/data/movielens/movies.csv\"\n",
    "\n",
    "with open(filename, encoding=\"utf-8\") as f:\n",
    "    csv_reader = csv.reader(f)\n",
    "    records = list(csv_reader)\n",
    "\n",
    "def escape_html(text):\n",
    "    text = text.replace(\"&\", \"&amp;\")\n",
    "    text = text.replace(\"<\", \"&lt;\")\n",
    "    text = text.replace(\">\", \"&gt;\")\n",
    "    return text\n",
    "    \n",
    "    \n",
    "def create_table_row(fields, bgcolor = \"white\"):\n",
    "    tr = '<tr bgcolor=\"{}\">\\n'.format(bgcolor)\n",
    "    for field in fields:\n",
    "        tr += \"\\t<td>{}</td>\\n\".format(escape_html(field))\n",
    "    tr += \"</tr>\"\n",
    "    return tr\n",
    "    \n",
    "table = '<table border=\"1\">'\n",
    "for i, record in enumerate(records):\n",
    "    if i == 0:\n",
    "        bgcolor = \"green\"\n",
    "    elif i % 2 == 0:\n",
    "        bgcolor = \"white\"\n",
    "    else:\n",
    "        bgcolor = \"steelblue\"\n",
    "    table += create_table_row(record, bgcolor) + \"\\n\"\n",
    "table+= '</table>'\n",
    "\n",
    "\n",
    "open(\"/tmp/output.html\", \"w\").write(table)"
   ]
  },
  {
   "cell_type": "code",
   "execution_count": null,
   "metadata": {},
   "outputs": [],
   "source": []
  }
 ],
 "metadata": {
  "kernelspec": {
   "display_name": "Python 3",
   "language": "python",
   "name": "python3"
  },
  "language_info": {
   "codemirror_mode": {
    "name": "ipython",
    "version": 3
   },
   "file_extension": ".py",
   "mimetype": "text/x-python",
   "name": "python",
   "nbconvert_exporter": "python",
   "pygments_lexer": "ipython3",
   "version": "3.7.3"
  }
 },
 "nbformat": 4,
 "nbformat_minor": 2
}
