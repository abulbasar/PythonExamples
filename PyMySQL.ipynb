{
 "cells": [
  {
   "cell_type": "markdown",
   "metadata": {},
   "source": [
    "### Install pymysql \n",
    "```\n",
    "$ pip install pymysql\n",
    "```"
   ]
  },
  {
   "cell_type": "code",
   "execution_count": 1,
   "metadata": {},
   "outputs": [],
   "source": [
    "import pymysql\n",
    "import pymysql.cursors"
   ]
  },
  {
   "cell_type": "code",
   "execution_count": 24,
   "metadata": {},
   "outputs": [
    {
     "name": "stdout",
     "output_type": "stream",
     "text": [
      "Database version:  {'VERSION()': '8.0.15'}\n"
     ]
    }
   ],
   "source": [
    "\"\"\"\n",
    "View connection properties \n",
    "https://pymysql.readthedocs.io/en/latest/modules/connections.html\n",
    "\"\"\"\n",
    "con = pymysql.connect(host = \"az-demo.c33yjtahjyxw.us-west-2.rds.amazonaws.com\"\n",
    "                      , user = \"admin\"\n",
    "                      , password = \"masterkey\"\n",
    "                      , autocommit=\"True\"\n",
    "                      , charset=\"utf8mb4\"\n",
    "                      , connect_timeout = 3600\n",
    "                      , cursorclass=pymysql.cursors.DictCursor\n",
    "                     )\n",
    "cur = con.cursor()\n",
    "cur.execute(\"SELECT VERSION()\")\n",
    "version = cur.fetchone()\n",
    "print(\"Database version: \", version)"
   ]
  },
  {
   "cell_type": "code",
   "execution_count": 6,
   "metadata": {},
   "outputs": [
    {
     "data": {
      "text/plain": [
       "[{'Database': 'information_schema'},\n",
       " {'Database': 'mysql'},\n",
       " {'Database': 'performance_schema'},\n",
       " {'Database': 'sys'}]"
      ]
     },
     "execution_count": 6,
     "metadata": {},
     "output_type": "execute_result"
    }
   ],
   "source": [
    "cur.execute(\"SHOW DATABASES\")\n",
    "list(cur.fetchall())"
   ]
  },
  {
   "cell_type": "code",
   "execution_count": 7,
   "metadata": {},
   "outputs": [
    {
     "data": {
      "text/plain": [
       "[{'Database': 'information_schema'},\n",
       " {'Database': 'mysql'},\n",
       " {'Database': 'performance_schema'},\n",
       " {'Database': 'stocks'},\n",
       " {'Database': 'sys'}]"
      ]
     },
     "execution_count": 7,
     "metadata": {},
     "output_type": "execute_result"
    }
   ],
   "source": [
    "db_name = \"stocks\"\n",
    "cur.execute(f\"CREATE DATABASE IF NOT EXISTS {db_name} \")\n",
    "cur.execute(\"SHOW DATABASES\")\n",
    "cur.fetchall()"
   ]
  },
  {
   "cell_type": "code",
   "execution_count": 26,
   "metadata": {},
   "outputs": [
    {
     "data": {
      "text/plain": [
       "0"
      ]
     },
     "execution_count": 26,
     "metadata": {},
     "output_type": "execute_result"
    }
   ],
   "source": [
    "cur.execute(\"USE stocks\")"
   ]
  },
  {
   "cell_type": "code",
   "execution_count": 9,
   "metadata": {},
   "outputs": [
    {
     "name": "stderr",
     "output_type": "stream",
     "text": [
      "/anaconda3/lib/python3.7/site-packages/pymysql/cursors.py:329: Warning: (1051, \"Unknown table 'stocks.stock'\")\n",
      "  self._do_get_result()\n"
     ]
    },
    {
     "data": {
      "text/plain": [
       "0"
      ]
     },
     "execution_count": 9,
     "metadata": {},
     "output_type": "execute_result"
    }
   ],
   "source": [
    "cur.execute(\"DROP TABLE IF EXISTS stock\")"
   ]
  },
  {
   "cell_type": "code",
   "execution_count": 10,
   "metadata": {},
   "outputs": [
    {
     "data": {
      "text/plain": [
       "0"
      ]
     },
     "execution_count": 10,
     "metadata": {},
     "output_type": "execute_result"
    }
   ],
   "source": [
    "cur.execute(\"\"\"\n",
    "CREATE TABLE IF NOT EXISTS stock (\n",
    "    id INTEGER PRIMARY KEY AUTO_INCREMENT, \n",
    "    date DATE NOT NULL, \n",
    "    high FLOAT NOT NULL,\n",
    "    low FLOAT NOT NULL,\n",
    "    open FLOAT NOT NULL,\n",
    "    close FLOAT NOT NULL,\n",
    "    adjclose FLOAT NOT NULL,\n",
    "    volume FLOAT NOT NULL,\n",
    "    symbol VARCHAR(50) NOT NULL\n",
    ")\n",
    "\"\"\")"
   ]
  },
  {
   "cell_type": "code",
   "execution_count": 11,
   "metadata": {},
   "outputs": [
    {
     "data": {
      "text/plain": [
       "[{'Tables_in_stocks': 'stock'}]"
      ]
     },
     "execution_count": 11,
     "metadata": {},
     "output_type": "execute_result"
    }
   ],
   "source": [
    "cur.execute(\"SHOW tables\")\n",
    "cur.fetchall()"
   ]
  },
  {
   "cell_type": "code",
   "execution_count": 13,
   "metadata": {},
   "outputs": [
    {
     "data": {
      "text/plain": [
       "()"
      ]
     },
     "execution_count": 13,
     "metadata": {},
     "output_type": "execute_result"
    }
   ],
   "source": [
    "cur.execute(\"select * from stock\")\n",
    "cur.fetchall()"
   ]
  },
  {
   "cell_type": "code",
   "execution_count": 14,
   "metadata": {},
   "outputs": [
    {
     "data": {
      "text/plain": [
       "[OrderedDict([('date', '2000-07-18'),\n",
       "              ('open', '144.8125'),\n",
       "              ('high', '144.828125'),\n",
       "              ('low', '141.4375'),\n",
       "              ('close', '143.0'),\n",
       "              ('volume', '5.06836E7'),\n",
       "              ('adjclose', '50.155473'),\n",
       "              ('symbol', 'INTC')]),\n",
       " OrderedDict([('date', '2000-07-20'),\n",
       "              ('open', '32.93751'),\n",
       "              ('high', '34.25001'),\n",
       "              ('low', '32.8125'),\n",
       "              ('close', '33.75'),\n",
       "              ('volume', '3288300.0'),\n",
       "              ('adjclose', '8.789734'),\n",
       "              ('symbol', 'BEN')]),\n",
       " OrderedDict([('date', '2000-07-24'),\n",
       "              ('open', '64.25'),\n",
       "              ('high', '67.312477'),\n",
       "              ('low', '64.187523'),\n",
       "              ('close', '64.75'),\n",
       "              ('volume', '948800.0'),\n",
       "              ('adjclose', '7.689567'),\n",
       "              ('symbol', 'APH')])]"
      ]
     },
     "execution_count": 14,
     "metadata": {},
     "output_type": "execute_result"
    }
   ],
   "source": [
    "def csv_to_dict(file_name):\n",
    "    import csv\n",
    "    with open(file_name, encoding=\"utf-8\") as f:\n",
    "        rows = list(csv.DictReader(f))\n",
    "        return rows\n",
    "rows = csv_to_dict(\"/data/stocks.small.csv\")\n",
    "rows[:3]"
   ]
  },
  {
   "cell_type": "code",
   "execution_count": 15,
   "metadata": {},
   "outputs": [],
   "source": [
    "for row in rows:\n",
    "    row[\"open\"] = float(row[\"open\"])\n",
    "    row[\"close\"] = float(row[\"close\"])\n",
    "    row[\"high\"] = float(row[\"high\"])\n",
    "    row[\"low\"] = float(row[\"low\"])\n",
    "    row[\"adjclose\"] = float(row[\"adjclose\"])\n",
    "    row[\"volume\"] = float(row[\"volume\"])"
   ]
  },
  {
   "cell_type": "code",
   "execution_count": 16,
   "metadata": {},
   "outputs": [],
   "source": [
    "insertable_rows = [tuple(row.values()) for row in rows]"
   ]
  },
  {
   "cell_type": "code",
   "execution_count": 17,
   "metadata": {},
   "outputs": [
    {
     "data": {
      "text/plain": [
       "('2000-07-18',\n",
       " 144.8125,\n",
       " 144.828125,\n",
       " 141.4375,\n",
       " 143.0,\n",
       " 50683600.0,\n",
       " 50.155473,\n",
       " 'INTC')"
      ]
     },
     "execution_count": 17,
     "metadata": {},
     "output_type": "execute_result"
    }
   ],
   "source": [
    "insertable_rows[0]"
   ]
  },
  {
   "cell_type": "code",
   "execution_count": 18,
   "metadata": {},
   "outputs": [],
   "source": [
    "insert_statement = \"\"\"\n",
    "INSERT INTO stock \n",
    "(date,open,close,high,low,adjclose,volume,symbol) \n",
    "VALUES \n",
    "(%s,%s,%s,%s,%s,%s,%s,%s)\n",
    "\"\"\" "
   ]
  },
  {
   "cell_type": "code",
   "execution_count": 19,
   "metadata": {},
   "outputs": [
    {
     "data": {
      "text/plain": [
       "1"
      ]
     },
     "execution_count": 19,
     "metadata": {},
     "output_type": "execute_result"
    }
   ],
   "source": [
    "cur.execute(insert_statement, tuple(rows[0].values()))"
   ]
  },
  {
   "cell_type": "code",
   "execution_count": 20,
   "metadata": {},
   "outputs": [
    {
     "data": {
      "text/plain": [
       "[{'id': 1,\n",
       "  'date': datetime.date(2000, 7, 18),\n",
       "  'high': 141.438,\n",
       "  'low': 143.0,\n",
       "  'open': 144.812,\n",
       "  'close': 144.828,\n",
       "  'adjclose': 50683600.0,\n",
       "  'volume': 50.1555,\n",
       "  'symbol': 'INTC'}]"
      ]
     },
     "execution_count": 20,
     "metadata": {},
     "output_type": "execute_result"
    }
   ],
   "source": [
    "cur.execute(\"select * from stock\")\n",
    "cur.fetchall()"
   ]
  },
  {
   "cell_type": "code",
   "execution_count": 21,
   "metadata": {},
   "outputs": [
    {
     "data": {
      "text/plain": [
       "1846"
      ]
     },
     "execution_count": 21,
     "metadata": {},
     "output_type": "execute_result"
    }
   ],
   "source": [
    "cur.executemany(insert_statement, insertable_rows)"
   ]
  },
  {
   "cell_type": "code",
   "execution_count": 22,
   "metadata": {
    "scrolled": false
   },
   "outputs": [
    {
     "data": {
      "text/plain": [
       "[{'count(*)': 1847}]"
      ]
     },
     "execution_count": 22,
     "metadata": {},
     "output_type": "execute_result"
    }
   ],
   "source": [
    "cur.execute(\"select count(*) from stock\")\n",
    "cur.fetchall()"
   ]
  },
  {
   "cell_type": "code",
   "execution_count": 23,
   "metadata": {},
   "outputs": [],
   "source": [
    "con.close()"
   ]
  },
  {
   "cell_type": "code",
   "execution_count": null,
   "metadata": {},
   "outputs": [],
   "source": []
  }
 ],
 "metadata": {
  "kernelspec": {
   "display_name": "Python 3",
   "language": "python",
   "name": "python3"
  },
  "language_info": {
   "codemirror_mode": {
    "name": "ipython",
    "version": 3
   },
   "file_extension": ".py",
   "mimetype": "text/x-python",
   "name": "python",
   "nbconvert_exporter": "python",
   "pygments_lexer": "ipython3",
   "version": "3.7.3"
  }
 },
 "nbformat": 4,
 "nbformat_minor": 2
}
