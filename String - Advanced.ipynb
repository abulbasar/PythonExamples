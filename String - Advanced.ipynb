{
 "cells": [
  {
   "cell_type": "code",
   "execution_count": 90,
   "metadata": {},
   "outputs": [],
   "source": [
    "import requests, re\n",
    "from bs4 import BeautifulSoup"
   ]
  },
  {
   "cell_type": "code",
   "execution_count": 29,
   "metadata": {},
   "outputs": [],
   "source": [
    "path = \"https://economictimes.indiatimes.com/lazyloadlistnew.cms?msid=5766568&curpg=3&img=0\"\n",
    "response = requests.get(path)"
   ]
  },
  {
   "cell_type": "code",
   "execution_count": 30,
   "metadata": {},
   "outputs": [
    {
     "data": {
      "text/plain": [
       "<Response [200]>"
      ]
     },
     "execution_count": 30,
     "metadata": {},
     "output_type": "execute_result"
    }
   ],
   "source": [
    "response"
   ]
  },
  {
   "cell_type": "code",
   "execution_count": 31,
   "metadata": {},
   "outputs": [],
   "source": [
    "content = response.text"
   ]
  },
  {
   "cell_type": "code",
   "execution_count": 32,
   "metadata": {},
   "outputs": [
    {
     "data": {
      "text/plain": [
       "'<div class=\"nat_cont\" style=\"display:inline-block;\"><!--esi\\n        <esi:assign name=\"subs_Call\">1</esi:assign>\\n        <esi:assign name=\"ads_Call\">1</esi:assign>\\n        \\n        <esi:choose>\\n    \\t\\t<esi:when test=\"$exists($(HTTP_COOKIE{\\'ticket\\'})) && $exists($(HTTP_COOKIE{\\'et_subs\\'}))\">\\n    \\t\\t    <esi:comment text=\"When the user is logged in and is subscribed\"/>\\n    \\t\\t    <esi:assign name=\"subs_Call\">0</esi:assign>\\n                <esi:assign name=\"ads_Call\">0</esi:assign>\\n            </esi:when>\\n            <esi:when test=\"$exists($(HTTP_COOKIE{\\'ticket\\'})) && !$exists($(HTTP_COOKIE{\\'et_subs\\'}))\">\\n    \\t\\t    <esi:comment text=\"When the user is logged in but unsure if is subscribed or not\"/>\\n    \\t\\t    <esi:assign name=\"subs_Call\">1</esi:assign>\\n                <esi:assign name=\"ads_Call\">-1</esi:assign>\\n            </esi:when>\\n            <esi:when test=\"!$exists($(HTTP_COOKIE{\\'ticket\\'}))\">\\n    \\t\\t    <esi:comment text=\"When the user is logged out\"/>\\n    \\t\\t    <esi:assign name=\"subs_Call\">0</esi:assign>\\n                <esi:assign name=\"ads_Call\">1</esi:assign>\\n            </esi:when>\\n    \\t</esi:choose>\\n    \\t\\n        <esi:choose>\\n    \\t\\t<esi:when test=\"$(subs_Call) == 1\">\\n    \\t\\t\\t<esi:eval src=\"/issubscribed.cms?ticketid=$(HTTP_COOKIE{\\'ticket\\'})\"/>\\n    \\t\\t\\t\\n    \\t\\t\\t<esi:choose>\\n                    <esi:when test=\"$(is_subscribed) == 1\">\\n                        <esi:comment text=\"When the user is subscribed\"/>\\n                        <esi:assign name=\"ads_Call\">0</esi:assign>\\n                    </esi:when>\\n                    <esi:otherwise>\\n                        <esi:assign name=\"ads_Call\">1</esi:assign>\\n            \\t\\t</esi:otherwise>\\n            \\t</esi:choose>\\n    \\t\\t</esi:when>\\n    \\t</esi:choose>\\n        \\n        <esi:choose>\\n            <esi:when test=\"$(ads_Call) == 1\">\\n\\t\\t        <esi:eval src=\"/fetch_native_content.cms?fpc=$url_encode($(HTTP_COOKIE{\\'_col_uuid\\'}))&ab=$url_encode($(HTTP_COOKIE{\\'etd_ace\\'}))&id=$url_encode(\\'129001~4~0,129001~5~0\\')&_t=4&_u=$url_encode($(HTTP_HOST)+$(REQUEST_PATH))&ua=$url_encode($(HTTP_USER_AGENT))&ip=$(REMOTE_ADDR)&_v=0&dpv=0&r=$rand()\" dca=\"esi\"/>\\n\\t\\t        \\n\\t\\t        \\n        \\n        \\t\\t<esi:choose>\\n                    <esi:when test=\"$exists($(native_content{\\'_col_ab_call\\'}))\"> \\n        \\t\\t        $(native_content{\\'_col_ab_call\\'})\\n                    </esi:when>\\n                </esi:choose> \\n            </esi:when>\\n        </esi:choose>\\n        --></div><!--/caller_native_content.cms?urlEncodeIDs=129001~4~0,129001~5~0&removens=1&pageView=0&dynPage=1potime:2--><div class=\"eachStory\"><h3><a href=\"/markets/stocks/earnings/maruti-suzuki-q1-profit-slumps-27-yoy-to-rs-1436-crore-on-18-drop-in-volumes/articleshow/70393331.cms\">Maruti Suzuki Q1 profit slumps 27% YoY to Rs 1,436 crore on 18% drop in volumes</a></h3><time class=\"date-format\" data-time=\"Jul 26, 2019, 01:49 PM IST\">Jul 26, 2019, 01:49 PM IST</time><p>Net sales for the quarter fell 14.1 per cent to Rs 18,735.20 crore on a yearly basis.</p></div><div class=\"eachStory\"><h3><a href=\"/markets/stocks/earnings/pnb-posts-surprise-rs-1019-crore-profit-in-q1-as-provisions-plunge-65-yoy/articleshow/70393038.cms\">PNB posts surprise Rs 1,019 crore profit in Q1 as provisions plunge 65% YoY</a></h3><time class=\"date-format\" data-time=\"Jul 26, 2019, 01:34 PM IST\">Jul 26, 2019, 01:34 PM IST</time><p>Asset quality deteriorated with percentage of GNPAs rising to 16.49% against 15.50% QoQ.</p></div><div class=\"eachStory\"><h3><a href=\"/markets/stocks/earnings/airtel-africa-quarterly-profit-more-than-doubles-in-first-public-report/articleshow/70392808.cms\">Airtel Africa Q1 net profit up 40% on year</a></h3><time class=\"date-format\" data-time=\"Jul 26, 2019, 01:13 PM IST\">Jul 26, 2019, 01:13 PM IST</time><p>Airtel Africa&rsquo;s data revenue was up 36 per cent to $207.1 million.</p></div><!--nat_cont-->\\n<!--esi\\n<esi:choose>\\n<esi:when test=\"$exists($(native_content{\\'129001~4~0\\'}))\">\\n$(native_content{\\'129001~4~0\\'})\\n</esi:when>\\n</esi:choose>\\n-->\\n<!--/insert_native_content.cms?contentID=\\'129001~4~0\\'&removens=1&pageView=0potime:1--><div class=\"eachStory\"><h3><a href=\"/markets/stocks/earnings/bajaj-autos-margins-contract-in-q1-key-takeaways/articleshow/70392741.cms\">Bajaj Auto&rsquo;s margins contract in Q1; key takeaways</a></h3><time class=\"date-format\" data-time=\"Jul 26, 2019, 01:09 PM IST\">Jul 26, 2019, 01:09 PM IST</time><p>Margins took a beating, falling to 16.1 per cent from 18.3 per cent. </p></div><div class=\"eachStory\"><h3><a href=\"/markets/stocks/earnings/bajaj-auto-q1-profit-flat-at-rs-1126-crore-beats-street-estimates/articleshow/70392238.cms\">Bajaj Auto Q1 profit flat at Rs 1,126 crore, beats Street estimates</a></h3><time class=\"date-format\" data-time=\"Jul 26, 2019, 12:41 PM IST\">Jul 26, 2019, 12:41 PM IST</time><p>Overall share in the domestic motorcycle market stood at 18.3 per cent against 16.3 per cent.</p></div><div class=\"eachStory\"><h3><a href=\"/markets/stocks/earnings/alphabets-revenue-rebounds-easing-doubts-on-growth-and-boosting-shares/articleshow/70389800.cms\">Alphabet\\'s revenue rebounds; easing doubts on growth and boosting shares</a></h3><time class=\"date-format\" data-time=\"Jul 26, 2019, 09:43 AM IST\">Jul 26, 2019, 09:43 AM IST</time><p>Driven by ad sales, second-quarter revenue and earnings beat analysts\\' expectations.</p></div><div class=\"eachStory\"><h3><a href=\"/markets/stocks/earnings/amazons-push-for-one-day-delivery-dents-profits-costs-up-21/articleshow/70389706.cms\">Amazon\\'s push for one-day delivery dents profits, costs up 21%</a></h3><time class=\"date-format\" data-time=\"Jul 26, 2019, 09:34 AM IST\">Jul 26, 2019, 09:34 AM IST</time><p>\"We\\'re growing faster than anyone\" on a dollar basis, said CFO Olsavsky.</p></div><div class=\"eachStory\"><h3><a href=\"/markets/stocks/earnings/mphasis-q1-profit-up-2-4-at-rs-265-crore/articleshow/70383694.cms\">Mphasis Q1 profit up 2.4% at Rs 265 crore</a></h3><time class=\"date-format\" data-time=\"Jul 25, 2019, 09:15 PM IST\">Jul 25, 2019, 09:15 PM IST</time><p>Revenue from operations increased 13.3 per cent to Rs 2,062.5 crore.</p></div><div class=\"eachStory\"><h3><a href=\"/markets/stocks/earnings/biocon-q1-profit-surges-72-to-rs-206-crore/articleshow/70383626.cms\">Biocon Q1 profit surges 72% to Rs 206 crore</a></h3><time class=\"date-format\" data-time=\"Jul 25, 2019, 09:10 PM IST\">Jul 25, 2019, 09:10 PM IST</time><p>Consolidated total income of the company stood at Rs 1,490 crore for the quarter under consideration.</p></div><div class=\"eachStory\"><h3><a href=\"/markets/stocks/earnings/bank-of-baroda-q1-profit-at-rs-826-crore/articleshow/70382997.cms\">Bank of Baroda Q1 profit at Rs 826 crore</a></h3><time class=\"date-format\" data-time=\"Jul 25, 2019, 08:26 PM IST\">Jul 25, 2019, 08:26 PM IST</time><p>This is the lender\\'s first earnings announcement after it merged Dena Bank and Vijaya Bank with itself.</p></div><div class=\"eachStory\"><h3><a href=\"/markets/stocks/earnings/bajaj-finserv-q1-check-out-the-key-highlights/articleshow/70382457.cms\">Bajaj Finserv Q1: Check out the key highlights</a></h3><time class=\"date-format\" data-time=\"Jul 25, 2019, 07:46 PM IST\">Jul 25, 2019, 07:46 PM IST</time><p>Consolidated total income increased 39.92 per cent to Rs 12,272.26 crore during the quarter.</p></div><div class=\"eachStory\"><h3><a href=\"/markets/stocks/earnings/tata-motors-posts-wider-than-expected-loss-in-q1-key-takeaways/articleshow/70380820.cms\">Tata Motors posts wider-than-expected loss in Q1; key takeaways</a></h3><time class=\"date-format\" data-time=\"Jul 25, 2019, 06:11 PM IST\">Jul 25, 2019, 06:11 PM IST</time><p>JLR reported 11.6 per cent decline in global retail sales to 128,615 vehicles for the quarter.</p></div><div class=\"eachStory\"><h3><a href=\"/markets/stocks/earnings/bajaj-finserv-posts-2-rise-in-q1-profit-at-rs-845-crore/articleshow/70380476.cms\">Bajaj Finserv posts 2% rise in Q1 profit at Rs 845 crore</a></h3><time class=\"date-format\" data-time=\"Jul 25, 2019, 05:35 PM IST\">Jul 25, 2019, 05:35 PM IST</time><p>Bajaj Finserv is the holding company for the various financial services businesses under the Bajaj group.</p></div><!--nat_cont-->\\n<!--esi\\n<esi:choose>\\n<esi:when test=\"$exists($(native_content{\\'129001~5~0\\'}))\">\\n$(native_content{\\'129001~5~0\\'})\\n</esi:when>\\n</esi:choose>\\n-->\\n<!--/insert_native_content.cms?contentID=\\'129001~5~0\\'&removens=1&pageView=0potime:2--><div class=\"eachStory\"><h3><a href=\"/markets/stocks/earnings/tata-motors-q1-loss-doubles-to-rs-3680-crore-as-jlr-woes-continue/articleshow/70379191.cms\">Tata Motors Q1 loss doubles to Rs 3,680 crore as JLR woes continue</a></h3><time class=\"date-format\" data-time=\"Jul 25, 2019, 04:28 PM IST\">Jul 25, 2019, 04:28 PM IST</time><p>JLR reported a pre-tax loss of 395 million pounds compared with 264 million pounds loss YoY.</p></div><div class=\"eachStory\"><h3><a href=\"/markets/stocks/earnings/maruti-suzuki-q1-preview-analysts-expect-big-drop-in-profit-on-low-volumes/articleshow/70378489.cms\">Maruti Suzuki Q1 preview: Analysts expect big drop in profit on low volumes</a></h3><time class=\"date-format\" data-time=\"Jul 25, 2019, 03:33 PM IST\">Jul 25, 2019, 03:33 PM IST</time><p>Higher discounts and industry-wide slowdown set to take a toll on Maruiti&rsquo;s margins.</p></div><div class=\"eachStory\"><h3><a href=\"/markets/stocks/earnings/bajaj-auto-q1-results-profit-may-fall-2-3-on-tepid-volumes-ev-strategy-eyed/articleshow/70378443.cms\">Bajaj Auto Q1 results: Profit may fall 2-3% on tepid volumes; EV strategy eyed</a></h3><time class=\"date-format\" data-time=\"Jul 25, 2019, 03:31 PM IST\">Jul 25, 2019, 03:31 PM IST</time><p>Karvy Stock Broking expects a 3.8 per cent drop in profit at Rs 1,072.80 crore.</p></div><!--esi\\n                    <esi:choose>\\n                        <esi:when test=\"$exists($(native_content{\\'_col_up\\'})) && ($exists($(native_content{\\'129001~4~0\\'})) || $exists($(native_content{\\'129001~5~0\\'})))\">\\n                            <script>\\n                                var e_x = \\'129001~4 = $exists($(native_content{\\'129001~4~0\\'})), 129001~5 = $exists($(native_content{\\'129001~5~0\\'}))\\';\\n                                if(window.canRun === undefined || window.canRun == false){\\n                                    <esi:text>$(\\'div[id^=\"div-gpt\"]\\').hide();</esi:text>\\n                                }\\n                            </script>\\n                        </esi:when>\\n                        <esi:when test=\"!$exists($(native_content{\\'_col_up\\'}))\">\\n                            <script>\\n                                ga(\\'send\\', \\'event\\', \\'e_usfl\\', \\'yes\\', \\'e_usfl\\', 1);\\n                            </script>\\n                        </esi:when>\\n                   </esi:choose>-->'"
      ]
     },
     "execution_count": 32,
     "metadata": {},
     "output_type": "execute_result"
    }
   ],
   "source": [
    "content"
   ]
  },
  {
   "cell_type": "code",
   "execution_count": 33,
   "metadata": {},
   "outputs": [],
   "source": [
    "soup = BeautifulSoup(content, 'html.parser')"
   ]
  },
  {
   "cell_type": "code",
   "execution_count": 34,
   "metadata": {
    "scrolled": true
   },
   "outputs": [
    {
     "name": "stdout",
     "output_type": "stream",
     "text": [
      "<div class=\"nat_cont\" style=\"display:inline-block;\">\n",
      " <!--esi\n",
      "        <esi:assign name=\"subs_Call\">1</esi:assign>\n",
      "        <esi:assign name=\"ads_Call\">1</esi:assign>\n",
      "        \n",
      "        <esi:choose>\n",
      "    \t\t<esi:when test=\"$exists($(HTTP_COOKIE{'ticket'})) && $exists($(HTTP_COOKIE{'et_subs'}))\">\n",
      "    \t\t    <esi:comment text=\"When the user is logged in and is subscribed\"/>\n",
      "    \t\t    <esi:assign name=\"subs_Call\">0</esi:assign>\n",
      "                <esi:assign name=\"ads_Call\">0</esi:assign>\n",
      "            </esi:when>\n",
      "            <esi:when test=\"$exists($(HTTP_COOKIE{'ticket'})) && !$exists($(HTTP_COOKIE{'et_subs'}))\">\n",
      "    \t\t    <esi:comment text=\"When the user is logged in but unsure if is subscribed or not\"/>\n",
      "    \t\t    <esi:assign name=\"subs_Call\">1</esi:assign>\n",
      "                <esi:assign name=\"ads_Call\">-1</esi:assign>\n",
      "            </esi:when>\n",
      "            <esi:when test=\"!$exists($(HTTP_COOKIE{'ticket'}))\">\n",
      "    \t\t    <esi:comment text=\"When the user is logged out\"/>\n",
      "    \t\t    <esi:assign name=\"subs_Call\">0</esi:assign>\n",
      "                <esi:assign name=\"ads_Call\">1</esi:assign>\n",
      "            </esi:when>\n",
      "    \t</esi:choose>\n",
      "    \t\n",
      "        <esi:choose>\n",
      "    \t\t<esi:when test=\"$(subs_Call) == 1\">\n",
      "    \t\t\t<esi:eval src=\"/issubscribed.cms?ticketid=$(HTTP_COOKIE{'ticket'})\"/>\n",
      "    \t\t\t\n",
      "    \t\t\t<esi:choose>\n",
      "                    <esi:when test=\"$(is_subscribed) == 1\">\n",
      "                        <esi:comment text=\"When the user is subscribed\"/>\n",
      "                        <esi:assign name=\"ads_Call\">0</esi:assign>\n",
      "                    </esi:when>\n",
      "                    <esi:otherwise>\n",
      "                        <esi:assign name=\"ads_Call\">1</esi:assign>\n",
      "            \t\t</esi:otherwise>\n",
      "            \t</esi:choose>\n",
      "    \t\t</esi:when>\n",
      "    \t</esi:choose>\n",
      "        \n",
      "        <esi:choose>\n",
      "            <esi:when test=\"$(ads_Call) == 1\">\n",
      "\t\t        <esi:eval src=\"/fetch_native_content.cms?fpc=$url_encode($(HTTP_COOKIE{'_col_uuid'}))&ab=$url_encode($(HTTP_COOKIE{'etd_ace'}))&id=$url_encode('129001~4~0,129001~5~0')&_t=4&_u=$url_encode($(HTTP_HOST)+$(REQUEST_PATH))&ua=$url_encode($(HTTP_USER_AGENT))&ip=$(REMOTE_ADDR)&_v=0&dpv=0&r=$rand()\" dca=\"esi\"/>\n",
      "\t\t        \n",
      "\t\t        \n",
      "        \n",
      "        \t\t<esi:choose>\n",
      "                    <esi:when test=\"$exists($(native_content{'_col_ab_call'}))\"> \n",
      "        \t\t        $(native_content{'_col_ab_call'})\n",
      "                    </esi:when>\n",
      "                </esi:choose> \n",
      "            </esi:when>\n",
      "        </esi:choose>\n",
      "        -->\n",
      "</div>\n",
      "<!--/caller_native_content.cms?urlEncodeIDs=129001~4~0,129001~5~0&removens=1&pageView=0&dynPage=1potime:2-->\n",
      "<div class=\"eachStory\">\n",
      " <h3>\n",
      "  <a href=\"/markets/stocks/earnings/maruti-suzuki-q1-profit-slumps-27-yoy-to-rs-1436-crore-on-18-drop-in-volumes/articleshow/70393331.cms\">\n",
      "   Maruti Suzuki Q1 profit slumps 27% YoY to Rs 1,436 crore on 18% drop in volumes\n",
      "  </a>\n",
      " </h3>\n",
      " <time class=\"date-format\" data-time=\"Jul 26, 2019, 01:49 PM IST\">\n",
      "  Jul 26, 2019, 01:49 PM IST\n",
      " </time>\n",
      " <p>\n",
      "  Net sales for the quarter fell 14.1 per cent to Rs 18,735.20 crore on a yearly basis.\n",
      " </p>\n",
      "</div>\n",
      "<div class=\"eachStory\">\n",
      " <h3>\n",
      "  <a href=\"/markets/stocks/earnings/pnb-posts-surprise-rs-1019-crore-profit-in-q1-as-provisions-plunge-65-yoy/articleshow/70393038.cms\">\n",
      "   PNB posts surprise Rs 1,019 crore profit in Q1 as provisions plunge 65% YoY\n",
      "  </a>\n",
      " </h3>\n",
      " <time class=\"date-format\" data-time=\"Jul 26, 2019, 01:34 PM IST\">\n",
      "  Jul 26, 2019, 01:34 PM IST\n",
      " </time>\n",
      " <p>\n",
      "  Asset quality deteriorated with percentage of GNPAs rising to 16.49% against 15.50% QoQ.\n",
      " </p>\n",
      "</div>\n",
      "<div class=\"eachStory\">\n",
      " <h3>\n",
      "  <a href=\"/markets/stocks/earnings/airtel-africa-quarterly-profit-more-than-doubles-in-first-public-report/articleshow/70392808.cms\">\n",
      "   Airtel Africa Q1 net profit up 40% on year\n",
      "  </a>\n",
      " </h3>\n",
      " <time class=\"date-format\" data-time=\"Jul 26, 2019, 01:13 PM IST\">\n",
      "  Jul 26, 2019, 01:13 PM IST\n",
      " </time>\n",
      " <p>\n",
      "  Airtel Africa’s data revenue was up 36 per cent to $207.1 million.\n",
      " </p>\n",
      "</div>\n",
      "<!--nat_cont-->\n",
      "<!--esi\n",
      "<esi:choose>\n",
      "<esi:when test=\"$exists($(native_content{'129001~4~0'}))\">\n",
      "$(native_content{'129001~4~0'})\n",
      "</esi:when>\n",
      "</esi:choose>\n",
      "-->\n",
      "<!--/insert_native_content.cms?contentID='129001~4~0'&removens=1&pageView=0potime:1-->\n",
      "<div class=\"eachStory\">\n",
      " <h3>\n",
      "  <a href=\"/markets/stocks/earnings/bajaj-autos-margins-contract-in-q1-key-takeaways/articleshow/70392741.cms\">\n",
      "   Bajaj Auto’s margins contract in Q1; key takeaways\n",
      "  </a>\n",
      " </h3>\n",
      " <time class=\"date-format\" data-time=\"Jul 26, 2019, 01:09 PM IST\">\n",
      "  Jul 26, 2019, 01:09 PM IST\n",
      " </time>\n",
      " <p>\n",
      "  Margins took a beating, falling to 16.1 per cent from 18.3 per cent.\n",
      " </p>\n",
      "</div>\n",
      "<div class=\"eachStory\">\n",
      " <h3>\n",
      "  <a href=\"/markets/stocks/earnings/bajaj-auto-q1-profit-flat-at-rs-1126-crore-beats-street-estimates/articleshow/70392238.cms\">\n",
      "   Bajaj Auto Q1 profit flat at Rs 1,126 crore, beats Street estimates\n",
      "  </a>\n",
      " </h3>\n",
      " <time class=\"date-format\" data-time=\"Jul 26, 2019, 12:41 PM IST\">\n",
      "  Jul 26, 2019, 12:41 PM IST\n",
      " </time>\n",
      " <p>\n",
      "  Overall share in the domestic motorcycle market stood at 18.3 per cent against 16.3 per cent.\n",
      " </p>\n",
      "</div>\n",
      "<div class=\"eachStory\">\n",
      " <h3>\n",
      "  <a href=\"/markets/stocks/earnings/alphabets-revenue-rebounds-easing-doubts-on-growth-and-boosting-shares/articleshow/70389800.cms\">\n",
      "   Alphabet's revenue rebounds; easing doubts on growth and boosting shares\n",
      "  </a>\n",
      " </h3>\n",
      " <time class=\"date-format\" data-time=\"Jul 26, 2019, 09:43 AM IST\">\n",
      "  Jul 26, 2019, 09:43 AM IST\n",
      " </time>\n",
      " <p>\n",
      "  Driven by ad sales, second-quarter revenue and earnings beat analysts' expectations.\n",
      " </p>\n",
      "</div>\n",
      "<div class=\"eachStory\">\n",
      " <h3>\n",
      "  <a href=\"/markets/stocks/earnings/amazons-push-for-one-day-delivery-dents-profits-costs-up-21/articleshow/70389706.cms\">\n",
      "   Amazon's push for one-day delivery dents profits, costs up 21%\n",
      "  </a>\n",
      " </h3>\n",
      " <time class=\"date-format\" data-time=\"Jul 26, 2019, 09:34 AM IST\">\n",
      "  Jul 26, 2019, 09:34 AM IST\n",
      " </time>\n",
      " <p>\n",
      "  \"We're growing faster than anyone\" on a dollar basis, said CFO Olsavsky.\n",
      " </p>\n",
      "</div>\n",
      "<div class=\"eachStory\">\n",
      " <h3>\n",
      "  <a href=\"/markets/stocks/earnings/mphasis-q1-profit-up-2-4-at-rs-265-crore/articleshow/70383694.cms\">\n",
      "   Mphasis Q1 profit up 2.4% at Rs 265 crore\n",
      "  </a>\n",
      " </h3>\n",
      " <time class=\"date-format\" data-time=\"Jul 25, 2019, 09:15 PM IST\">\n",
      "  Jul 25, 2019, 09:15 PM IST\n",
      " </time>\n",
      " <p>\n",
      "  Revenue from operations increased 13.3 per cent to Rs 2,062.5 crore.\n",
      " </p>\n",
      "</div>\n",
      "<div class=\"eachStory\">\n",
      " <h3>\n",
      "  <a href=\"/markets/stocks/earnings/biocon-q1-profit-surges-72-to-rs-206-crore/articleshow/70383626.cms\">\n",
      "   Biocon Q1 profit surges 72% to Rs 206 crore\n",
      "  </a>\n",
      " </h3>\n",
      " <time class=\"date-format\" data-time=\"Jul 25, 2019, 09:10 PM IST\">\n",
      "  Jul 25, 2019, 09:10 PM IST\n",
      " </time>\n",
      " <p>\n",
      "  Consolidated total income of the company stood at Rs 1,490 crore for the quarter under consideration.\n",
      " </p>\n",
      "</div>\n",
      "<div class=\"eachStory\">\n",
      " <h3>\n",
      "  <a href=\"/markets/stocks/earnings/bank-of-baroda-q1-profit-at-rs-826-crore/articleshow/70382997.cms\">\n",
      "   Bank of Baroda Q1 profit at Rs 826 crore\n",
      "  </a>\n",
      " </h3>\n",
      " <time class=\"date-format\" data-time=\"Jul 25, 2019, 08:26 PM IST\">\n",
      "  Jul 25, 2019, 08:26 PM IST\n",
      " </time>\n",
      " <p>\n",
      "  This is the lender's first earnings announcement after it merged Dena Bank and Vijaya Bank with itself.\n",
      " </p>\n",
      "</div>\n",
      "<div class=\"eachStory\">\n",
      " <h3>\n",
      "  <a href=\"/markets/stocks/earnings/bajaj-finserv-q1-check-out-the-key-highlights/articleshow/70382457.cms\">\n",
      "   Bajaj Finserv Q1: Check out the key highlights\n",
      "  </a>\n",
      " </h3>\n",
      " <time class=\"date-format\" data-time=\"Jul 25, 2019, 07:46 PM IST\">\n",
      "  Jul 25, 2019, 07:46 PM IST\n",
      " </time>\n",
      " <p>\n",
      "  Consolidated total income increased 39.92 per cent to Rs 12,272.26 crore during the quarter.\n",
      " </p>\n",
      "</div>\n",
      "<div class=\"eachStory\">\n",
      " <h3>\n",
      "  <a href=\"/markets/stocks/earnings/tata-motors-posts-wider-than-expected-loss-in-q1-key-takeaways/articleshow/70380820.cms\">\n",
      "   Tata Motors posts wider-than-expected loss in Q1; key takeaways\n",
      "  </a>\n",
      " </h3>\n",
      " <time class=\"date-format\" data-time=\"Jul 25, 2019, 06:11 PM IST\">\n",
      "  Jul 25, 2019, 06:11 PM IST\n",
      " </time>\n",
      " <p>\n",
      "  JLR reported 11.6 per cent decline in global retail sales to 128,615 vehicles for the quarter.\n",
      " </p>\n",
      "</div>\n",
      "<div class=\"eachStory\">\n",
      " <h3>\n",
      "  <a href=\"/markets/stocks/earnings/bajaj-finserv-posts-2-rise-in-q1-profit-at-rs-845-crore/articleshow/70380476.cms\">\n",
      "   Bajaj Finserv posts 2% rise in Q1 profit at Rs 845 crore\n",
      "  </a>\n",
      " </h3>\n",
      " <time class=\"date-format\" data-time=\"Jul 25, 2019, 05:35 PM IST\">\n",
      "  Jul 25, 2019, 05:35 PM IST\n",
      " </time>\n",
      " <p>\n",
      "  Bajaj Finserv is the holding company for the various financial services businesses under the Bajaj group.\n",
      " </p>\n",
      "</div>\n",
      "<!--nat_cont-->\n",
      "<!--esi\n",
      "<esi:choose>\n",
      "<esi:when test=\"$exists($(native_content{'129001~5~0'}))\">\n",
      "$(native_content{'129001~5~0'})\n",
      "</esi:when>\n",
      "</esi:choose>\n",
      "-->\n",
      "<!--/insert_native_content.cms?contentID='129001~5~0'&removens=1&pageView=0potime:2-->\n",
      "<div class=\"eachStory\">\n",
      " <h3>\n",
      "  <a href=\"/markets/stocks/earnings/tata-motors-q1-loss-doubles-to-rs-3680-crore-as-jlr-woes-continue/articleshow/70379191.cms\">\n",
      "   Tata Motors Q1 loss doubles to Rs 3,680 crore as JLR woes continue\n",
      "  </a>\n",
      " </h3>\n",
      " <time class=\"date-format\" data-time=\"Jul 25, 2019, 04:28 PM IST\">\n",
      "  Jul 25, 2019, 04:28 PM IST\n",
      " </time>\n",
      " <p>\n",
      "  JLR reported a pre-tax loss of 395 million pounds compared with 264 million pounds loss YoY.\n",
      " </p>\n",
      "</div>\n",
      "<div class=\"eachStory\">\n",
      " <h3>\n",
      "  <a href=\"/markets/stocks/earnings/maruti-suzuki-q1-preview-analysts-expect-big-drop-in-profit-on-low-volumes/articleshow/70378489.cms\">\n",
      "   Maruti Suzuki Q1 preview: Analysts expect big drop in profit on low volumes\n",
      "  </a>\n",
      " </h3>\n",
      " <time class=\"date-format\" data-time=\"Jul 25, 2019, 03:33 PM IST\">\n",
      "  Jul 25, 2019, 03:33 PM IST\n",
      " </time>\n",
      " <p>\n",
      "  Higher discounts and industry-wide slowdown set to take a toll on Maruiti’s margins.\n",
      " </p>\n",
      "</div>\n",
      "<div class=\"eachStory\">\n",
      " <h3>\n",
      "  <a href=\"/markets/stocks/earnings/bajaj-auto-q1-results-profit-may-fall-2-3-on-tepid-volumes-ev-strategy-eyed/articleshow/70378443.cms\">\n",
      "   Bajaj Auto Q1 results: Profit may fall 2-3% on tepid volumes; EV strategy eyed\n",
      "  </a>\n",
      " </h3>\n",
      " <time class=\"date-format\" data-time=\"Jul 25, 2019, 03:31 PM IST\">\n",
      "  Jul 25, 2019, 03:31 PM IST\n",
      " </time>\n",
      " <p>\n",
      "  Karvy Stock Broking expects a 3.8 per cent drop in profit at Rs 1,072.80 crore.\n",
      " </p>\n",
      "</div>\n",
      "<!--esi\n",
      "                    <esi:choose>\n",
      "                        <esi:when test=\"$exists($(native_content{'_col_up'})) && ($exists($(native_content{'129001~4~0'})) || $exists($(native_content{'129001~5~0'})))\">\n",
      "                            <script>\n",
      "                                var e_x = '129001~4 = $exists($(native_content{'129001~4~0'})), 129001~5 = $exists($(native_content{'129001~5~0'}))';\n",
      "                                if(window.canRun === undefined || window.canRun == false){\n",
      "                                    <esi:text>$('div[id^=\"div-gpt\"]').hide();</esi:text>\n",
      "                                }\n",
      "                            </script>\n",
      "                        </esi:when>\n",
      "                        <esi:when test=\"!$exists($(native_content{'_col_up'}))\">\n",
      "                            <script>\n",
      "                                ga('send', 'event', 'e_usfl', 'yes', 'e_usfl', 1);\n",
      "                            </script>\n",
      "                        </esi:when>\n",
      "                   </esi:choose>-->\n",
      "\n"
     ]
    }
   ],
   "source": [
    "print(soup.prettify())"
   ]
  },
  {
   "cell_type": "code",
   "execution_count": 37,
   "metadata": {
    "scrolled": true
   },
   "outputs": [
    {
     "data": {
      "text/plain": [
       "[<div class=\"eachStory\"><h3><a href=\"/markets/stocks/earnings/maruti-suzuki-q1-profit-slumps-27-yoy-to-rs-1436-crore-on-18-drop-in-volumes/articleshow/70393331.cms\">Maruti Suzuki Q1 profit slumps 27% YoY to Rs 1,436 crore on 18% drop in volumes</a></h3><time class=\"date-format\" data-time=\"Jul 26, 2019, 01:49 PM IST\">Jul 26, 2019, 01:49 PM IST</time><p>Net sales for the quarter fell 14.1 per cent to Rs 18,735.20 crore on a yearly basis.</p></div>,\n",
       " <div class=\"eachStory\"><h3><a href=\"/markets/stocks/earnings/pnb-posts-surprise-rs-1019-crore-profit-in-q1-as-provisions-plunge-65-yoy/articleshow/70393038.cms\">PNB posts surprise Rs 1,019 crore profit in Q1 as provisions plunge 65% YoY</a></h3><time class=\"date-format\" data-time=\"Jul 26, 2019, 01:34 PM IST\">Jul 26, 2019, 01:34 PM IST</time><p>Asset quality deteriorated with percentage of GNPAs rising to 16.49% against 15.50% QoQ.</p></div>,\n",
       " <div class=\"eachStory\"><h3><a href=\"/markets/stocks/earnings/airtel-africa-quarterly-profit-more-than-doubles-in-first-public-report/articleshow/70392808.cms\">Airtel Africa Q1 net profit up 40% on year</a></h3><time class=\"date-format\" data-time=\"Jul 26, 2019, 01:13 PM IST\">Jul 26, 2019, 01:13 PM IST</time><p>Airtel Africa’s data revenue was up 36 per cent to $207.1 million.</p></div>,\n",
       " <div class=\"eachStory\"><h3><a href=\"/markets/stocks/earnings/bajaj-autos-margins-contract-in-q1-key-takeaways/articleshow/70392741.cms\">Bajaj Auto’s margins contract in Q1; key takeaways</a></h3><time class=\"date-format\" data-time=\"Jul 26, 2019, 01:09 PM IST\">Jul 26, 2019, 01:09 PM IST</time><p>Margins took a beating, falling to 16.1 per cent from 18.3 per cent. </p></div>,\n",
       " <div class=\"eachStory\"><h3><a href=\"/markets/stocks/earnings/bajaj-auto-q1-profit-flat-at-rs-1126-crore-beats-street-estimates/articleshow/70392238.cms\">Bajaj Auto Q1 profit flat at Rs 1,126 crore, beats Street estimates</a></h3><time class=\"date-format\" data-time=\"Jul 26, 2019, 12:41 PM IST\">Jul 26, 2019, 12:41 PM IST</time><p>Overall share in the domestic motorcycle market stood at 18.3 per cent against 16.3 per cent.</p></div>,\n",
       " <div class=\"eachStory\"><h3><a href=\"/markets/stocks/earnings/alphabets-revenue-rebounds-easing-doubts-on-growth-and-boosting-shares/articleshow/70389800.cms\">Alphabet's revenue rebounds; easing doubts on growth and boosting shares</a></h3><time class=\"date-format\" data-time=\"Jul 26, 2019, 09:43 AM IST\">Jul 26, 2019, 09:43 AM IST</time><p>Driven by ad sales, second-quarter revenue and earnings beat analysts' expectations.</p></div>,\n",
       " <div class=\"eachStory\"><h3><a href=\"/markets/stocks/earnings/amazons-push-for-one-day-delivery-dents-profits-costs-up-21/articleshow/70389706.cms\">Amazon's push for one-day delivery dents profits, costs up 21%</a></h3><time class=\"date-format\" data-time=\"Jul 26, 2019, 09:34 AM IST\">Jul 26, 2019, 09:34 AM IST</time><p>\"We're growing faster than anyone\" on a dollar basis, said CFO Olsavsky.</p></div>,\n",
       " <div class=\"eachStory\"><h3><a href=\"/markets/stocks/earnings/mphasis-q1-profit-up-2-4-at-rs-265-crore/articleshow/70383694.cms\">Mphasis Q1 profit up 2.4% at Rs 265 crore</a></h3><time class=\"date-format\" data-time=\"Jul 25, 2019, 09:15 PM IST\">Jul 25, 2019, 09:15 PM IST</time><p>Revenue from operations increased 13.3 per cent to Rs 2,062.5 crore.</p></div>,\n",
       " <div class=\"eachStory\"><h3><a href=\"/markets/stocks/earnings/biocon-q1-profit-surges-72-to-rs-206-crore/articleshow/70383626.cms\">Biocon Q1 profit surges 72% to Rs 206 crore</a></h3><time class=\"date-format\" data-time=\"Jul 25, 2019, 09:10 PM IST\">Jul 25, 2019, 09:10 PM IST</time><p>Consolidated total income of the company stood at Rs 1,490 crore for the quarter under consideration.</p></div>,\n",
       " <div class=\"eachStory\"><h3><a href=\"/markets/stocks/earnings/bank-of-baroda-q1-profit-at-rs-826-crore/articleshow/70382997.cms\">Bank of Baroda Q1 profit at Rs 826 crore</a></h3><time class=\"date-format\" data-time=\"Jul 25, 2019, 08:26 PM IST\">Jul 25, 2019, 08:26 PM IST</time><p>This is the lender's first earnings announcement after it merged Dena Bank and Vijaya Bank with itself.</p></div>,\n",
       " <div class=\"eachStory\"><h3><a href=\"/markets/stocks/earnings/bajaj-finserv-q1-check-out-the-key-highlights/articleshow/70382457.cms\">Bajaj Finserv Q1: Check out the key highlights</a></h3><time class=\"date-format\" data-time=\"Jul 25, 2019, 07:46 PM IST\">Jul 25, 2019, 07:46 PM IST</time><p>Consolidated total income increased 39.92 per cent to Rs 12,272.26 crore during the quarter.</p></div>,\n",
       " <div class=\"eachStory\"><h3><a href=\"/markets/stocks/earnings/tata-motors-posts-wider-than-expected-loss-in-q1-key-takeaways/articleshow/70380820.cms\">Tata Motors posts wider-than-expected loss in Q1; key takeaways</a></h3><time class=\"date-format\" data-time=\"Jul 25, 2019, 06:11 PM IST\">Jul 25, 2019, 06:11 PM IST</time><p>JLR reported 11.6 per cent decline in global retail sales to 128,615 vehicles for the quarter.</p></div>,\n",
       " <div class=\"eachStory\"><h3><a href=\"/markets/stocks/earnings/bajaj-finserv-posts-2-rise-in-q1-profit-at-rs-845-crore/articleshow/70380476.cms\">Bajaj Finserv posts 2% rise in Q1 profit at Rs 845 crore</a></h3><time class=\"date-format\" data-time=\"Jul 25, 2019, 05:35 PM IST\">Jul 25, 2019, 05:35 PM IST</time><p>Bajaj Finserv is the holding company for the various financial services businesses under the Bajaj group.</p></div>,\n",
       " <div class=\"eachStory\"><h3><a href=\"/markets/stocks/earnings/tata-motors-q1-loss-doubles-to-rs-3680-crore-as-jlr-woes-continue/articleshow/70379191.cms\">Tata Motors Q1 loss doubles to Rs 3,680 crore as JLR woes continue</a></h3><time class=\"date-format\" data-time=\"Jul 25, 2019, 04:28 PM IST\">Jul 25, 2019, 04:28 PM IST</time><p>JLR reported a pre-tax loss of 395 million pounds compared with 264 million pounds loss YoY.</p></div>,\n",
       " <div class=\"eachStory\"><h3><a href=\"/markets/stocks/earnings/maruti-suzuki-q1-preview-analysts-expect-big-drop-in-profit-on-low-volumes/articleshow/70378489.cms\">Maruti Suzuki Q1 preview: Analysts expect big drop in profit on low volumes</a></h3><time class=\"date-format\" data-time=\"Jul 25, 2019, 03:33 PM IST\">Jul 25, 2019, 03:33 PM IST</time><p>Higher discounts and industry-wide slowdown set to take a toll on Maruiti’s margins.</p></div>,\n",
       " <div class=\"eachStory\"><h3><a href=\"/markets/stocks/earnings/bajaj-auto-q1-results-profit-may-fall-2-3-on-tepid-volumes-ev-strategy-eyed/articleshow/70378443.cms\">Bajaj Auto Q1 results: Profit may fall 2-3% on tepid volumes; EV strategy eyed</a></h3><time class=\"date-format\" data-time=\"Jul 25, 2019, 03:31 PM IST\">Jul 25, 2019, 03:31 PM IST</time><p>Karvy Stock Broking expects a 3.8 per cent drop in profit at Rs 1,072.80 crore.</p></div>]"
      ]
     },
     "execution_count": 37,
     "metadata": {},
     "output_type": "execute_result"
    }
   ],
   "source": [
    "stories = soup.find_all(\"div\", {\"class\": \"eachStory\"})\n",
    "stories"
   ]
  },
  {
   "cell_type": "code",
   "execution_count": 116,
   "metadata": {},
   "outputs": [],
   "source": [
    "class Story(object):\n",
    "    date = None\n",
    "    title = None\n",
    "    take_away = None\n",
    "    summary = None\n",
    "    body = None\n",
    "    href = None\n",
    "    \n",
    "    def __init__(self):\n",
    "        pass\n",
    "        \n",
    "    def fetch_body(self):\n",
    "        path = \"https://economictimes.indiatimes.com\" + self.href\n",
    "        response = requests.get(path)\n",
    "        soup = BeautifulSoup(response.text, 'html.parser')\n",
    "        article = soup.find(\"article\")\n",
    "        self.summary = article.find(\"h2\", {\"class\": \"title2\"}).get_text()\n",
    "        self.body = article.find(\"div\", {\"class\": \"Normal\"}).get_text()\n",
    "        self.body = re.sub(r\"[\\n\\s]+\", \" \", self.body)\n",
    "        \n",
    "    def __repr__(self):\n",
    "        return \"{date} {title}\".format(**self.__dict__)"
   ]
  },
  {
   "cell_type": "code",
   "execution_count": 107,
   "metadata": {
    "scrolled": true
   },
   "outputs": [
    {
     "data": {
      "text/plain": [
       "[Jul 26, 2019, 01:49 PM IST Maruti Suzuki Q1 profit slumps 27% YoY to Rs 1,436 crore on 18% drop in volumes,\n",
       " Jul 26, 2019, 01:34 PM IST PNB posts surprise Rs 1,019 crore profit in Q1 as provisions plunge 65% YoY,\n",
       " Jul 26, 2019, 01:13 PM IST Airtel Africa Q1 net profit up 40% on year,\n",
       " Jul 26, 2019, 01:09 PM IST Bajaj Auto’s margins contract in Q1; key takeaways,\n",
       " Jul 26, 2019, 12:41 PM IST Bajaj Auto Q1 profit flat at Rs 1,126 crore, beats Street estimates,\n",
       " Jul 26, 2019, 09:43 AM IST Alphabet's revenue rebounds; easing doubts on growth and boosting shares,\n",
       " Jul 26, 2019, 09:34 AM IST Amazon's push for one-day delivery dents profits, costs up 21%,\n",
       " Jul 25, 2019, 09:15 PM IST Mphasis Q1 profit up 2.4% at Rs 265 crore,\n",
       " Jul 25, 2019, 09:10 PM IST Biocon Q1 profit surges 72% to Rs 206 crore,\n",
       " Jul 25, 2019, 08:26 PM IST Bank of Baroda Q1 profit at Rs 826 crore,\n",
       " Jul 25, 2019, 07:46 PM IST Bajaj Finserv Q1: Check out the key highlights,\n",
       " Jul 25, 2019, 06:11 PM IST Tata Motors posts wider-than-expected loss in Q1; key takeaways,\n",
       " Jul 25, 2019, 05:35 PM IST Bajaj Finserv posts 2% rise in Q1 profit at Rs 845 crore,\n",
       " Jul 25, 2019, 04:28 PM IST Tata Motors Q1 loss doubles to Rs 3,680 crore as JLR woes continue,\n",
       " Jul 25, 2019, 03:33 PM IST Maruti Suzuki Q1 preview: Analysts expect big drop in profit on low volumes,\n",
       " Jul 25, 2019, 03:31 PM IST Bajaj Auto Q1 results: Profit may fall 2-3% on tepid volumes; EV strategy eyed]"
      ]
     },
     "execution_count": 107,
     "metadata": {},
     "output_type": "execute_result"
    }
   ],
   "source": [
    "stories_parsed = [] \n",
    "for story in stories:\n",
    "    story_= Story()\n",
    "    link = story.find(\"a\")\n",
    "    story_.href = link.get(\"href\")\n",
    "    story_.title = link.get_text()\n",
    "    story_.summary = story.find(\"p\").get_text()\n",
    "    story_.date = story.find(\"time\").get_text()\n",
    "    stories_parsed.append(story_)\n",
    "    \n",
    "stories_parsed"
   ]
  },
  {
   "cell_type": "code",
   "execution_count": 112,
   "metadata": {},
   "outputs": [
    {
     "data": {
      "text/plain": [
       "'https://economictimes.indiatimes.com/markets/stocks/earnings/maruti-suzuki-q1-profit-slumps-27-yoy-to-rs-1436-crore-on-18-drop-in-volumes/articleshow/70393331.cms'"
      ]
     },
     "execution_count": 112,
     "metadata": {},
     "output_type": "execute_result"
    }
   ],
   "source": [
    "path = \"https://economictimes.indiatimes.com\" + stories_parsed[0].href\n",
    "path "
   ]
  },
  {
   "cell_type": "code",
   "execution_count": 113,
   "metadata": {},
   "outputs": [],
   "source": [
    "response = requests.get(path)"
   ]
  },
  {
   "cell_type": "code",
   "execution_count": 114,
   "metadata": {},
   "outputs": [],
   "source": [
    "soup = BeautifulSoup(response.text, 'html.parser')"
   ]
  },
  {
   "cell_type": "code",
   "execution_count": 115,
   "metadata": {
    "scrolled": false
   },
   "outputs": [
    {
     "data": {
      "text/plain": [
       "1"
      ]
     },
     "execution_count": 115,
     "metadata": {},
     "output_type": "execute_result"
    }
   ],
   "source": [
    "len(soup.find_all(\"article\"))"
   ]
  },
  {
   "cell_type": "code",
   "execution_count": 71,
   "metadata": {},
   "outputs": [
    {
     "data": {
      "text/plain": [
       "<article data-articleid=\"70392741\" data-artidate=\"Jul 26, 2019, 01.09 PM IST\" data-ibeat_author=\"\" data-ibeat_channel=\"ETMarkets.com\" data-ibeat_tag=\"Bajaj Auto Q1,CVs,Q1 earnings,bajaj auto,indian auto,Motorcycle Company\"><input id=\"article_title\" type=\"hidden\" value=\"Bajaj Auto’s margins contract in Q1; key takeaways\"/><input id=\"article_syn\" type=\"hidden\" value=\"Margins took a beating, falling to 16.1 per cent from 18.3 per cent. \"/><input id=\"article_seo\" type=\"hidden\" value=\"markets/stocks/earnings/bajaj-autos-margins-contract-in-q1-key-takeaways\"/><h1 class=\"clearfix title\">Bajaj Auto’s margins contract in Q1; key takeaways</h1><h2 class=\"title2\">Margins took a beating, falling to 16.1 per cent from 18.3 per cent. </h2><div class=\"clearfix publish_info\"><div class=\"publisher flt\">ETMarkets.com<span class=\"msides5\">|</span></div><div class=\"publish_on flt\">Updated: Jul 26, 2019, 07.38 PM IST</div></div><div class=\"clearfix sharingBox shareVert\" data-share_msid=\"70392741\"><a class=\"fb shareSprite\" data-share-title=\"Bajaj Auto's margins contract in Q1; key takeaways\" data-share-url=\"http://www.ecoti.in/hmrsVb\" data-src=\"http://www.ecoti.in/hmrsVb\" href=\"javascript://\" onclick='ga(\"send\", {hitType: \"social\", socialNetwork: \"Facebook\", socialAction: \"Share\", socialTarget: \"https://economictimes.indiatimes.com/markets/stocks/earnings/bajaj-autos-margins-contract-in-q1-key-takeaways/articleshow/70392741.cms\", page: \"/markets/stocks/earnings/bajaj-autos-margins-contract-in-q1-key-takeaways/articleshow/70392741.cms\"})' rel=\"nofollow\"></a><a class=\"twt shareSprite\" data-share-title=\"Bajaj Auto's margins contract in Q1; key takeaways\" data-share-url=\"http://www.ecoti.in/M4T-vY\" data-src=\"http://www.ecoti.in/M4T-vY\" href=\"javascript://\" onclick='ga(\"send\", {hitType: \"social\", socialNetwork: \"Twitter\", socialAction: \"Tweet\", socialTarget: \"https://economictimes.indiatimes.com/markets/stocks/earnings/bajaj-autos-margins-contract-in-q1-key-takeaways/articleshow/70392741.cms\", page: \"/markets/stocks/earnings/bajaj-autos-margins-contract-in-q1-key-takeaways/articleshow/70392741.cms\"})' rel=\"nofollow\"></a><a class=\"in shareSprite\" data-share-title=\"Bajaj Auto's margins contract in Q1; key takeaways\" data-share-url=\"http://www.ecoti.in/4LhWjb\" data-src=\"http://www.ecoti.in/4LhWjb\" href=\"javascript://\" onclick='ga(\"send\", {hitType: \"social\", socialNetwork: \"LinkedIn\", socialAction: \"Share\", socialTarget: \"https://economictimes.indiatimes.com/markets/stocks/earnings/bajaj-autos-margins-contract-in-q1-key-takeaways/articleshow/70392741.cms\", page: \"/markets/stocks/earnings/bajaj-autos-margins-contract-in-q1-key-takeaways/articleshow/70392741.cms\"})' rel=\"nofollow\"></a><a class=\"wa shareSprite\" data-share-title=\"Bajaj Auto's margins contract in Q1; key takeaways\" data-share-url=\"http://www.ecoti.in/GfxGGY40\" data-src=\"http://www.ecoti.in/GfxGGY40\" data-watext=\"Hey, This might interest you! %0A%0A\" href=\"javascript://\" onclick='ga(\"send\", {hitType: \"social\", socialNetwork: \"Whatsapp\", socialAction: \"Share\", socialTarget: \"https://economictimes.indiatimes.com/markets/stocks/earnings/bajaj-autos-margins-contract-in-q1-key-takeaways/articleshow/70392741.cms\", page: \"/markets/stocks/earnings/bajaj-autos-margins-contract-in-q1-key-takeaways/articleshow/70392741.cms\"})' rel=\"nofollow\"></a><a class=\"shareSprite shareMore\" href=\"javascript:void(0)\" title=\"Share more\"></a><a class=\"shareSprite cmt-gdpr-hide cmt\" data-commentbox_msid=\"70392741\" href=\"javascript:void(0)\" id=\"commentCountBtn\" onclick=\"commentBox.show(70392741);\" title=\"Comments\"></a><div class=\"flt comment_count cmt-gdpr-hide\" data-msid=\"70392741\" onclick=\"commentBox.show(70392741);\"><span>0</span>Comments\n",
       "    \t\t\t</div><div class=\"flr page_options\"><a class=\"asSprite fontLarge fontSize\" href=\"javascript:void(0)\" onclick=\"etArt.fontSizeclick(this);\" title=\"Increase/Decrease font size\"></a><a class=\"asSprite print\" href=\"/markets/stocks/earnings/bajaj-autos-margins-contract-in-q1-key-takeaways/printarticle/70392741.cms\" target=\"_blank\" title=\"Print this article\"></a><a class=\"asSprite email\" href=\"javascript:void(0)\" onclick=\"emailSend.init();\" title=\"Email this article\"></a><a class=\"bookmark-icon\" data-arttype=\"0\" data-msid=\"70392741\" href=\"javascript://\" title=\"Bookmark this article\"></a></div></div><div class=\"articleImg topVideo printLiveShow midImg\"><figure><div class=\"videoHolder\"></div><a class=\"playVideo\" data-denmark=\"1\" data-hostid=\"153\" data-videoid=\"70396932\"><img alt=\"Bajaj Auto Q1 profit meets estimates, rises 1% to Rs 1,126 crore\" border=\"0\" src=\"https://img.etimg.com/thumb/msid-70396932,width-300,resizemode-4,imgsize-81286/.jpg\" style=\"padding-right:5px;\" width=\"300\"/><span class=\"icon-play\"></span></a><figcaption>Bajaj Auto Q1 profit meets estimates, rises 1% to Rs 1,126 crore</figcaption></figure><div class=\"videoHolder\"></div></div><div class=\"articleImg\"><div class=\"editorsPick\"><h3>Related</h3><ul><li><a href=\"/markets/stocks/earnings/bajaj-finserv-q1-check-out-the-key-highlights/articleshow/70382457.cms\">Bajaj Finserv Q1: Check out the key highlights</a></li><li><a href=\"/markets/stocks/earnings/tata-motors-posts-wider-than-expected-loss-in-q1-key-takeaways/articleshow/70380820.cms\">Tata Motors posts wider-than-expected loss in Q1; key takeaways</a></li><li><a href=\"/markets/stocks/earnings/bajaj-finance-q1-net-jumps-here-are-the-key-takeaways/articleshow/70376543.cms\">Bajaj Finance Q1 net jumps; Here are the key takeaways</a></li></ul></div></div><div class=\"articleImg related_table printLiveShow skip_company_hover article_sp stocks_widget hidden collapsed\"><div class=\"header_table\"><div class=\"lg ib\"><h2>Company Summary</h2></div><div class=\"_mid ib\"><div class=\"stockExchange\"><div class=\"nse active\" data-exchangeid=\"50\" data-param=\"exchange\">NSE</div><div class=\"bse\" data-exchangeid=\"47\" data-param=\"exchange\">BSE</div></div></div></div><div class=\"listing\"><div class=\"row first3\" data-company_id=\"21430\"><div class=\"lg ib\"><div class=\"comp ib\"><div class=\"upper\"><h3 class=\"no_newline\"><a href=\"/bajaj-auto-ltd/stocks/companyid-21430.cms\" target=\"_blank\" title=\"Bajaj Auto Ltd.\">Bajaj Auto Ltd.</a><div class=\"_hoverData\"><div class=\"_arrow\"></div><h3></h3><div class=\"loading\" style=\"display: none;\">Loading data...</div><ul class=\"news\"></ul></div></h3></div><div class=\"lower\"><div class=\"currentVal hidden\"></div><span class=\"arrows\"></span><div class=\"ib change gain\"></div></div></div></div><div class=\"_mid ib\"><div class=\"chart\" style='background-image:url(\"https://marketgraphs.economictimes.indiatimes.com/charting/CompanySparkLine1.aspx?companyid=21430&amp;exchange=50&amp;width=110&amp;height=50\")'></div></div><div class=\"sm ib\"><div class=\"spanHeader flt\"><div class=\"asSprite ico ib port\"></div><p>ADD TO PORTFOLIO</p></div><div class=\"spanHeader flt\"><div class=\"asSprite ico ib watch\"></div><p>ADD TO WATCHLIST</p></div><div class=\"spanHeaderShare flt\"><div class=\"asSprite ico ib positive\"></div><div class=\"asSprite ico ib negative\"></div><p>SHARE YOUR OULOOK</p><div class=\"hidden trend\" style=\"\"></div></div></div><div class=\"toggleHeader\"><div class=\"ib slideshow asSprite\" onclick=\"show_slide(this, '21430_1');\"></div><p>EXPAND</p></div></div><div class=\"stocks_slider ss_21430_1\" id=\"ss_21430\"><div class=\"ss_menu\"><span class=\"lbl active\">Charts</span><span class=\"lbl invest_view\" data-company_id=\"21430\">Valuation &amp; Peer Comparison</span><span class=\"lbl speed_view\" data-company_id=\"21430\">Community Buzz</span></div><div class=\"ss_box\"><div class=\"box trade_view flt\"><iframe border=\"0\" class=\"trade_chart\" data-src=\"//economictimes.indiatimes.com/chart.cms?study_volume=true&amp;no_menu=1&amp;credit_logo=true&amp;symbol_label=false&amp;chart_type=mountain&amp;compare_legend=false&amp;right_align=true&amp;current_hr=false&amp;dont_save=true&amp;custom_theme=light&amp;symbol=ACCEQ&amp;exchange=NSE&amp;entity=company&amp;tagId=6&amp;pc_switch=true\" height=\"300\" src=\"\" style=\"border: 0px;\" width=\"305\"></iframe><div class=\"peerHeading\"><h2>PEER COMPANIES</h2></div><div class=\"similar_companies\" data-company_id=\"ss_21430\"></div></div><div class=\"clr\"></div><div class=\"box invest_view\" data-company_id=\"21430\"></div><div class=\"box speed_view flt\" data-company_id=\"21430\"></div><div class=\"clr\"></div></div></div></div><!-- data could not found --><iframe height=\"0px\" src=\"/if_tradenow_banner_track.cms\" style=\"display:none;\" width=\"0px;\"></iframe></div><div class=\"artText\"><div class=\"section1\"><div class=\"Normal\">NEW DELHI: <a href=\"/bajaj-auto-ltd/stocks/companyid-21430.cms\" pg=\"asTopicL1\" target=\"_blank\">Bajaj Auto</a> on Friday said its standalone profit rose by 1 per cent to Rs 1,126 crore in the June quarter compared with Rs 1,115 crore in the same quarter last year. The profit figure came in better than ET NOW poll estimate of Rs 1,060 crore.\n",
       "<br/>\n",
       "<br/>Margins took a beating, falling to 16.1 per cent from 18.3 per cent. Turnover for the quarter rose 5 per cent to Rs 8,197 crore from Rs 7,812 crore in the year-ago period.\n",
       "<br/>\n",
       "<br/>Ebitda dropped 9 per cent to Rs 1,250 crore against Rs 1,367 crore in the corresponding quarter last year. \n",
       "<br/>\n",
       "<br/>Here are key takeaways from Bajaj Auto’s June quarter earnings:\n",
       "<br/>\n",
       "<br/>\n",
       "<strong>Motorcycle - Domestic</strong>\n",
       "<br/>\n",
       "<br/>The company recorded a growth of 3 per cent over Q1FY19 as against an industry degrowth of 9 per cent.\n",
       "<br/>\n",
       "<br/>Overall share in the domestic motorcycle market was at 18.3 per cent against 16.3 per cent in Q1FY19. Retail share in the domestic motorcycle market is nearly 19 per cent.\n",
       "<br/>\n",
       "<br/>In the entry segment, the company sold over 3,00,000 units and enjoys a market share of 30.6 per cent. Model CT saw sales of over 1,23,000 units. Platina’s sales were over 166,000 units, up 59 per cent.\n",
       "<br/>\n",
       "<br/>In the sports segment, the company continued to maintain its dominance with market share of 46.9 per cent. Pulsar, along with Avenger, sold over 2,61,000 units, a growth of 17 per cent. The newly launched Avenger 160 has sold over 12,000 units.\n",
       "<br/>\n",
       "<br/>\n",
       "<strong>Commercial Vehicles</strong>\n",
       "<br/>\n",
       "<br/>The company recorded sales of over 86,000 units and continued to maintain dominance with market share of 57 .1 per cent. The RE brand is the market leader in the small three-wheeler segment with a market share of 87.5 per cent.\n",
       "<br/>\n",
       "<br/>MAXIMA brand is a market leader in the big three-wheeler passenger carrier segment, enjoying a market share at 39.5 per cent.\n",
       "<br/>\n",
       "<br/>In the goods carrier segment, Bajaj auto recorded a growth of 11 per cent over Q1FY19 as against an industry degrowth of 2 per cent; market share at 27.9 per cent.\n",
       "<br/>\n",
       "<br/>\n",
       "<strong>International Business</strong>\n",
       "<br/>\n",
       "<br/>The company recorded the highest-ever exports of 5,50,021 units. Motorcycles sales were over 4,71,000 units, a growth of 8 per cent over Q1FY19.\n",
       "<br/>\n",
       "<br/>Africa, driven by Nigeria, Congo and Uganda, recorded a growth of 24 per cent over Q1FY19.\n",
       "<br/>\n",
       "<br/>Relative slowdown in Sri Lanka has been compensated by growth of 23 per cent in Bangladesh. In ASEAN, the Philippines recorded a growth of 8 per cent over Q1FY19. LatAm, excluding Argentina, recorded a modest growth of 5 per cent. Sales to Argentina remain subdued due to currency devaluation. Commercial vehicles sold over 78,000 units, a degrowth of 23 per cent, due to lower sales in Egypt.\n",
       "<br/>\n",
       "<br/>\n",
       "<strong>Cash and cash equivalents</strong>\n",
       "<br/>\n",
       "<br/>As of June 30, surplus cash and cash equivalents stood at Rs 17,126 crore as against Rs 16,368 crore as on March 31, 2019.\n",
       "<br/>\n",
       "</div></div></div><div class=\"clr\"></div><div style=\"margin:15px 0;font-size:16px\"><b><a href=\"/wealth/tax/income-tax-returns-filing\" onclick=\"ga('send', 'event', 'ITR_footer_text', 'Web', 'ITR_footer_text')\" target=\"_blank\">Click here for all you need to know about filing income tax return this year.</a></b></div><div class=\"clrwh\"></div><div class=\"clr\"></div><!-- data could not found --><div class=\"clr\"></div><div class=\"videoArtSec\">In Video: \n",
       "                <a href=\"/markets/stocks/news/bajaj-auto-q1-profit-meets-estimates-rises-1-to-rs-1126-crore/videoshow/70396932.cms\" target=\"_blank\">Bajaj Auto Q1 profit meets estimates, rises 1% to Rs 1,126 crore</a></div><div class=\"clearfix sharingBox shareVert bottom\" data-share_msid=\"70392741\"><a class=\"fb shareSprite\" data-share-title=\"Bajaj Auto's margins contract in Q1; key takeaways\" data-share-url=\"http://www.ecoti.in/hmrsVb\" data-src=\"http://www.ecoti.in/hmrsVb\" href=\"javascript://\" onclick='ga(\"send\", {hitType: \"social\", socialNetwork: \"Facebook\", socialAction: \"Share\", socialTarget: \"https://economictimes.indiatimes.com/markets/stocks/earnings/bajaj-autos-margins-contract-in-q1-key-takeaways/articleshow/70392741.cms\", page: \"/markets/stocks/earnings/bajaj-autos-margins-contract-in-q1-key-takeaways/articleshow/70392741.cms\"})' rel=\"nofollow\"></a><a class=\"twt shareSprite\" data-share-title=\"Bajaj Auto's margins contract in Q1; key takeaways\" data-share-url=\"http://www.ecoti.in/M4T-vY\" data-src=\"http://www.ecoti.in/M4T-vY\" href=\"javascript://\" onclick='ga(\"send\", {hitType: \"social\", socialNetwork: \"Twitter\", socialAction: \"Tweet\", socialTarget: \"https://economictimes.indiatimes.com/markets/stocks/earnings/bajaj-autos-margins-contract-in-q1-key-takeaways/articleshow/70392741.cms\", page: \"/markets/stocks/earnings/bajaj-autos-margins-contract-in-q1-key-takeaways/articleshow/70392741.cms\"})' rel=\"nofollow\"></a><a class=\"in shareSprite\" data-share-title=\"Bajaj Auto's margins contract in Q1; key takeaways\" data-share-url=\"http://www.ecoti.in/4LhWjb\" data-src=\"http://www.ecoti.in/4LhWjb\" href=\"javascript://\" onclick='ga(\"send\", {hitType: \"social\", socialNetwork: \"LinkedIn\", socialAction: \"Share\", socialTarget: \"https://economictimes.indiatimes.com/markets/stocks/earnings/bajaj-autos-margins-contract-in-q1-key-takeaways/articleshow/70392741.cms\", page: \"/markets/stocks/earnings/bajaj-autos-margins-contract-in-q1-key-takeaways/articleshow/70392741.cms\"})' rel=\"nofollow\"></a><a class=\"wa shareSprite\" data-share-title=\"Bajaj Auto's margins contract in Q1; key takeaways\" data-share-url=\"http://www.ecoti.in/GfxGGY40\" data-src=\"http://www.ecoti.in/GfxGGY40\" data-watext=\"Hey, This might interest you! %0A%0A\" href=\"javascript://\" onclick='ga(\"send\", {hitType: \"social\", socialNetwork: \"Whatsapp\", socialAction: \"Share\", socialTarget: \"https://economictimes.indiatimes.com/markets/stocks/earnings/bajaj-autos-margins-contract-in-q1-key-takeaways/articleshow/70392741.cms\", page: \"/markets/stocks/earnings/bajaj-autos-margins-contract-in-q1-key-takeaways/articleshow/70392741.cms\"})' rel=\"nofollow\"></a><a class=\"shareSprite shareMore\" href=\"javascript:void(0)\" title=\"Share more\"></a><a class=\"shareSprite cmt-gdpr-hide cmt\" data-commentbox_msid=\"70392741\" href=\"javascript:void(0)\" id=\"commentCountBtn\" onclick=\"commentBox.show(70392741);\" title=\"Comments\"></a><div class=\"flt comment_count cmt-gdpr-hide\" data-msid=\"70392741\" onclick=\"commentBox.show(70392741);\"><span>0</span>Comments\n",
       "    \t\t\t</div><div class=\"flr page_options\"><a class=\"asSprite print\" href=\"/markets/stocks/earnings/bajaj-autos-margins-contract-in-q1-key-takeaways/printarticle/70392741.cms\" target=\"_blank\" title=\"Print this article\"></a><a class=\"asSprite email\" href=\"javascript:void(0)\" onclick=\"emailSend.init();\" title=\"Email this article\"></a><a class=\"bookmark-icon\" data-arttype=\"0\" data-msid=\"70392741\" href=\"javascript://\" title=\"Bookmark this article\"></a></div></div></article>"
      ]
     },
     "execution_count": 71,
     "metadata": {},
     "output_type": "execute_result"
    }
   ],
   "source": [
    "article = soup.find(\"article\")\n",
    "article"
   ]
  },
  {
   "cell_type": "code",
   "execution_count": 76,
   "metadata": {},
   "outputs": [
    {
     "data": {
      "text/plain": [
       "'Margins took a beating, falling to 16.1 per cent from 18.3 per cent. '"
      ]
     },
     "execution_count": 76,
     "metadata": {},
     "output_type": "execute_result"
    }
   ],
   "source": [
    "summary = article.find(\"h2\", {\"class\": \"title2\"}).get_text()\n",
    "summary "
   ]
  },
  {
   "cell_type": "code",
   "execution_count": 81,
   "metadata": {},
   "outputs": [
    {
     "data": {
      "text/plain": [
       "'NEW DELHI: Bajaj Auto on Friday said its standalone profit rose by 1 per cent to Rs 1,126 crore in the June quarter compared with Rs 1,115 crore in the same quarter last year. The profit figure came in better than ET NOW poll estimate of Rs 1,060 crore.\\n\\nMargins took a beating, falling to 16.1 per cent from 18.3 per cent. Turnover for the quarter rose 5 per cent to Rs 8,197 crore from Rs 7,812 crore in the year-ago period.\\n\\nEbitda dropped 9 per cent to Rs 1,250 crore against Rs 1,367 crore in the corresponding quarter last year. \\n\\nHere are key takeaways from Bajaj Auto’s June quarter earnings:\\n\\n\\nMotorcycle - Domestic\\n\\nThe company recorded a growth of 3 per cent over Q1FY19 as against an industry degrowth of 9 per cent.\\n\\nOverall share in the domestic motorcycle market was at 18.3 per cent against 16.3 per cent in Q1FY19. Retail share in the domestic motorcycle market is nearly 19 per cent.\\n\\nIn the entry segment, the company sold over 3,00,000 units and enjoys a market share of 30.6 per cent. Model CT saw sales of over 1,23,000 units. Platina’s sales were over 166,000 units, up 59 per cent.\\n\\nIn the sports segment, the company continued to maintain its dominance with market share of 46.9 per cent. Pulsar, along with Avenger, sold over 2,61,000 units, a growth of 17 per cent. The newly launched Avenger 160 has sold over 12,000 units.\\n\\n\\nCommercial Vehicles\\n\\nThe company recorded sales of over 86,000 units and continued to maintain dominance with market share of 57 .1 per cent. The RE brand is the market leader in the small three-wheeler segment with a market share of 87.5 per cent.\\n\\nMAXIMA brand is a market leader in the big three-wheeler passenger carrier segment, enjoying a market share at 39.5 per cent.\\n\\nIn the goods carrier segment, Bajaj auto recorded a growth of 11 per cent over Q1FY19 as against an industry degrowth of 2 per cent; market share at 27.9 per cent.\\n\\n\\nInternational Business\\n\\nThe company recorded the highest-ever exports of 5,50,021 units. Motorcycles sales were over 4,71,000 units, a growth of 8 per cent over Q1FY19.\\n\\nAfrica, driven by Nigeria, Congo and Uganda, recorded a growth of 24 per cent over Q1FY19.\\n\\nRelative slowdown in Sri Lanka has been compensated by growth of 23 per cent in Bangladesh. In ASEAN, the Philippines recorded a growth of 8 per cent over Q1FY19. LatAm, excluding Argentina, recorded a modest growth of 5 per cent. Sales to Argentina remain subdued due to currency devaluation. Commercial vehicles sold over 78,000 units, a degrowth of 23 per cent, due to lower sales in Egypt.\\n\\n\\nCash and cash equivalents\\n\\nAs of June 30, surplus cash and cash equivalents stood at Rs 17,126 crore as against Rs 16,368 crore as on March 31, 2019.\\n\\n'"
      ]
     },
     "execution_count": 81,
     "metadata": {},
     "output_type": "execute_result"
    }
   ],
   "source": [
    "body = article.find(\"div\", {\"class\": \"Normal\"}).get_text()\n",
    "body"
   ]
  },
  {
   "cell_type": "code",
   "execution_count": 97,
   "metadata": {},
   "outputs": [
    {
     "data": {
      "text/plain": [
       "'NEW DELHI: Bajaj Auto on Friday said its standalone profit rose by 1 per cent to Rs 1,126 crore in the June quarter compared with Rs 1,115 crore in the same quarter last year. The profit figure came in better than ET NOW poll estimate of Rs 1,060 crore. Margins took a beating, falling to 16.1 per cent from 18.3 per cent. Turnover for the quarter rose 5 per cent to Rs 8,197 crore from Rs 7,812 crore in the year-ago period. Ebitda dropped 9 per cent to Rs 1,250 crore against Rs 1,367 crore in the corresponding quarter last year. Here are key takeaways from Bajaj Auto’s June quarter earnings: Motorcycle - Domestic The company recorded a growth of 3 per cent over Q1FY19 as against an industry degrowth of 9 per cent. Overall share in the domestic motorcycle market was at 18.3 per cent against 16.3 per cent in Q1FY19. Retail share in the domestic motorcycle market is nearly 19 per cent. In the entry segment, the company sold over 3,00,000 units and enjoys a market share of 30.6 per cent. Model CT saw sales of over 1,23,000 units. Platina’s sales were over 166,000 units, up 59 per cent. In the sports segment, the company continued to maintain its dominance with market share of 46.9 per cent. Pulsar, along with Avenger, sold over 2,61,000 units, a growth of 17 per cent. The newly launched Avenger 160 has sold over 12,000 units. Commercial Vehicles The company recorded sales of over 86,000 units and continued to maintain dominance with market share of 57 .1 per cent. The RE brand is the market leader in the small three-wheeler segment with a market share of 87.5 per cent. MAXIMA brand is a market leader in the big three-wheeler passenger carrier segment, enjoying a market share at 39.5 per cent. In the goods carrier segment, Bajaj auto recorded a growth of 11 per cent over Q1FY19 as against an industry degrowth of 2 per cent; market share at 27.9 per cent. International Business The company recorded the highest-ever exports of 5,50,021 units. Motorcycles sales were over 4,71,000 units, a growth of 8 per cent over Q1FY19. Africa, driven by Nigeria, Congo and Uganda, recorded a growth of 24 per cent over Q1FY19. Relative slowdown in Sri Lanka has been compensated by growth of 23 per cent in Bangladesh. In ASEAN, the Philippines recorded a growth of 8 per cent over Q1FY19. LatAm, excluding Argentina, recorded a modest growth of 5 per cent. Sales to Argentina remain subdued due to currency devaluation. Commercial vehicles sold over 78,000 units, a degrowth of 23 per cent, due to lower sales in Egypt. Cash and cash equivalents As of June 30, surplus cash and cash equivalents stood at Rs 17,126 crore as against Rs 16,368 crore as on March 31, 2019. '"
      ]
     },
     "execution_count": 97,
     "metadata": {},
     "output_type": "execute_result"
    }
   ],
   "source": [
    "body_clean = re.sub(r\"[\\n\\s]+\", \" \", body)\n",
    "body_clean"
   ]
  },
  {
   "cell_type": "code",
   "execution_count": 119,
   "metadata": {},
   "outputs": [],
   "source": [
    "class Story(object):\n",
    "    date = None\n",
    "    title = None\n",
    "    take_away = None\n",
    "    summary = None\n",
    "    body = None\n",
    "    href = None\n",
    "    \n",
    "    def __init__(self, story):\n",
    "        link = story.find(\"a\")\n",
    "        self.href = link.get(\"href\")\n",
    "        self.title = link.get_text()\n",
    "        self.summary = story.find(\"p\").get_text()\n",
    "        self.date = story.find(\"time\").get_text()\n",
    "        \n",
    "    def fetch_body(self):\n",
    "        path = \"https://economictimes.indiatimes.com\" + self.href\n",
    "        response = requests.get(path)\n",
    "        soup = BeautifulSoup(response.text, 'html.parser')\n",
    "        article = soup.find(\"article\")\n",
    "        self.summary = article.find(\"h2\", {\"class\": \"title2\"}).get_text()\n",
    "        self.body = article.find(\"div\", {\"class\": \"Normal\"}).get_text()\n",
    "        self.body = re.sub(r\"[\\n\\s]+\", \" \", self.body)\n",
    "        \n",
    "    def __repr__(self):\n",
    "        return \"{date} {title}\".format(**self.__dict__)\n",
    "\n",
    "    \n",
    "path = \"https://economictimes.indiatimes.com/lazyloadlistnew.cms?msid=5766568&curpg=3&img=0\"\n",
    "response = requests.get(path)\n",
    "\n",
    "soup = BeautifulSoup(content, 'html.parser')\n",
    "story_divs = soup.find_all(\"div\", {\"class\": \"eachStory\"})\n",
    "\n",
    "stories = [] \n",
    "for div in story_divs:\n",
    "    try:\n",
    "        stories.append(Story(div))\n",
    "    except:\n",
    "        print(\"Error\", div)"
   ]
  },
  {
   "cell_type": "code",
   "execution_count": 120,
   "metadata": {},
   "outputs": [
    {
     "data": {
      "text/plain": [
       "[Jul 26, 2019, 01:49 PM IST Maruti Suzuki Q1 profit slumps 27% YoY to Rs 1,436 crore on 18% drop in volumes,\n",
       " Jul 26, 2019, 01:34 PM IST PNB posts surprise Rs 1,019 crore profit in Q1 as provisions plunge 65% YoY,\n",
       " Jul 26, 2019, 01:13 PM IST Airtel Africa Q1 net profit up 40% on year,\n",
       " Jul 26, 2019, 01:09 PM IST Bajaj Auto’s margins contract in Q1; key takeaways,\n",
       " Jul 26, 2019, 12:41 PM IST Bajaj Auto Q1 profit flat at Rs 1,126 crore, beats Street estimates,\n",
       " Jul 26, 2019, 09:43 AM IST Alphabet's revenue rebounds; easing doubts on growth and boosting shares,\n",
       " Jul 26, 2019, 09:34 AM IST Amazon's push for one-day delivery dents profits, costs up 21%,\n",
       " Jul 25, 2019, 09:15 PM IST Mphasis Q1 profit up 2.4% at Rs 265 crore,\n",
       " Jul 25, 2019, 09:10 PM IST Biocon Q1 profit surges 72% to Rs 206 crore,\n",
       " Jul 25, 2019, 08:26 PM IST Bank of Baroda Q1 profit at Rs 826 crore,\n",
       " Jul 25, 2019, 07:46 PM IST Bajaj Finserv Q1: Check out the key highlights,\n",
       " Jul 25, 2019, 06:11 PM IST Tata Motors posts wider-than-expected loss in Q1; key takeaways,\n",
       " Jul 25, 2019, 05:35 PM IST Bajaj Finserv posts 2% rise in Q1 profit at Rs 845 crore,\n",
       " Jul 25, 2019, 04:28 PM IST Tata Motors Q1 loss doubles to Rs 3,680 crore as JLR woes continue,\n",
       " Jul 25, 2019, 03:33 PM IST Maruti Suzuki Q1 preview: Analysts expect big drop in profit on low volumes,\n",
       " Jul 25, 2019, 03:31 PM IST Bajaj Auto Q1 results: Profit may fall 2-3% on tepid volumes; EV strategy eyed]"
      ]
     },
     "execution_count": 120,
     "metadata": {},
     "output_type": "execute_result"
    }
   ],
   "source": [
    "stories"
   ]
  },
  {
   "cell_type": "code",
   "execution_count": 122,
   "metadata": {},
   "outputs": [],
   "source": [
    "stories[0].fetch_body()"
   ]
  },
  {
   "cell_type": "code",
   "execution_count": 123,
   "metadata": {},
   "outputs": [
    {
     "data": {
      "text/plain": [
       "'NEW DELHI: India’s largest carmaker Maruti Suzuki on Friday reported a 27.3 per cent year-on-year (YoY) drop in net profit at Rs 1,435.50 crore for the June quarter on weak volumes and higher depreciation expenses. Analysts in an ET NOW poll had projected a profit of Rs 1,350 crore. Net sales for the quarter fell 14.1 per cent to Rs 18,735.20 crore on a yearly basis. The company sold a total of 4,02,594 vehicles during the quarter, down 17.9 per cent. Sales in the domestic market stood at 3,74,481 units, down 19.3 per cent. Exports stood at Rs 28,113 units. The company said that higher sales promotion expenses, depreciation and low capacity utilisation weighed on the numbers. Lower advertisement expenses, cost reduction efforts, favourable exchange movement and favourable commodity prices, were helpful. The auto major’s margins for the quarter came in at 10.4 per cent against ET NOW poll estimate of 10.2 per cent. Ebitda stood at Rs 2,047.80 crore. Analysts had projected at an Ebitda of Rs 1,955 crore. Total expenditure declined to Rs 18,.645.30 crore during the quarter ended June 30 against Rs 19,848.80 crore in the same period last year. Employee benefit expense increased by 12.27 per cent to Rs 859.10 crore. Depreciation and amortisation expense jumped to Rs 918.60 crore from Rs 719.80 crore during the same period. Shares of the automaker shot up in a knee-jerk reaction to the announcement. Later the scrip was trading 1.11 per cent higher at Rs 5,824.20 on BSE. '"
      ]
     },
     "execution_count": 123,
     "metadata": {},
     "output_type": "execute_result"
    }
   ],
   "source": [
    "stories[0].body"
   ]
  },
  {
   "cell_type": "code",
   "execution_count": 124,
   "metadata": {},
   "outputs": [],
   "source": [
    "story = stories[0]"
   ]
  },
  {
   "cell_type": "code",
   "execution_count": 142,
   "metadata": {},
   "outputs": [
    {
     "data": {
      "text/plain": [
       "{'href': '/markets/stocks/earnings/maruti-suzuki-q1-profit-slumps-27-yoy-to-rs-1436-crore-on-18-drop-in-volumes/articleshow/70393331.cms',\n",
       " 'title': 'Maruti Suzuki Q1 profit slumps 27% YoY to Rs 1,436 crore on 18% drop in volumes',\n",
       " 'summary': 'Net sales for the quarter fell 14.1 per cent to Rs 18,735.20 crore on a yearly basis.',\n",
       " 'date': 'Jul 26, 2019, 01:49 PM IST',\n",
       " 'body': 'NEW DELHI: India’s largest carmaker Maruti Suzuki on Friday reported a 27.3 per cent year-on-year (YoY) drop in net profit at Rs 1,435.50 crore for the June quarter on weak volumes and higher depreciation expenses. Analysts in an ET NOW poll had projected a profit of Rs 1,350 crore. Net sales for the quarter fell 14.1 per cent to Rs 18,735.20 crore on a yearly basis. The company sold a total of 4,02,594 vehicles during the quarter, down 17.9 per cent. Sales in the domestic market stood at 3,74,481 units, down 19.3 per cent. Exports stood at Rs 28,113 units. The company said that higher sales promotion expenses, depreciation and low capacity utilisation weighed on the numbers. Lower advertisement expenses, cost reduction efforts, favourable exchange movement and favourable commodity prices, were helpful. The auto major’s margins for the quarter came in at 10.4 per cent against ET NOW poll estimate of 10.2 per cent. Ebitda stood at Rs 2,047.80 crore. Analysts had projected at an Ebitda of Rs 1,955 crore. Total expenditure declined to Rs 18,.645.30 crore during the quarter ended June 30 against Rs 19,848.80 crore in the same period last year. Employee benefit expense increased by 12.27 per cent to Rs 859.10 crore. Depreciation and amortisation expense jumped to Rs 918.60 crore from Rs 719.80 crore during the same period. Shares of the automaker shot up in a knee-jerk reaction to the announcement. Later the scrip was trading 1.11 per cent higher at Rs 5,824.20 on BSE. '}"
      ]
     },
     "execution_count": 142,
     "metadata": {},
     "output_type": "execute_result"
    }
   ],
   "source": [
    "story.__dict__"
   ]
  },
  {
   "cell_type": "code",
   "execution_count": 129,
   "metadata": {},
   "outputs": [],
   "source": [
    "import spacy\n",
    "nlp = spacy.load(\"en_core_web_sm\")"
   ]
  },
  {
   "cell_type": "code",
   "execution_count": 138,
   "metadata": {},
   "outputs": [
    {
     "data": {
      "text/plain": [
       "spacy.tokens.doc.Doc"
      ]
     },
     "execution_count": 138,
     "metadata": {},
     "output_type": "execute_result"
    }
   ],
   "source": [
    "doc = nlp(story.body)\n",
    "type(doc)"
   ]
  },
  {
   "cell_type": "code",
   "execution_count": 141,
   "metadata": {},
   "outputs": [
    {
     "data": {
      "text/plain": [
       "(17,\n",
       " [NEW DELHI:,\n",
       "  India’s largest carmaker Maruti Suzuki on Friday reported a 27.3 per cent year-on-year (YoY) drop in net profit at Rs 1,435.50 crore for the June quarter on weak volumes and higher depreciation expenses.,\n",
       "  Analysts in an ET NOW poll had projected a profit of Rs 1,350 crore.,\n",
       "  Net sales for the quarter fell 14.1 per cent to Rs 18,735.20 crore on a yearly basis.,\n",
       "  The company sold a total of 4,02,594 vehicles during the quarter, down 17.9 per cent.,\n",
       "  Sales in the domestic market stood at 3,74,481 units, down 19.3 per cent.,\n",
       "  Exports stood at Rs 28,113 units.,\n",
       "  The company said that higher sales promotion expenses, depreciation and low capacity utilisation weighed on the numbers.,\n",
       "  Lower advertisement expenses, cost reduction efforts, favourable exchange movement and favourable commodity prices, were helpful.,\n",
       "  The auto major’s margins for the quarter came in at 10.4 per cent against ET NOW poll estimate of 10.2 per cent.,\n",
       "  Ebitda stood at Rs 2,047.80 crore.,\n",
       "  Analysts had projected at an Ebitda of Rs 1,955 crore.,\n",
       "  Total expenditure declined to Rs 18,.645.30 crore during the quarter ended June 30 against Rs 19,848.80 crore in the same period last year.,\n",
       "  Employee benefit expense increased by 12.27 per cent to Rs 859.10 crore.,\n",
       "  Depreciation and amortisation expense jumped to Rs 918.60 crore from Rs 719.80 crore during the same period.,\n",
       "  Shares of the automaker shot up in a knee-jerk reaction to the announcement.,\n",
       "  Later the scrip was trading 1.11 per cent higher at Rs 5,824.20 on BSE.])"
      ]
     },
     "execution_count": 141,
     "metadata": {},
     "output_type": "execute_result"
    }
   ],
   "source": [
    "sentences = list(doc.sents)\n",
    "len(sentences), sentences"
   ]
  },
  {
   "cell_type": "code",
   "execution_count": 146,
   "metadata": {},
   "outputs": [],
   "source": [
    "import spacy\n",
    "nlp = spacy.load(\"en_core_web_sm\")\n",
    "\n",
    "class Story(object):\n",
    "    date = None\n",
    "    title = None\n",
    "    take_away = None\n",
    "    summary = None\n",
    "    body = None\n",
    "    href = None\n",
    "    \n",
    "    def __init__(self, story):\n",
    "        link = story.find(\"a\")\n",
    "        self.href = link.get(\"href\")\n",
    "        self.title = link.get_text()\n",
    "        self.summary = story.find(\"p\").get_text()\n",
    "        self.date = story.find(\"time\").get_text()\n",
    "        \n",
    "    def exract_sentences(self):\n",
    "        doc = nlp(self.body)\n",
    "        self.sentences = list(doc.sents) \n",
    "        \n",
    "    def fetch_body(self):\n",
    "        path = \"https://economictimes.indiatimes.com\" + self.href\n",
    "        response = requests.get(path)\n",
    "        soup = BeautifulSoup(response.text, 'html.parser')\n",
    "        article = soup.find(\"article\")\n",
    "        self.summary = article.find(\"h2\", {\"class\": \"title2\"}).get_text()\n",
    "        self.body = article.find(\"div\", {\"class\": \"Normal\"}).get_text()\n",
    "        self.body = re.sub(r\"[\\n\\s]+\", \" \", self.body)\n",
    "        \n",
    "    def __repr__(self):\n",
    "        return \"{date} {title}\".format(**self.__dict__)\n",
    "    \n",
    "    \n",
    "path = \"https://economictimes.indiatimes.com/lazyloadlistnew.cms?msid=5766568&curpg=3&img=0\"\n",
    "response = requests.get(path)\n",
    "\n",
    "soup = BeautifulSoup(content, 'html.parser')\n",
    "story_divs = soup.find_all(\"div\", {\"class\": \"eachStory\"})\n",
    "\n",
    "stories = [] \n",
    "for div in story_divs:\n",
    "    try:\n",
    "        stories.append(Story(div))\n",
    "    except:\n",
    "        print(\"Error\", div)\n",
    "        \n",
    "stories[0].fetch_body()\n",
    "stories[0].exract_sentences()\n"
   ]
  },
  {
   "cell_type": "code",
   "execution_count": 147,
   "metadata": {},
   "outputs": [
    {
     "data": {
      "text/plain": [
       "[NEW DELHI:,\n",
       " India’s largest carmaker Maruti Suzuki on Friday reported a 27.3 per cent year-on-year (YoY) drop in net profit at Rs 1,435.50 crore for the June quarter on weak volumes and higher depreciation expenses.,\n",
       " Analysts in an ET NOW poll had projected a profit of Rs 1,350 crore.,\n",
       " Net sales for the quarter fell 14.1 per cent to Rs 18,735.20 crore on a yearly basis.,\n",
       " The company sold a total of 4,02,594 vehicles during the quarter, down 17.9 per cent.,\n",
       " Sales in the domestic market stood at 3,74,481 units, down 19.3 per cent.,\n",
       " Exports stood at Rs 28,113 units.,\n",
       " The company said that higher sales promotion expenses, depreciation and low capacity utilisation weighed on the numbers.,\n",
       " Lower advertisement expenses, cost reduction efforts, favourable exchange movement and favourable commodity prices, were helpful.,\n",
       " The auto major’s margins for the quarter came in at 10.4 per cent against ET NOW poll estimate of 10.2 per cent.,\n",
       " Ebitda stood at Rs 2,047.80 crore.,\n",
       " Analysts had projected at an Ebitda of Rs 1,955 crore.,\n",
       " Total expenditure declined to Rs 18,.645.30 crore during the quarter ended June 30 against Rs 19,848.80 crore in the same period last year.,\n",
       " Employee benefit expense increased by 12.27 per cent to Rs 859.10 crore.,\n",
       " Depreciation and amortisation expense jumped to Rs 918.60 crore from Rs 719.80 crore during the same period.,\n",
       " Shares of the automaker shot up in a knee-jerk reaction to the announcement.,\n",
       " Later the scrip was trading 1.11 per cent higher at Rs 5,824.20 on BSE.]"
      ]
     },
     "execution_count": 147,
     "metadata": {},
     "output_type": "execute_result"
    }
   ],
   "source": [
    "stories[0].sentences"
   ]
  },
  {
   "cell_type": "code",
   "execution_count": null,
   "metadata": {},
   "outputs": [],
   "source": []
  }
 ],
 "metadata": {
  "kernelspec": {
   "display_name": "Python 3",
   "language": "python",
   "name": "python3"
  },
  "language_info": {
   "codemirror_mode": {
    "name": "ipython",
    "version": 3
   },
   "file_extension": ".py",
   "mimetype": "text/x-python",
   "name": "python",
   "nbconvert_exporter": "python",
   "pygments_lexer": "ipython3",
   "version": "3.7.3"
  }
 },
 "nbformat": 4,
 "nbformat_minor": 2
}
