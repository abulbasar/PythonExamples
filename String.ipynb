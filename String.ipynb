{
 "cells": [
  {
   "cell_type": "markdown",
   "metadata": {},
   "source": [
    "### General String Operations"
   ]
  },
  {
   "cell_type": "code",
   "execution_count": 46,
   "metadata": {},
   "outputs": [],
   "source": [
    "s = \"Education is what remains after one has forgotten everything he learned in school.\""
   ]
  },
  {
   "cell_type": "code",
   "execution_count": 2,
   "metadata": {},
   "outputs": [
    {
     "data": {
      "text/plain": [
       "'EDUCATION IS WHAT REMAINS AFTER ONE HAS FORGOTTEN EVERYTHING HE LEARNED IN SCHOOL.'"
      ]
     },
     "execution_count": 2,
     "metadata": {},
     "output_type": "execute_result"
    }
   ],
   "source": [
    "s.upper()"
   ]
  },
  {
   "cell_type": "code",
   "execution_count": 3,
   "metadata": {},
   "outputs": [
    {
     "data": {
      "text/plain": [
       "'education is what remains after one has forgotten everything he learned in school.'"
      ]
     },
     "execution_count": 3,
     "metadata": {},
     "output_type": "execute_result"
    }
   ],
   "source": [
    "s.lower()"
   ]
  },
  {
   "cell_type": "code",
   "execution_count": 4,
   "metadata": {},
   "outputs": [
    {
     "data": {
      "text/plain": [
       "'Education is what remains after one has forgotten everything she learned in school.'"
      ]
     },
     "execution_count": 4,
     "metadata": {},
     "output_type": "execute_result"
    }
   ],
   "source": [
    "s.replace(\"he\", \"she\")"
   ]
  },
  {
   "cell_type": "code",
   "execution_count": 5,
   "metadata": {},
   "outputs": [
    {
     "data": {
      "text/plain": [
       "'Education is what remains after one has forgotten everything he learned in school.'"
      ]
     },
     "execution_count": 5,
     "metadata": {},
     "output_type": "execute_result"
    }
   ],
   "source": [
    "s.capitalize()"
   ]
  },
  {
   "cell_type": "code",
   "execution_count": 6,
   "metadata": {},
   "outputs": [
    {
     "data": {
      "text/plain": [
       "'Education Is What Remains After One Has Forgotten Everything He Learned In School.'"
      ]
     },
     "execution_count": 6,
     "metadata": {},
     "output_type": "execute_result"
    }
   ],
   "source": [
    "s.title()"
   ]
  },
  {
   "cell_type": "code",
   "execution_count": 7,
   "metadata": {},
   "outputs": [
    {
     "data": {
      "text/plain": [
       "False"
      ]
     },
     "execution_count": 7,
     "metadata": {},
     "output_type": "execute_result"
    }
   ],
   "source": [
    "s.isalpha()"
   ]
  },
  {
   "cell_type": "code",
   "execution_count": 8,
   "metadata": {},
   "outputs": [
    {
     "data": {
      "text/plain": [
       "False"
      ]
     },
     "execution_count": 8,
     "metadata": {},
     "output_type": "execute_result"
    }
   ],
   "source": [
    "s.isnumeric()"
   ]
  },
  {
   "cell_type": "code",
   "execution_count": 9,
   "metadata": {},
   "outputs": [
    {
     "data": {
      "text/plain": [
       "(True, False)"
      ]
     },
     "execution_count": 9,
     "metadata": {},
     "output_type": "execute_result"
    }
   ],
   "source": [
    "\"123\".isnumeric(), \"123.45\".isnumeric()"
   ]
  },
  {
   "cell_type": "code",
   "execution_count": 10,
   "metadata": {},
   "outputs": [
    {
     "data": {
      "text/plain": [
       "(True, False)"
      ]
     },
     "execution_count": 10,
     "metadata": {},
     "output_type": "execute_result"
    }
   ],
   "source": [
    "def is_numeric(s):\n",
    "    flag = False\n",
    "    try:\n",
    "        float(s)\n",
    "        flag = True\n",
    "    except:\n",
    "        pass\n",
    "    return flag\n",
    "is_numeric(\"123.45\"), is_numeric(\"four\")"
   ]
  },
  {
   "cell_type": "code",
   "execution_count": 11,
   "metadata": {},
   "outputs": [
    {
     "data": {
      "text/plain": [
       "40"
      ]
     },
     "execution_count": 11,
     "metadata": {},
     "output_type": "execute_result"
    }
   ],
   "source": [
    "s.find(\"forgotten\")"
   ]
  },
  {
   "cell_type": "code",
   "execution_count": 12,
   "metadata": {},
   "outputs": [
    {
     "data": {
      "text/plain": [
       "True"
      ]
     },
     "execution_count": 12,
     "metadata": {},
     "output_type": "execute_result"
    }
   ],
   "source": [
    "\"forgotten\" in s"
   ]
  },
  {
   "cell_type": "code",
   "execution_count": 13,
   "metadata": {
    "scrolled": true
   },
   "outputs": [
    {
     "data": {
      "text/plain": [
       "['Education',\n",
       " 'is',\n",
       " 'what',\n",
       " 'remains',\n",
       " 'after',\n",
       " 'one',\n",
       " 'has',\n",
       " 'forgotten',\n",
       " 'everything',\n",
       " 'he',\n",
       " 'learned',\n",
       " 'in',\n",
       " 'school.']"
      ]
     },
     "execution_count": 13,
     "metadata": {},
     "output_type": "execute_result"
    }
   ],
   "source": [
    "s.split(\" \")"
   ]
  },
  {
   "cell_type": "code",
   "execution_count": 14,
   "metadata": {},
   "outputs": [
    {
     "data": {
      "text/plain": [
       "'hello:world'"
      ]
     },
     "execution_count": 14,
     "metadata": {},
     "output_type": "execute_result"
    }
   ],
   "source": [
    "parts = [\"hello\", \"world\"]\n",
    "\":\".join(parts)"
   ]
  },
  {
   "cell_type": "code",
   "execution_count": 47,
   "metadata": {},
   "outputs": [
    {
     "data": {
      "text/plain": [
       "'Education|Is|What|Remains|After|One|Has|Forgotten|Everything|He|Learned|In|School.'"
      ]
     },
     "execution_count": 47,
     "metadata": {},
     "output_type": "execute_result"
    }
   ],
   "source": [
    "s.title().replace(\" \", \"|\")"
   ]
  },
  {
   "cell_type": "code",
   "execution_count": 48,
   "metadata": {},
   "outputs": [
    {
     "data": {
      "text/plain": [
       "'Education|Is|What|Remains|After|One|Has|Forgotten|Everything|He|Learned|In|School.'"
      ]
     },
     "execution_count": 48,
     "metadata": {},
     "output_type": "execute_result"
    }
   ],
   "source": [
    "\"|\".join(s.title().split(\" \"))"
   ]
  },
  {
   "cell_type": "code",
   "execution_count": 17,
   "metadata": {},
   "outputs": [],
   "source": [
    "import string"
   ]
  },
  {
   "cell_type": "code",
   "execution_count": 18,
   "metadata": {},
   "outputs": [
    {
     "data": {
      "text/plain": [
       "'abcdefghijklmnopqrstuvwxyzABCDEFGHIJKLMNOPQRSTUVWXYZ'"
      ]
     },
     "execution_count": 18,
     "metadata": {},
     "output_type": "execute_result"
    }
   ],
   "source": [
    "string.ascii_letters"
   ]
  },
  {
   "cell_type": "code",
   "execution_count": 19,
   "metadata": {},
   "outputs": [
    {
     "data": {
      "text/plain": [
       "'0123456789'"
      ]
     },
     "execution_count": 19,
     "metadata": {},
     "output_type": "execute_result"
    }
   ],
   "source": [
    "string.digits"
   ]
  },
  {
   "cell_type": "code",
   "execution_count": 49,
   "metadata": {},
   "outputs": [
    {
     "data": {
      "text/plain": [
       "'!\"#$%&\\'()*+,-./:;<=>?@[\\\\]^_`{|}~'"
      ]
     },
     "execution_count": 49,
     "metadata": {},
     "output_type": "execute_result"
    }
   ],
   "source": [
    "string.punctuation"
   ]
  },
  {
   "cell_type": "code",
   "execution_count": 20,
   "metadata": {},
   "outputs": [],
   "source": [
    "import random"
   ]
  },
  {
   "cell_type": "code",
   "execution_count": 21,
   "metadata": {},
   "outputs": [
    {
     "data": {
      "text/plain": [
       "'QhRxGZ7PeQJuQpjORLftkZT5IFUVyOuPlZI0l-zKKlznW4wxyM'"
      ]
     },
     "execution_count": 21,
     "metadata": {},
     "output_type": "execute_result"
    }
   ],
   "source": [
    "s = string.ascii_letters + string.digits + \"-_\" \n",
    "\"\".join(random.choices(s, k = 50))"
   ]
  },
  {
   "cell_type": "code",
   "execution_count": 90,
   "metadata": {},
   "outputs": [
    {
     "data": {
      "text/plain": [
       "'U'"
      ]
     },
     "execution_count": 90,
     "metadata": {},
     "output_type": "execute_result"
    }
   ],
   "source": [
    "random.choice(string.ascii_uppercase)"
   ]
  },
  {
   "cell_type": "code",
   "execution_count": 108,
   "metadata": {},
   "outputs": [
    {
     "data": {
      "text/plain": [
       "['H', '}', '^', '>', '!']"
      ]
     },
     "execution_count": 108,
     "metadata": {},
     "output_type": "execute_result"
    }
   ],
   "source": [
    "random.choices(string.ascii_letters + string.digits + string.punctuation, k = 5)"
   ]
  },
  {
   "cell_type": "code",
   "execution_count": 110,
   "metadata": {},
   "outputs": [
    {
     "data": {
      "text/plain": [
       "3"
      ]
     },
     "execution_count": 110,
     "metadata": {},
     "output_type": "execute_result"
    }
   ],
   "source": [
    "index = random.randint(1, 9)\n",
    "index"
   ]
  },
  {
   "cell_type": "code",
   "execution_count": 111,
   "metadata": {},
   "outputs": [
    {
     "data": {
      "text/plain": [
       "'0'"
      ]
     },
     "execution_count": 111,
     "metadata": {},
     "output_type": "execute_result"
    }
   ],
   "source": [
    "random.choice(string.digits)"
   ]
  },
  {
   "cell_type": "code",
   "execution_count": 119,
   "metadata": {},
   "outputs": [
    {
     "data": {
      "text/plain": [
       "{'#'}"
      ]
     },
     "execution_count": 119,
     "metadata": {},
     "output_type": "execute_result"
    }
   ],
   "source": [
    "s1 = set(string.punctuation)\n",
    "s1.intersection(\"hello world#\")"
   ]
  },
  {
   "cell_type": "code",
   "execution_count": 161,
   "metadata": {},
   "outputs": [
    {
     "data": {
      "text/plain": [
       "'BXeZ#=vv;D8]JYT\";kj1%^q8FWBY^&}.LtFyC5v3@A4-,'"
      ]
     },
     "execution_count": 161,
     "metadata": {},
     "output_type": "execute_result"
    }
   ],
   "source": [
    "def generate_password(n = random.randint(8, 50)):\n",
    "    assert n>8\n",
    "    chars = [random.choice(string.ascii_uppercase)]\n",
    "    chars += random.choices(string.ascii_letters \n",
    "                    + string.digits + string.punctuation, k = n-1)\n",
    "    index = random.randint(1, n-1)\n",
    "    chars[index] = random.choice(string.digits)\n",
    "    if len(set(string.punctuation).intersection(chars)) == 0:\n",
    "        chars = generate_password(n)\n",
    "    return \"\".join(chars)\n",
    "generate_password()"
   ]
  },
  {
   "cell_type": "markdown",
   "metadata": {},
   "source": [
    "### Non cryptographic encryption"
   ]
  },
  {
   "cell_type": "code",
   "execution_count": 22,
   "metadata": {},
   "outputs": [],
   "source": [
    "import hashlib"
   ]
  },
  {
   "cell_type": "code",
   "execution_count": 23,
   "metadata": {},
   "outputs": [
    {
     "data": {
      "text/plain": [
       "'a591a6d40bf420404a011733cfb7b190d62c65bf0bcda32b57b277d9ad9f146e'"
      ]
     },
     "execution_count": 23,
     "metadata": {},
     "output_type": "execute_result"
    }
   ],
   "source": [
    "s = \"Hello World\"\n",
    "encrypted = hashlib.sha256(s.encode(\"utf-8\")).hexdigest() # sha256 is one way encryption\n",
    "encrypted"
   ]
  },
  {
   "cell_type": "markdown",
   "metadata": {},
   "source": [
    "### Cryptographic Encryption"
   ]
  },
  {
   "cell_type": "code",
   "execution_count": 51,
   "metadata": {},
   "outputs": [],
   "source": [
    "from cryptography.fernet import Fernet"
   ]
  },
  {
   "cell_type": "code",
   "execution_count": 53,
   "metadata": {},
   "outputs": [
    {
     "data": {
      "text/plain": [
       "b'iyKwj52uSn1_Z_z94sJyCf2er7TAszWJwZe1di5dWM0='"
      ]
     },
     "execution_count": 53,
     "metadata": {},
     "output_type": "execute_result"
    }
   ],
   "source": [
    "key = Fernet.generate_key()\n",
    "key"
   ]
  },
  {
   "cell_type": "code",
   "execution_count": 55,
   "metadata": {},
   "outputs": [
    {
     "data": {
      "text/plain": [
       "44"
      ]
     },
     "execution_count": 55,
     "metadata": {},
     "output_type": "execute_result"
    }
   ],
   "source": [
    "\"\"\"\n",
    "Do not loose the key. Otherwise you will not be able to decrypt.\n",
    "\"\"\"\n",
    "open(\"/tmp/fernet.key\", \"wb\").write(key)"
   ]
  },
  {
   "cell_type": "code",
   "execution_count": 57,
   "metadata": {},
   "outputs": [
    {
     "data": {
      "text/plain": [
       "b'my secrets'"
      ]
     },
     "execution_count": 57,
     "metadata": {},
     "output_type": "execute_result"
    }
   ],
   "source": [
    "message = \"my secrets\".encode(\"utf-8\")\n",
    "message"
   ]
  },
  {
   "cell_type": "code",
   "execution_count": 59,
   "metadata": {},
   "outputs": [],
   "source": [
    "fernet = Fernet(key)"
   ]
  },
  {
   "cell_type": "code",
   "execution_count": 73,
   "metadata": {},
   "outputs": [
    {
     "data": {
      "text/plain": [
       "b'gAAAAABdQR5Bb6ZAqQ08XIfjETmEHUhTiyrDhVmwyvSXDd4cfnN71sFtpdvnOSVBdF6_EgkEvZjIevrSkpvXM46LNJs3CGqn0g=='"
      ]
     },
     "execution_count": 73,
     "metadata": {},
     "output_type": "execute_result"
    }
   ],
   "source": [
    "encrypted = fernet.encrypt(message)\n",
    "encrypted"
   ]
  },
  {
   "cell_type": "code",
   "execution_count": 74,
   "metadata": {},
   "outputs": [
    {
     "data": {
      "text/plain": [
       "b'my secrets'"
      ]
     },
     "execution_count": 74,
     "metadata": {},
     "output_type": "execute_result"
    }
   ],
   "source": [
    "fernet.decrypt(encrypted)"
   ]
  },
  {
   "cell_type": "markdown",
   "metadata": {},
   "source": [
    "### String formatting"
   ]
  },
  {
   "cell_type": "code",
   "execution_count": 24,
   "metadata": {},
   "outputs": [
    {
     "data": {
      "text/plain": [
       "'Price of GE stock is 10.52'"
      ]
     },
     "execution_count": 24,
     "metadata": {},
     "output_type": "execute_result"
    }
   ],
   "source": [
    "\"Price of %s stock is %.2f\" % (\"GE\", 10.52)"
   ]
  },
  {
   "cell_type": "code",
   "execution_count": 25,
   "metadata": {},
   "outputs": [],
   "source": [
    "d = dict(id = \"KIAL\", location = \"Bangalore Intl Airport\", max_temp = 29, min_temp = 21, precipitation = 0.2)"
   ]
  },
  {
   "cell_type": "code",
   "execution_count": 26,
   "metadata": {},
   "outputs": [
    {
     "data": {
      "text/plain": [
       "'KIAL  : Bangalore Intl Airport : 29/21 0.200000'"
      ]
     },
     "execution_count": 26,
     "metadata": {},
     "output_type": "execute_result"
    }
   ],
   "source": [
    "\"{id:s}  : {location:s} : {max_temp:d}/{min_temp:d} {precipitation:f}\".format(**d)"
   ]
  },
  {
   "cell_type": "code",
   "execution_count": 27,
   "metadata": {},
   "outputs": [
    {
     "data": {
      "text/plain": [
       "'KIAL: Bangalore Intl Airport : 29/21 0.20'"
      ]
     },
     "execution_count": 27,
     "metadata": {},
     "output_type": "execute_result"
    }
   ],
   "source": [
    "\"{id:s}: {location:s} : {max_temp:d}/{min_temp:d} {precipitation:0.2f}\".format(**d)"
   ]
  },
  {
   "cell_type": "code",
   "execution_count": 28,
   "metadata": {},
   "outputs": [
    {
     "data": {
      "text/plain": [
       "'KIAL: Bangalore Intl Airport : 29/21 0.20'"
      ]
     },
     "execution_count": 28,
     "metadata": {},
     "output_type": "execute_result"
    }
   ],
   "source": [
    "\"{id:s}: {location:s} : {max_temp:d}/{min_temp:d} {precipitation:0.2f}\".format_map(d)"
   ]
  },
  {
   "cell_type": "markdown",
   "metadata": {},
   "source": [
    "### String parsing"
   ]
  },
  {
   "cell_type": "code",
   "execution_count": 29,
   "metadata": {},
   "outputs": [],
   "source": [
    "ingredient = \"Kumquat: 2 cups\""
   ]
  },
  {
   "cell_type": "code",
   "execution_count": 30,
   "metadata": {},
   "outputs": [],
   "source": [
    "import re"
   ]
  },
  {
   "cell_type": "code",
   "execution_count": 31,
   "metadata": {},
   "outputs": [],
   "source": [
    "pattern_text = r'(?P<ingredient>\\w+):\\s+(?P<amount>\\d+)\\s+(?P<unit>\\w+)'"
   ]
  },
  {
   "cell_type": "code",
   "execution_count": 32,
   "metadata": {},
   "outputs": [],
   "source": [
    "pattern = re.compile(pattern_text)"
   ]
  },
  {
   "cell_type": "code",
   "execution_count": 33,
   "metadata": {},
   "outputs": [],
   "source": [
    "match = pattern.match(ingredient)"
   ]
  },
  {
   "cell_type": "code",
   "execution_count": 34,
   "metadata": {},
   "outputs": [
    {
     "data": {
      "text/plain": [
       "False"
      ]
     },
     "execution_count": 34,
     "metadata": {},
     "output_type": "execute_result"
    }
   ],
   "source": [
    "match is None"
   ]
  },
  {
   "cell_type": "code",
   "execution_count": 35,
   "metadata": {},
   "outputs": [
    {
     "data": {
      "text/plain": [
       "('Kumquat', '2', 'cups')"
      ]
     },
     "execution_count": 35,
     "metadata": {},
     "output_type": "execute_result"
    }
   ],
   "source": [
    "match.groups()"
   ]
  },
  {
   "cell_type": "code",
   "execution_count": 36,
   "metadata": {},
   "outputs": [
    {
     "data": {
      "text/plain": [
       "'Kumquat'"
      ]
     },
     "execution_count": 36,
     "metadata": {},
     "output_type": "execute_result"
    }
   ],
   "source": [
    "match.group('ingredient')"
   ]
  },
  {
   "cell_type": "code",
   "execution_count": 37,
   "metadata": {},
   "outputs": [
    {
     "data": {
      "text/plain": [
       "'2'"
      ]
     },
     "execution_count": 37,
     "metadata": {},
     "output_type": "execute_result"
    }
   ],
   "source": [
    "match.group('amount')"
   ]
  },
  {
   "cell_type": "code",
   "execution_count": 38,
   "metadata": {},
   "outputs": [
    {
     "data": {
      "text/plain": [
       "'cups'"
      ]
     },
     "execution_count": 38,
     "metadata": {},
     "output_type": "execute_result"
    }
   ],
   "source": [
    "match.group('unit')"
   ]
  },
  {
   "cell_type": "markdown",
   "metadata": {},
   "source": [
    "```\n",
    "\\w matches any alphanumeric character (a to z, A to Z, 0 to 9)\n",
    "\\d matches any decimal digit\n",
    "\\s matches any space or tab character\n",
    "\n",
    "Following inverses the pattern search\n",
    "\\W matches any character that's not a letter or a digit\n",
    "\\D matches any character that's not a digit\n",
    "\\S matches any character that's not some kind of space or tab\n",
    "\n",
    "\n",
    "+ as a suffix means to match one or more of the preceeding patterns. For example \\d+ matches one or more digits. To match an ordinary +, we need to use \\+.\n",
    "* as a suffix which matches zero or more of the preceding patterns. \\w* matches zero or more characters. To match a *, we need to use \\*.\n",
    "? as a suffix which matches zero or one of the preceding expressions. This character is used in other places, and has a slightly different meaning. We saw it in (?P<name>...) where it was inside the () to define special properties for the grouping.\n",
    "The . matches any single character. To match a . specifically, we need to use \\.\n",
    "```"
   ]
  },
  {
   "cell_type": "markdown",
   "metadata": {},
   "source": [
    "### Exaples of parsing html \n",
    "\n",
    "Find all phone numbers from this page https://www.tatamotors.com/contact-us/\n",
    "    "
   ]
  },
  {
   "cell_type": "code",
   "execution_count": 39,
   "metadata": {},
   "outputs": [],
   "source": [
    "import requests"
   ]
  },
  {
   "cell_type": "code",
   "execution_count": 40,
   "metadata": {},
   "outputs": [],
   "source": [
    "content = requests.get(\"https://www.tatamotors.com/contact-us/\").text"
   ]
  },
  {
   "cell_type": "code",
   "execution_count": 41,
   "metadata": {},
   "outputs": [
    {
     "data": {
      "text/plain": [
       "'<!doctype html>\\r\\n<html>\\r\\n<head>\\r\\n<meta http-equiv=\"Content-Type\" content=\"text/html; charset=utf-8\" />\\r\\n<meta name=\"viewport\" content=\"width=device-width; initial-scale=1.0\" />\\r\\n<title>Contact Us - Tata Motors Limited</title>\\r\\n<link rel=\"stylesheet\" type=\"text/css\" href=\"https://www.tatamotors.com/wp-content/themes/tatamotors_2019/css/style.css\" />\\r\\n<link rel=\"stylesheet\" type=\"text/css\" href=\"https://www.tatamotors.com/wp-content/themes/tatamotors_2019/css/nav.css\" />\\r\\n<!--<link rel=\"stylesheet\" type=\"text/css\" href=\"css/jpreloader.css\" />-->\\r\\n<link rel=\"stylesheet\" type=\"text/css\" href=\"https://www.tatamotors.com/wp-content/themes/tatamotors_2019/css/slick.css\">\\r\\n<link rel=\"stylesheet\" type=\"text/css\" href=\"https://www.tatamotors.com/wp-content/themes/tatamotors_2019/css/colorbox.css\" />\\r\\n<link rel=\"stylesheet\" type=\"text/css\" href=\"https://www.tatamotors.com/wp-content/themes/tatamotors_2019/css/inside.css\" />\\r\\n<link rel=\"stylesheet\" href=\"https://www.tatamotors.com/wp-content/themes/tatamotors_2019/css/contact.css\" />\\r\\n<script type=\"text/javascript\" src=\"https://www.tatamotors.com/wp-content/themes/tatamotors_2019/js/jquery.min.js\"></script>\\r\\n<link rel=\"stylesheet\" href=\"https://www.tatamotors.com/wp-content/themes/tatamotors_2019/css/dev.css\" />\\r\\n\\n<!-- All in One SEO Pack 2.4.4.1 by Michael Torbert of Semper Fi Web Design[178,217] -->\\n<meta name=\"description\"  content=\"At Tata Motors, we&#039;re glad to be of service to you. We look forward to your suggestions and feedback.\" />\\n\\n<meta name=\"keywords\"  content=\"tata motors limited\" />\\n\\n<link rel=\"canonical\" href=\"https://www.tatamotors.com/contact-us/\" />\\n<!-- /all in one seo pack -->\\n\\t\\t<script type=\"text/javascript\">\\n\\t\\t\\twindow._wpemojiSettings = {\"baseUrl\":\"https:\\\\/\\\\/s.w.org\\\\/images\\\\/core\\\\/emoji\\\\/2.4\\\\/72x72\\\\/\",\"ext\":\".png\",\"svgUrl\":\"https:\\\\/\\\\/s.w.org\\\\/images\\\\/core\\\\/emoji\\\\/2.4\\\\/svg\\\\/\",\"svgExt\":\".svg\",\"source\":{\"concatemoji\":\"https:\\\\/\\\\/www.tatamotors.com\\\\/wp-includes\\\\/js\\\\/wp-emoji-release.min.js?ver=4.9.4\"}};\\n\\t\\t\\t!function(a,b,c){function d(a,b){var c=String.fromCharCode;l.clearRect(0,0,k.width,k.height),l.fillText(c.apply(this,a),0,0);var d=k.toDataURL();l.clearRect(0,0,k.width,k.height),l.fillText(c.apply(this,b),0,0);var e=k.toDataURL();return d===e}function e(a){var b;if(!l||!l.fillText)return!1;switch(l.textBaseline=\"top\",l.font=\"600 32px Arial\",a){case\"flag\":return!(b=d([55356,56826,55356,56819],[55356,56826,8203,55356,56819]))&&(b=d([55356,57332,56128,56423,56128,56418,56128,56421,56128,56430,56128,56423,56128,56447],[55356,57332,8203,56128,56423,8203,56128,56418,8203,56128,56421,8203,56128,56430,8203,56128,56423,8203,56128,56447]),!b);case\"emoji\":return b=d([55357,56692,8205,9792,65039],[55357,56692,8203,9792,65039]),!b}return!1}function f(a){var c=b.createElement(\"script\");c.src=a,c.defer=c.type=\"text/javascript\",b.getElementsByTagName(\"head\")[0].appendChild(c)}var g,h,i,j,k=b.createElement(\"canvas\"),l=k.getContext&&k.getContext(\"2d\");for(j=Array(\"flag\",\"emoji\"),c.supports={everything:!0,everythingExceptFlag:!0},i=0;i<j.length;i++)c.supports[j[i]]=e(j[i]),c.supports.everything=c.supports.everything&&c.supports[j[i]],\"flag\"!==j[i]&&(c.supports.everythingExceptFlag=c.supports.everythingExceptFlag&&c.supports[j[i]]);c.supports.everythingExceptFlag=c.supports.everythingExceptFlag&&!c.supports.flag,c.DOMReady=!1,c.readyCallback=function(){c.DOMReady=!0},c.supports.everything||(h=function(){c.readyCallback()},b.addEventListener?(b.addEventListener(\"DOMContentLoaded\",h,!1),a.addEventListener(\"load\",h,!1)):(a.attachEvent(\"onload\",h),b.attachEvent(\"onreadystatechange\",function(){\"complete\"===b.readyState&&c.readyCallback()})),g=c.source||{},g.concatemoji?f(g.concatemoji):g.wpemoji&&g.twemoji&&(f(g.twemoji),f(g.wpemoji)))}(window,document,window._wpemojiSettings);\\n\\t\\t</script>\\n\\t\\t<style type=\"text/css\">\\nimg.wp-smiley,\\nimg.emoji {\\n\\tdisplay: inline !important;\\n\\tborder: none !important;\\n\\tbox-shadow: none !important;\\n\\theight: 1em !important;\\n\\twidth: 1em !important;\\n\\tmargin: 0 .07em !important;\\n\\tvertical-align: -0.1em !important;\\n\\tbackground: none !important;\\n\\tpadding: 0 !important;\\n}\\n</style>\\n<meta name=\"google-site-verification\" content=\"8KF5D4w-AtDTRIxzAOmxB9xjozshhVy-RCMx5WoKeFE\" /><script type=\"text/javascript\" src=\"https://www.tatamotors.com/wp-content/themes/tatamotors_2019/js/ga.js\"></script>\\r\\n<link rel=\"shortcut icon\" href=\"https://www.tatamotors.com/wp-content/themes/tatamotors_2019/images/favicon.ico\"  type=\"image/x-icon\"/>\\r\\n</head><body>\\r\\n<nav class=\"nav-wheel\">\\r\\n    <div class=\"page-wheel-nav\">\\r\\n        <div class=\"page-wheel\">\\r\\n           <img src=\"https://www.tatamotors.com/wp-content/themes/tatamotors_2019/images/wheel.png\" alt=\"Tata Motor Wheels\" title=\"Tata Motor Wheels\">\\r\\n        </div>\\r\\n        <a class=\"next\" href=\"/\" >\\r\\n        <i></i><span>Home</span>        </a>\\r\\n                    <a class=\"prev\" href=\"/careers/\" >\\r\\n        <span>Careers</span><i></i>        </a>\\r\\n            </div>\\r\\n</nav><header class=\"cd-main-header\">\\r\\n\\t\\t<a class=\"cd-logo\" href=\"/\"><img src=\"https://www.tatamotors.com/wp-content/themes/tatamotors_2019/images/tata_motors_logo.png\" alt=\"Tata Motor Connecting Aspiration Logo\" title=\"Tata Motor Connecting Aspiration Logo\"></a>\\r\\n        <a class=\"cd-logo2\" href=\"http://www.tata.com/\" target=\"_blank\"><img src=\"https://www.tatamotors.com/wp-content/themes/tatamotors_2019/images/tata_logo.png\" alt=\"Tata Motor Logo\" title=\"Tata Motor Logo\"></a>\\r\\n\\r\\n\\t\\t<ul class=\"cd-header-buttons\">\\r\\n        \\r\\n\\t\\t\\t<li><a class=\"cd-search-trigger\" href=\"#cd-search\">Search<span></span></a></li>\\r\\n\\t\\t\\t<li><a class=\"cd-nav-trigger\" href=\"#cd-primary-nav\">Menu<span></span></a></li>\\r\\n\\t\\t</ul> <!-- cd-header-buttons -->\\r\\n\\t</header>\\r\\n\\r\\n\\t<main class=\"cd-main-content\">\\r\\n\\t\\t<!-- your content here -->\\r\\n\\t</main>\\r\\n\\r\\n\\t<div class=\"cd-overlay\"></div>\\r\\n\\r\\n\\t<nav class=\"cd-nav\">\\r\\n\\t\\t<ul id=\"cd-primary-nav\" class=\"cd-primary-nav is-fixed\">\\r\\n            <li class=\"has-children\"><a href=\"https://www.tatamotors.com/about-us/\" target=\"_self\"  class=\"\">About Us<span class=\"caret\"></span></a><ul class=\"cd-nav-gallery is-hidden\">\\r\\n               \\r\\n\\t\\t\\t\\t\\t<li class=\"go-back\"><span>Back</span><a href=\"/about-us/\">About Us</a></li>\\r\\n                     <div class=\"center_nav\">\\r\\n\\t\\t\\t\\t\\t<li class=\"thumb_menu\">\\r\\n\\t\\t\\t\\t\\t<img src=\"/wp-content/uploads/2018/11/19102557/about-us-menu.jpg\" alt=\"Commercial Vehicles by Tata Motors, India\" title=\"Commercial Vehicles by Tata Motors, India\">\\r\\n\\t\\t\\t\\t\\t</li>\\r\\n\\r\\n\\t\\t\\t\\t\\t<li class=\"second-nav\">\\r\\n\\t\\t\\t\\t\\t<h3><a href=\"/about-us/\">About Us</a></h3>\\r\\n                    <div>\\r\\n                    <a href=\"/about-us/company-profile/\">Company Profile</a>\\r\\n                    <a href=\"/about-us/leadership/\">Leadership</a>\\r\\n                    <a href=\"/about-us/facilities/\">Facilities</a>\\r\\n                    \\r\\n                    </div>\\r\\n                    <div>\\r\\n<a href=\"/about-us/subsidiaries/\">Subsidiaries</a>\\r\\n\\t\\t    <!--<a href=\"/corporate-social-responsibility/\">CSR</a>-->\\r\\n<a href=\"/innovation/\">Innovations</a>\\r\\n                    <a href=\"/about-us/awards-recognitions/\">Awards</a>\\r\\n                    <!--<a href=\"/about-us/corporate-governance/\">Corporate Governance</a>-->\\r\\n                    <!--<a href=\"/about-us/contract-labour-compliance/\">Contract Labour Compliance</a>-->\\r\\n                    </div>\\r\\n\\t\\t</li>\\r\\n\\r\\n                    </div>\\r\\n\\t\\t\\t\\t</ul></li><li class=\"has-children\"><a href=\"https://www.tatamotors.com/products/\" target=\"_self\"  class=\"productCursor\">Products<span class=\"caret\"></span></a><ul class=\"cd-nav-gallery is-hidden\">\\r\\n               \\r\\n\\t\\t\\t\\t\\t<li class=\"go-back\"><span>Back</span><a href=\"/products/\">Products</a></li>\\r\\n                     <div class=\"center_nav\">\\r\\n\\t\\t\\t\\t\\t<li class=\"thumb_menu\">\\r\\n\\t\\t\\t\\t\\t<img src=\"/wp-content/uploads/2018/11/19095209/product-menu.jpg\" alt=\"Products - Tata Motors\" title=\"Products - Tata Motors\" />\\r\\n\\t\\t\\t\\t\\t</li>\\r\\n\\r\\n\\t\\t\\t\\t\\t<li class=\"second-nav\">\\r\\n\\t\\t\\t\\t\\t<h3><a href=\"/products/\">Products</a></h3>\\r\\n                    <div class=\"full_nav\">\\r\\n                    <a href=\"/products/cars-utility-vehicles/\">Cars and Sports Utility Vehicles</a>\\r\\n                    <a href=\"/products/trucks-buses/\">Trucks & Buses</a>\\r\\n                    <!--<a href=\"#\">Buses</a>-->\\r\\n                    <a href=\"/products/defence/about-us/\">Defence</a>\\r\\n                    </div>\\r\\n                    \\r\\n\\t\\t\\t\\t\\t</li>\\r\\n\\r\\n                    </div>\\r\\n\\t\\t\\t\\t</ul></li><li class=\"has-children\"><a href=\"https://www.tatamotors.com/markets/\" target=\"_self\"  class=\"\">Markets<span class=\"caret\"></span></a><ul class=\"cd-secondary-nav is-hidden\">\\r\\n                \\r\\n\\t\\t\\t\\t\\t<li class=\"go-back\"><span class=\"mrback\">Back</span><a href=\"/markets/\">Markets</a></li>\\r\\n\\t\\t\\t\\t\\t<div class=\"marketcenter_nav\">\\r\\n\\t\\t\\t\\t\\t<li class=\"has-children\">\\r\\n\\t\\t\\t\\t\\t\\t<a href=\"#\" class=\"market_overviewbg tab_link\">Overview</a>\\r\\n\\t\\t\\t\\t\\t\\t\\r\\n\\t\\t\\t\\t\\t\\t<ul class=\"is-hidden\">\\r\\n\\t\\t\\t\\t\\t\\t\\t<li class=\"go-back\"><a href=\"#0\"><span>Back</span> Overview</a></li>\\r\\n                            <div class=\"col2 marketinfo_con market_infofisrt\">With over <span>8.5 million</span> Tata branded vehicles plying globally, we offer a wide spectrum of vehicles that are customised for local conditions and meet the highest standards for quality, safety, environment norms and user comfort. We have been expanding our international footprint through exports <span>since 1961</span>. Today, Tata Motors is present in <span>over 175 countries</span>, with a worldwide network comprising <span>over 6,600 touch points</span>. With vast global experience, the company brings deep understanding of customer expectations from diverse markets, and is well positioned to cater to ever changing automotive norms and consumer trends across the globe.\\r\\n                            <!--<a href=\"#\" class=\"btn_menu\">Worldwide presence</a>-->\\r\\n                             </div>\\r\\n                            <div class=\"col2 menuoverview_bg\"></div>\\r\\n\\t\\t\\t\\t\\t\\t</ul>\\r\\n                        \\r\\n\\t\\t\\t\\t\\t</li>\\r\\n\\r\\n\\t\\t\\t\\t\\t<li class=\"has-children\">\\r\\n\\t\\t\\t\\t\\t\\t<a href=\"#\" class=\"market_africabg tab_link\">Africa</a>\\r\\n\\t\\t\\t\\t\\t\\t\\r\\n\\t\\t\\t\\t\\t\\t<ul class=\"is-hidden\">\\r\\n\\t\\t\\t\\t\\t\\t\\t<li class=\"go-back\"><a href=\"#0\"><span>Back</span> Africa</a></li>\\r\\n                            <div class=\"col2 marketinfo_con\">In the continent of Africa, Tata Motors has significant presence in <span>South Africa, Angola, Algeria, Democratic Republic of Congo, Ghana, Kenya, Morocco, Mozambique, Nigeria, Seychelles, Sudan, Tanzania, Tunisia, Uganda, Zambia and Zimbabwe.</span> Africa has been a preferred destination for Tata Motors since 1992. The roads of Africa are home to both left-hand and right-hand drive versions of our cars, buses, SUVs and trucks. We have a manufacturing base in Rosslyn, South Africa, which produces trucks ranging from <span>7 to 75 tonnes.</span></div>\\r\\n                         <div class=\"col2 africa_bg\">\\r\\n                           <!-- <div class=\"country_link\">\\r\\n\\t\\t\\t\\t\\t\\t\\t<li><a href=\"#\"><i><img src=\"[template_url]/images/algeria.png\" alt=\"\"/></i> Algeria</a></li>\\r\\n\\t\\t\\t\\t\\t\\t\\t<li><a href=\"#\"><i><img src=\"[template_url]/images/angola.png\" alt=\"\"/></i> Angola</a></li>\\r\\n\\t\\t\\t\\t\\t\\t\\t<li><a href=\"#\"><i><img src=\"[template_url]/images/congo.png\" alt=\"\"/></i> Congo</a></li>\\r\\n                            <li><a href=\"#\"><i><img src=\"[template_url]/images/djibouti.png\" alt=\"\"/></i> Djibouti</a></li>\\r\\n                            <li><a href=\"#\"><i><img src=\"[template_url]/images/ethiopia.png\" alt=\"\"/></i> Ethiopia</a></li>\\r\\n                            </div>-->\\r\\n                            <div class=\"country_link\">\\r\\n                            <li><a href=\"http://www.tatamotors.com.gh/\" target=\"_blank\"><i><img src=\"https://www.tatamotors.com/wp-content/themes/tatamotors_2019/images/ghana.png\" alt=\"Ghana Icon\" title=\"Ghana Icon\"/></i> Ghana</a></li>\\r\\n                            <li><a href=\"http://www.tatamotors.co.ke/\" target=\"_blank\"><i><img src=\"https://www.tatamotors.com/wp-content/themes/tatamotors_2019/images/kenya.png\" alt=\"Kenya Icon\" title=\"Kenya Icon\"/></i> Kenya</a></li>\\r\\n                           <!-- <li><a href=\"#\"><i><img src=\"[template_url]/images/morocco.png\" alt=\"\"/></i> Morocco</a></li>-->\\r\\n                            <li><a href=\"http://www.tatamotors.co.mz/\" target=\"_blank\"><i><img src=\"https://www.tatamotors.com/wp-content/themes/tatamotors_2019/images/mozambique.png\" alt=\"Mozambique Icon\" title=\"Mozambique Icon\"/></i> Mozambique</a></li>\\r\\n                            <li><a href=\"http://tata-nigeria.co/\" target=\"_blank\"><i><img src=\"https://www.tatamotors.com/wp-content/themes/tatamotors_2019/images/nigeria.png\" alt=\"Nigeria Icon\" title=\"Nigeria Icon\"/></i> Nigeria</a></li>\\r\\n                            </div>\\r\\n                            <div class=\"country_link\">\\r\\n                            <li><a href=\"http://www.tatamotors.sn/\" target=\"_blank\"><i><img src=\"https://www.tatamotors.com/wp-content/themes/tatamotors_2019/images/senegal.png\" alt=\"Senegal Icon\" title=\"Senegal Icon\"/></i> Senegal</a></li>\\r\\n                            <!--<li><a href=\"#\"><i><img src=\"[template_url]/images/seychelles.png\" alt=\"\"/></i> Seychelles</a></li>-->\\r\\n                            <li><a href=\"https://www.tatasa.co.za/\" target=\"_blank\"><i><img src=\"https://www.tatamotors.com/wp-content/themes/tatamotors_2019/images/southafrica.png\" alt=\"Southafrica Icon\" title=\"Southafrica Icon\"/></i> South Africa</a></li>\\r\\n                            <!--<li><a href=\"#\"><i><img src=\"[template_url]/images/sudan.png\" alt=\"\"/></i> Sudan</a></li>-->\\r\\n                            <li><a href=\"http://www.tatamotors.co.tz/\" target=\"_blank\"><i><img src=\"https://www.tatamotors.com/wp-content/themes/tatamotors_2019/images/tanzania.png\" alt=\"Tanzania Icon\" title=\"Tanzania Icon\"/></i> Tanzania</a></li>\\r\\n                            <li><a href=\"http://www.tatamotors.tn/\" target=\"_blank\"><i><img src=\"https://www.tatamotors.com/wp-content/themes/tatamotors_2019/images/tunisia.png\" alt=\"Tunisia Icon\" title=\"Tunisia Icon\"/></i> Tunisia</a></li>\\r\\n                            </div>\\r\\n                            <div class=\"country_link\">\\r\\n                            \\r\\n                            <li><a href=\"http://www.tatamotors.ug/\" target=\"_blank\"><i><img src=\"https://www.tatamotors.com/wp-content/themes/tatamotors_2019/images/uganda.png\" alt=\"Uganda Icon\" title=\"Uganda Icon\"/></i> Uganda</a></li>\\r\\n                            <li><a href=\"http://www.tatamotors.com.zm/\" target=\"_blank\"><i><img src=\"https://www.tatamotors.com/wp-content/themes/tatamotors_2019/images/zambia.png\" alt=\"Zambia Icon\" title=\"Zambia Icon\"/></i> Zambia</a></li>\\r\\n                            <!--<li><a href=\"#\"><i><img src=\"[template_url]/images/zimbabwe.png\" alt=\"\"/></i> Zimbabwe</a></li>-->\\r\\n                            </div>\\r\\n                            </div>\\r\\n\\t\\t\\t\\t\\t\\t</ul>\\r\\n\\t\\t\\t\\t\\t</li>\\r\\n                    \\r\\n                    <li class=\"has-children\">\\r\\n\\t\\t\\t\\t\\t\\t<a href=\"#\" class=\"market_latinamericabg tab_link\">Latin America</a>\\r\\n\\t\\t\\t\\t\\t\\t\\r\\n\\t\\t\\t\\t\\t\\t<ul class=\"is-hidden\">\\r\\n\\t\\t\\t\\t\\t\\t\\t<li class=\"go-back\"><a href=\"#0\"><span>Back</span> Latin America</a></li>\\r\\n                            <div class=\"col2 marketinfo_con\">Tata Motors has been wooing customers in <span>Latin America since 2009</span>. Our most popular vehicles here are our compact and mid-sized sedans including the Indigo and the Manza, our hatchback Vista, and the Tata Xenon, our bestselling pickup. What our vehicles bring to the market are a winning combination of power-packed performance and lower lifecycle cost of ownership.</div>\\r\\n                            <div class=\"col2 menulatin_america_bg\">\\r\\n                            <div class=\"country_link\">\\r\\n\\t\\t\\t\\t\\t\\t\\t<li><a href=\"http://www.tatamotors.bo/\" target=\"_blank\"><i><img src=\"https://www.tatamotors.com/wp-content/themes/tatamotors_2019/images/bolivia.png\" alt=\"Bolivia Icon\" title=\"Bolivia Icon\"/></i> Bolivia</a></li>\\r\\n\\t\\t\\t\\t\\t\\t\\t<li><a href=\"http://www.tatamotors.cl/\" target=\"_blank\"><i><img src=\"https://www.tatamotors.com/wp-content/themes/tatamotors_2019/images/chile.png\" alt=\"Chile Icon\" title=\"Chile Icon\"/></i> Chile</a></li>\\r\\n\\t\\t\\t\\t\\t\\t\\t<li><a href=\"http://www.tatamotors.ec/\" target=\"_blank\"><i><img src=\"https://www.tatamotors.com/wp-content/themes/tatamotors_2019/images/ecuador.png\" alt=\"Ecuador Icon\" title=\"Ecuador Icon\"/></i> Ecuador</a></li>\\r\\n                            <li><a href=\"http://www.tatamotors.uy/\" target=\"_blank\"><i><img src=\"https://www.tatamotors.com/wp-content/themes/tatamotors_2019/images/uruguay.png\" alt=\"Uruguay Icon\" title=\"Uruguay Icon\"/></i> Uruguay</a></li>\\r\\n<li><a href=\"http://www.tatamotors.com.py\" target=\"_blank\"><i><img src=\"/wp-content/uploads/2018/07/09100420/paraguay-sml.png\" alt=\"Paraguay Icon\" title=\"Paraguay Icon\"/></i> Paraguay</a></li>\\r\\n                            </div>\\r\\n                            \\r\\n                            \\r\\n                            \\r\\n                            </div>\\r\\n\\t\\t\\t\\t\\t\\t</ul>\\r\\n\\t\\t\\t\\t\\t</li>\\r\\n                    \\r\\n                    <!--<li class=\"has-children\">\\r\\n\\t\\t\\t\\t\\t\\t<a href=\"#\" class=\"market_europebg tab_link\">Europe</a>\\r\\n\\t\\t\\t\\t\\t\\t\\r\\n\\t\\t\\t\\t\\t\\t<ul class=\"is-hidden\">\\r\\n\\t\\t\\t\\t\\t\\t\\t<li class=\"go-back\"><a href=\"#0\"><span>Back</span> Europe</a></li>\\r\\n                            <div class=\"col2 marketinfo_con\">Europe is the home of great automobile engineering and Tata Motors is proud to have a strong presence here, through our design and development facilities – Trilix, our design and engineering partner in <span>Turin, Italy</span> and the award-winning Tata Motors European Technical Centre in UK. Europe is where our cars and trucks are benchmarked to international standards in styling, design, craftsmanship, quality and reliability. Europe is where we create and fall in love with the next generation of vehicles.</div>\\r\\n                            <div class=\"col2 menueurope_bg\">\\r\\n                            <div class=\"country_link\">\\r\\n\\t\\t\\t\\t\\t\\t\\t<li><a href=\"#\"><i><img src=\"[template_url]/images/italy.png\" alt=\"\"/></i> Italy</a></li>\\r\\n\\t\\t\\t\\t\\t\\t\\t<li><a href=\"#\"><i><img src=\"[template_url]/images/poland.png\" alt=\"\"/></i> Poland</a></li>\\r\\n\\t\\t\\t\\t\\t\\t\\t<li><a href=\"#\"><i><img src=\"[template_url]/images/spain.png\" alt=\"\"/></i> Spain</a></li>\\r\\n                            </div>\\r\\n                            </div>\\r\\n\\t\\t\\t\\t\\t\\t</ul>\\r\\n\\t\\t\\t\\t\\t</li>-->\\r\\n                    \\r\\n                    <li class=\"has-children\">\\r\\n\\t\\t\\t\\t\\t\\t<a href=\"#\" class=\"market_russiawbg tab_link\">Russia</a>\\r\\n\\t\\t\\t\\t\\t\\t\\r\\n\\t\\t\\t\\t\\t\\t<ul class=\"is-hidden\">\\r\\n\\t\\t\\t\\t\\t\\t\\t<li class=\"go-back\"><a href=\"#0\"><span>Back</span> Russia</a></li>\\r\\n                            <div class=\"col2 marketinfo_con\">Russia and the CIS form a large part of our global expansion strategy. Our manufacturing base in Ukraine gives us access to local geographies and facilitates customisation and speed of delivery. Our wide range of trucks and buses allows us to provide customers with the best fit vehicle. Our local tie-ups with dealers and distributors give us the ability to provide our customers with superior service experience.</div>\\r\\n                            <div class=\"col2 menurussia_bg\">\\r\\n                            <div class=\"country_link\">\\r\\n\\t\\t\\t\\t\\t\\t\\t<!--<li><a href=\"#\"><i><img src=\"[template_url]/images/turkeministan.png\" alt=\"\"/></i> Turkmenistan</a></li>-->\\r\\n\\t\\t\\t\\t\\t\\t\\t<li><a href=\"http://www.tatamotors.ru/\" target=\"_blank\"><i><img src=\"https://www.tatamotors.com/wp-content/themes/tatamotors_2019/images/russia.png\" alt=\"Russia Icon\" title=\"Russia Icon\"/></i> Russia</a></li>\\r\\n\\t\\t\\t\\t\\t\\t\\t<li><a href=\"http://www.tatamotors.co.ua/\" target=\"_blank\"><i><img src=\"https://www.tatamotors.com/wp-content/themes/tatamotors_2019/images/ukrain.png\" alt=\"Ukrain Icon\" title=\"Ukrain Icon\"/></i> Ukraine</a></li>\\r\\n                            </div>\\r\\n                            </div>\\r\\n\\t\\t\\t\\t\\t\\t</ul>\\r\\n\\t\\t\\t\\t\\t</li>\\r\\n                    <li class=\"has-children\">\\r\\n\\t\\t\\t\\t\\t\\t<a href=\"#\" class=\"market_apacbg tab_link\">APAC</a>\\r\\n\\t\\t\\t\\t\\t\\t\\r\\n\\t\\t\\t\\t\\t\\t<ul class=\"is-hidden\">\\r\\n\\t\\t\\t\\t\\t\\t\\t<li class=\"go-back\"><a href=\"#0\"><span>Back</span> APAC</a></li>\\r\\n                            <div class=\"col2 marketinfo_con\">APAC\\r\\nTata Motors first ventured into other Asia Pacific markets with its foray into Sri Lanka in 1961. In addition, Tata Motors has a substantial presence in Bangladesh, Nepal, Myanmar, Bhutan, Afghanistan, Indonesia, Malaysia, Philippines, Thailand and Vietnam. With an established presence in most geographies, and a dominant share of the commercial vehicle segment in various markets, Tata Motors is well on its way to realising its global expansion strategy.</div>\\r\\n                            <div class=\"col2 menuapac_bg\">\\r\\n                            <div class=\"country_link\">\\r\\n\\t\\t\\t\\t\\t\\t\\t<!--<li><a href=\"#\"><i><img src=\"[template_url]/images/afghanistan.png\" alt=\"\"/></i> Afghanistan</a></li>-->\\r\\n\\t\\t\\t\\t\\t\\t\\t<li><a href=\"http://www.tatamotors.com.au/\" target=\"_blank\"><i><img src=\"https://www.tatamotors.com/wp-content/themes/tatamotors_2019/images/australia.png\" alt=\"Australia Icon\" title=\"Australia Icon\"/></i> Australia</a></li>\\r\\n\\t\\t\\t\\t\\t\\t\\t<li><a href=\"http://www.tatamotors.com.bd/\" target=\"_blank\"><i><img src=\"https://www.tatamotors.com/wp-content/themes/tatamotors_2019/images/bangladesh.png\" alt=\"Bangladesh Icon\" title=\"Bangladesh Icon\"/></i> Bangladesh</a></li>\\r\\n<li><a href=\"http://www.tatamotors.bt/\" target=\"_blank\"><i><img src=\"https://www.tatamotors.com/wp-content/themes/tatamotors_2019/images/bhutan.png\" alt=\"Bhutan Icon\" title=\"Bhutan Icon\"/></i> Bhutan</a></li>\\r\\n                            <li><a href=\"http://tatamotors.co.id/\" target=\"_blank\"><i><img src=\"https://www.tatamotors.com/wp-content/themes/tatamotors_2019/images/indonesia.png\" alt=\"Indonesia Icon\" title=\"Indonesia Icon\"/></i> Indonesia</a></li>\\r\\n                            <li><a href=\"http://www.tatamotors.com.my/\" target=\"_blank\"><i><img src=\"https://www.tatamotors.com/wp-content/themes/tatamotors_2019/images/malaysia.png\" alt=\"Malaysia Icon\" title=\"Malaysia Icon\"/></i> Malaysia</a></li>\\r\\n                             <li><a href=\"http://www.tatamotors.com.mv/\" target=\"_blank\"><i><img src=\"https://www.tatamotors.com/wp-content/themes/tatamotors_2019/images/maldives.png\" alt=\"Maldives Icon\" title=\"Maldives Icon\"/></i> Maldives</a></li>\\r\\n                             \\r\\n                            </div>\\r\\n                            <div class=\"country_link\">\\r\\n                            <!--<li><a href=\"#\"><i><img src=\"[template_url]/images/bhutan.png\" alt=\"\"/></i> Bhutan</a></li>-->\\r\\n                            \\r\\n                            \\r\\n                            <li><a href=\"http://www.tatamotors.com.mm/\" target=\"_blank\"><i><img src=\"https://www.tatamotors.com/wp-content/themes/tatamotors_2019/images/myanmar.png\" alt=\"Myanmar Icon\" title=\"Myanmar Icon\"/></i> Myanmar</a></li>\\r\\n                            <li><a href=\"http://www.tatamotors.com.np/\" target=\"_blank\"><i><img src=\"https://www.tatamotors.com/wp-content/themes/tatamotors_2019/images/nepal.png\" alt=\"Nepal Icon\" title=\"Nepal Icon\"/></i> Nepal</a></li>\\r\\n                            <li><a href=\"http://www.tatamotors.ph/\" target=\"_blank\"><i><img src=\"https://www.tatamotors.com/wp-content/themes/tatamotors_2019/images/philippines.png\" alt=\"Philippines Icon\" title=\"Philippines Icon\"/></i> Philippines</a></li>\\r\\n                            <li><a href=\"http://www.tatamotors.lk/\" target=\"_blank\"><i><img src=\"https://www.tatamotors.com/wp-content/themes/tatamotors_2019/images/srilanka.png\" alt=\"Srilanka Icon\" title=\"Srilanka Icon\"/></i> Sri Lanka</a></li>\\r\\n                            <li><a href=\"http://www.tatamotors.vn/\" target=\"_blank\"><i><img src=\"https://www.tatamotors.com/wp-content/themes/tatamotors_2019/images/vietnam.png\" alt=\"Vietnam Icon\" title=\"Vietnam Icon\"/></i> Vietnam</a></li>\\r\\n                            <!--<li><a href=\"#\"><i><img src=\"[template_url]/images/thailand.png\" alt=\"\"/></i> Thailand</a></li>-->\\r\\n                            </div>\\r\\n                            \\r\\n                            \\r\\n                            </div>\\r\\n\\t\\t\\t\\t\\t\\t</ul>\\r\\n\\t\\t\\t\\t\\t</li>\\r\\n                    \\r\\n                    <li class=\"has-children\">\\r\\n\\t\\t\\t\\t\\t\\t<a href=\"#\" class=\"market_middleastbg tab_link\">Middle East</a>\\r\\n\\t\\t\\t\\t\\t\\t\\r\\n\\t\\t\\t\\t\\t\\t<ul class=\"is-hidden\">\\r\\n\\t\\t\\t\\t\\t\\t\\t<li class=\"go-back\"><a href=\"#0\"><span>Back</span> Middle East</a></li>\\r\\n                            <div class=\"col2 marketinfo_con\">Tata Motors has been present in the Middle East geography since 1971 when our trucks were first sold in Bahrain. Today, our vehicles are sold in the UAE, Oman, Kuwait, Qatar, Saudi Arabia, Iraq and Turkey. The region accounts for a tenth of our export market. We offer products with the reliability and ruggedness that are necessary for operating in local weather conditions and terrains. We have achieved a leadership position in the medium bus segment, and we are now expanding into the pickup and truck sectors. The Tata Elanza, Xenon and Prima are our latest launches in this region.</div>\\r\\n                            <div class=\"col2 menumiddleeast_bg\">\\r\\n                            <div class=\"country_link\">\\r\\n\\t\\t\\t\\t\\t\\t\\t<li><a href=\"http://me.tatamotors.com/\" target=\"_blank\"><i><img src=\"https://www.tatamotors.com/wp-content/themes/tatamotors_2019/images/uae.png\" alt=\"Uae Icon\" title=\"Uae Icon\"/></i> Abu Dhabi (UAE)</a></li>\\r\\n\\t\\t\\t\\t\\t\\t\\t<!--<li><a href=\"#\"><i><img src=\"[template_url]/images/bahrain.png\" alt=\"\"/></i> Bahrain</a></li>-->\\r\\n\\t\\t\\t\\t\\t\\t\\t<li><a href=\"http://me.tatamotors.com/\" target=\"_blank\"><i><img src=\"https://www.tatamotors.com/wp-content/themes/tatamotors_2019/images/uae.png\" alt=\"Uae Icon\" title=\"Uae Icon\"/></i> Dubai (UAE)</a></li>\\r\\n                            <li><a href=\"http://me.tatamotors.com/\" target=\"_blank\"><i><img src=\"https://www.tatamotors.com/wp-content/themes/tatamotors_2019/images/iraq.png\" alt=\"Iraq Icon\" title=\"Iraq Icon\"/></i> Iraq</a></li>\\r\\n                            </div>\\r\\n                            <div class=\"country_link\">\\r\\n                            \\r\\n                            <li><a href=\"http://me.tatamotors.com/\" target=\"_blank\"><i><img src=\"https://www.tatamotors.com/wp-content/themes/tatamotors_2019/images/kuwait.png\" alt=\"Kuwait Icon\" title=\"Kuwait Icon\"/></i> Kuwait</a></li>\\r\\n                            <li><a href=\"http://me.tatamotors.com/\" target=\"_blank\"><i><img src=\"https://www.tatamotors.com/wp-content/themes/tatamotors_2019/images/oman.png\" alt=\"Oman Icon\" title=\"Oman Icon\"/></i> Oman</a></li>\\r\\n                            <li><a href=\"http://me.tatamotors.com/\" target=\"_blank\"><i><img src=\"https://www.tatamotors.com/wp-content/themes/tatamotors_2019/images/qatar.png\" alt=\"Qatar Icon\" title=\"Qatar Icon\"/></i> Qatar</a></li>\\r\\n                            </div>\\r\\n                            <div class=\"country_link\">\\r\\n                            \\r\\n                            <li><a href=\"http://www.tatamotors.com.sa/\" target=\"_blank\"><i><img src=\"https://www.tatamotors.com/wp-content/themes/tatamotors_2019/images/saudiarabia.png\" alt=\"Saudiarabia Icon\" title=\"Saudiarabia Icon\"/></i> Saudi Arabia</a></li>\\r\\n                            <li><a href=\"http://www.tata.com.tr/\" target=\"_blank\"><i><img src=\"https://www.tatamotors.com/wp-content/themes/tatamotors_2019/images/turkey.png\" alt=\"Turkey Icon\" title=\"Turkey Icon\"/></i> Turkey</a></li>\\r\\n                            </div>\\r\\n                            \\r\\n                            </div>\\r\\n\\t\\t\\t\\t\\t\\t</ul>\\r\\n\\t\\t\\t\\t\\t</li>\\r\\n                    \\r\\n                    \\r\\n                    \\r\\n                    \\r\\n                    \\r\\n                    </div>\\r\\n                    <div style=\"clear:both\"></div>\\r\\n                    <div class=\"market_bottom_link\">\\r\\n                    <div>We may not be present in your country as yet. </div>\\r\\n                    <div><a href=\"#listcoun\" class=\"marketmenu_pop cboxElement\">List Your Country</a></div>\\r\\n                    <div><a href=\"#intdis\" class=\"marketmenu_pop cboxElement\">Apply for International Distributorship</a></div>\\r\\n                    </div>\\r\\n\\t\\t\\t\\t</ul></li><li class=\"has-children\"><a href=\"https://www.tatamotors.com/corporate-social-responsibility/\" target=\"_self\"  class=\"\">CSR<span class=\"caret\"></span></a><ul class=\"cd-nav-gallery is-hidden\">\\r\\n               \\r\\n\\t\\t\\t\\t\\t<li class=\"go-back\"><span>Back</span><a href=\"/corporate-social-responsibility/\">CSR</a></li>\\r\\n                     <div class=\"center_nav\">\\r\\n\\t\\t\\t\\t\\t<li class=\"thumb_menu\">\\r\\n\\t\\t\\t\\t\\t<img src=\"/wp-content/uploads/2017/12/19073814/csr-menu1.jpg\" alt=\"CSR Activity by Tata Motors\" title=\"CSR Activity by Tata Motors\" />\\r\\n\\t\\t\\t\\t\\t</li>\\r\\n\\r\\n\\t\\t\\t\\t\\t<li class=\"second-nav\">\\r\\n\\t\\t\\t\\t\\t<h3><a href=\"/corporate-social-responsibility/\">Corporate Social Responsibility</a></h3>\\r\\n                    <div class=\"full_nav\">\\r\\n                    <!--<a href=\"/corporate-social-responsibility/\">Overview</a>-->\\r\\n                    <a href=\"/corporate-social-responsibility/#programmes\">Our Programmes</a>\\r\\n                    <a href=\"/corporate-social-responsibility/affirmative-action/\">Affirmative Action</a>\\r\\n                    <a href=\"/corporate-social-responsibility/international-initiatives/\">International Initiatives</a>\\r\\n                    <a href=\"/corporate-social-responsibility/csr-archive/\">Archive</a>\\r\\n                    </div>\\r\\n                    \\r\\n\\t\\t\\t\\t\\t</li>\\r\\n\\r\\n                    </div>\\r\\n\\t\\t\\t\\t</ul></li><li><a href=\"https://www.tatamotors.com/connecting-aspirations/\" target=\"_self\" class=\"\">Connecting Aspirations</a></li><li class=\"has-children\"><a href=\"https://www.tatamotors.com/investors/\" target=\"_self\"  class=\"\">Investors<span class=\"caret\"></span></a><ul class=\"cd-nav-gallery is-hidden\">\\r\\n               \\r\\n\\t\\t\\t\\t\\t<li class=\"go-back\"><span>Back</span><a href=\"/investors/\">Investors</a></li>\\r\\n                    <div class=\"center_nav\">\\r\\n                    \\r\\n                    <li class=\"second-nav col4\">\\r\\n                    <h3>Financials & filings</h3>\\r\\n                    <div class=\"full_nav\">\\r\\n                    <a href=\"/investors/results-press-releases/\">Financial releases</a>\\r\\n                    <a href=\"/investors/annual-reports/\">Annual reports</a>\\r\\n                    <a href=\"/investors/subsidiary-annual-reports/\">Subsidiary Annual Reports</a>\\r\\n                    <a href=\"/investors/sec-filing/\">SEC filings</a>\\r\\n                    <a href=\"/investors/key-financial-statistics/\">Key financial statistics</a>\\r\\n                    <!--<a href=\"/investors/egmnotice/\">Extraordinary general meeting</a>\\r\\n                    <a href=\"/investors/nclt-convened-meeting-for-considering-scheme-of-merger-and-arrangement/\">NCLT convened meeting for considering scheme of merger and arrangement</a>-->\\r\\n                    </div>\\r\\n                    </li>\\r\\n                    <li class=\"second-nav col4\">\\r\\n                    <h3><a href=\"/investors/download-library/\">Investor resources</a></h3>\\r\\n                    <h3><a href=\"/investors/jlr-press-release-archive/\">JLR Press Release Archive</a></h3>\\r\\n                    <h3><a href=\"/investors/financial-calendar/\">Financial calendar</a></h3>\\r\\n                    <h3><a href=\"/investors/volumes/\">Volumes</a></h3>\\r\\n                    <h3><a href=\"/investors/corporate-governance/\">Corporate governance</a></h3>\\r\\n                    <!--<h3><a href=\"/wp-content/uploads/2016/05/13111620/corporate-governance-report-q2fy18-19.pdf\" target=\"_blank\">Quarterly corporate governance report</a></h3>-->\\r\\n                    <!--<h3><a href=\"/wp-content/uploads/2016/05/13111620/corporate-governance-report-q1fy18-19.pdf\" target=\"_blank\">Quarterly corporate governance report</a></h3>-->\\r\\n                    <h3><a href=\"/wp-content/uploads/2018/08/03054315/members-referencer.pdf\" target=\"_blank\">Members\\' Referencer</a></h3>\\r\\n                    <!--<h3><a href=\"https://www.tatamotors.com/wp-content/uploads/2016/05/13111620/lodr-03-aug-18.pdf\" target=\"_blank\">AGM 2018</a></h3>\\r\\n                    <h3><a href=\"/wp-content/uploads/2018/06/05103411/Reg272-CGReport-March-31-2018.pdf\" target=\"_blank\">Quarterly corporate governance report</a></h3>-->\\r\\n                    <h3><a href=\"/investors/ESOP/\">ESOP</a></h3>\\r\\n                    </li>\\r\\n                    <li class=\"second-nav col4\">\\r\\n                    <h3>Fixed income</h3>\\r\\n                    <div class=\"full_nav\">\\r\\n                    <a href=\"/investors/listed-securities-information/\">Listed securities information</a>\\r\\n                    <a href=\"/investors/credit-ratings/\">Credit ratings</a>\\r\\n                    <a href=\"/investors/details-of-the-debenture-trustee/\">Details of the Debenture Trustee</a>\\r\\n                    <a href=\"/wp-content/uploads/2018/01/09055157/e22-e22a-series-change-in-debenture-trustee.pdf\" target=\"_blank\">E22 & E22A Series - Change in Debenture Trustees</a>\\r\\n                    <a href=\"/investors/debenture-holders-half-yearly-communication/\">Debenture holders - Half yearly communication</a>\\r\\n                    <a href=\"/wp-content/uploads/2018/01/09060215/E26B-E26C-E26D-E26E-E26F-E26G-E26H-Change-in-Debenture-Trustee.pdf\" target=\"_blank\">E26B, E26C, E26D, E26E, E26F, E26G & E26H Series - Change in Debenture Trustees</a>\\r\\n                    </div>\\r\\n                    </li>\\r\\n                    <li class=\"second-nav col4\">\\r\\n                    <h3>Shareholders information</h3>\\r\\n                    <div class=\"full_nav\">\\r\\n                    <a href=\"/investors/shareholding-pattern/\">Shareholding pattern</a>\\r\\n                    <a href=\"/investors/shareholding-distribution/\">Shareholding distribution</a>\\r\\n                    <a href=\"/wp-content/uploads/2018/07/11102509/stock-exchanges-listing.pdf\" target=\"_blank\">Stock exchanges & listing</a>\\r\\n                    <!--<a href=\"/investors/stock-exchanges-listing/\">Stock exchanges & listing</a>-->\\r\\n                    <a href=\"/investors/share-prices-graphs/\">Share prices & graphs</a>\\r\\n                    <a href=\"/investors/intimation-to-stock-exchanges/\">Intimation to stock exchanges</a>\\r\\n                    <a href=\"/investors/letter-to-shareholders/\">Letter to shareholders</a>\\r\\n                    </div>\\r\\n                    </li>\\r\\n                    <li class=\"second-nav col4\">\\r\\n                    <h3><a href=\"/investors/investor-contacts/\">Investor contact</a></h3>\\r\\n                    <!--<h3><a href=\"/investors/postal-ballot/\">Postal ballot</a></h3>-->\\r\\n                    <h3><a href=\"/investors/iepf/\"><!--Statement of unclaimed unpaid amounts to be transferred to IEPF-->Unclaimed Dividend</a></h3>\\r\\n<!--<h3><a href=\"/investors/ucd/\">Statement of unclaimed dividend</a></h3>-->\\r\\n                    <h3><a href=\"/investors/scheme-of-arrangement-between-tml-and-tasl/\">Scheme of Arrangement between TML and TASL</a></h3>\\r\\n                    <h3><a href=\"/investors/disclaimer/\">Disclaimer</a></h3>\\r\\n                    </li>\\r\\n                    \\r\\n                    </div>\\r\\n\\t\\t\\t\\t</ul></li><li class=\"has-children\"><a href=\"https://www.tatamotors.com/media/\" target=\"_self\"  class=\"\">Media<span class=\"caret\"></span></a><ul class=\"cd-nav-gallery is-hidden\">\\r\\n               \\r\\n\\t\\t\\t\\t\\t<li class=\"go-back\"><span>Back</span><a href=\"/media/\">Media</a></li>\\r\\n                     <div class=\"center_nav\">\\r\\n\\t\\t\\t\\t\\t<li class=\"thumb_menu\">\\r\\n\\t\\t\\t\\t\\t<img src=\"/wp-content/uploads/2018/02/02121721/media-menu1.jpg\" alt=\"Media - Tata Motors\" title=\"Media - Tata Motors\" />\\r\\n\\t\\t\\t\\t\\t</li>\\r\\n\\r\\n\\t\\t\\t\\t\\t<li class=\"second-nav\">\\r\\n\\t\\t\\t\\t\\t<h3><a href=\"/media/\">Media</a></h3>\\r\\n                    <div>\\r\\n                    <a href=\"/media/press-releases/\">Press Releases</a>\\r\\n                    <a href=\"/media/media-coverage/\">Media Coverage</a>\\r\\n                    <a href=\"/media/product-stories/\">Product Stories</a>\\r\\n                    \\r\\n                    </div>\\r\\n                     <div>\\r\\n                    <a href=\"/media/gallery/\">Gallery</a>\\r\\n                    <!--<a href=\"/media/#social\">Social media window</a>-->\\r\\n                    <!--<a href=\"#\">Press kits</a>-->\\r\\n                    <a href=\"/contact-us/?val=media\">Media Contact</a>\\r\\n                    </div>\\r\\n\\t\\t\\t\\t\\t</li>\\r\\n\\r\\n                    </div>\\r\\n\\t\\t\\t\\t</ul></li><li><a href=\"https://www.tatamotors.com/blog/\" target=\"_self\" class=\"\">Blogs</a></li><li class=\"has-children\"><a href=\"https://www.tatamotors.com/careers/\" target=\"_self\"  class=\"\">Careers<span class=\"caret\"></span></a><ul class=\"cd-nav-gallery is-hidden\">\\r\\n               \\r\\n\\t\\t\\t\\t\\t<li class=\"go-back\"><span>Back</span><a href=\"/careers/\"> Careers</a></li>\\r\\n                     <div class=\"center_nav\">\\r\\n\\t\\t\\t\\t\\t<li class=\"thumb_menu\">\\r\\n\\t\\t\\t\\t\\t<img src=\"/wp-content/uploads/2018/02/26125051/careers-menu.jpg\" alt=\"Careers - Tata Motors\" title=\"Careers - Tata Motors\" />\\r\\n\\t\\t\\t\\t\\t</li>\\r\\n\\r\\n\\t\\t\\t\\t\\t<li class=\"second-nav\">\\r\\n\\t\\t\\t\\t\\t<h3><a href=\"/careers/\">Careers</a></h3>\\r\\n                    <div>\\r\\n                    <a href=\"/careers/why-tata-motors/\">Why Tata Motors?</a>\\r\\n                    <a href=\"/careers/people-at-tata-motors/\">People at Tata Motors</a>\\r\\n                    <a href=\"/careers/students-programmes/\">Students Programmes</a>\\r\\n                    <a href=\"/careers/diversity-and-inclusion/\">Diversity & Inclusion</a>\\r\\n                    </div>\\r\\n<div>\\r\\n                    <!--<a href=\"/blog/category/people/\">Blogs</a>-->\\r\\n                    <!--<a href=\"https://career5.successfactors.eu/career?company=tataindiaP\" target=\"_blank\">Join Us</a>-->\\r\\n<a href=\"https://careers.tatamotors.com/\" target=\"_blank\">Join Us</a>\\r\\n                    </div>\\r\\n\\t\\t\\t\\t\\t</li>\\r\\n\\r\\n                    </div>\\r\\n\\t\\t\\t\\t</ul></li><li><a href=\"https://www.tatamotors.com/contact-us/\" target=\"_self\" class=\" active\">Contact Us</a></li>           \\r\\n\\t\\t</ul> <!-- primary-nav -->\\r\\n\\t</nav> <!-- cd-nav -->\\r\\n\\r\\n\\t<div id=\"cd-search\" class=\"cd-search\">\\r\\n\\t\\t\\r\\n        <form role=\"search\" method=\"get\" action=\"https://www.tatamotors.com/\">\\r\\n<div class=\"search_box\">\\r\\n<div class=\"full_wrapper\">\\r\\n    <input type=\"search\" name=\"s\" id=\"search\" class=\"input_search\" placeholder=\"What are you looking for?\" value=\"\">\\r\\n    <button type=\"submit\"><i></i></button>\\r\\n    </div>\\r\\n    </div>\\r\\n</form>        \\r\\n\\t</div>\\r\\n<div class=\"scene_transition animated fadeInRightBig\">\\r\\n\\r\\n<div class=\"inside_content_wrapper\">\\r\\n<div class=\"inside_banner flex-height top_banner top_banner_parallax\">\\r\\n    <img src=\"https://www.tatamotors.com/wp-content/uploads/2018/02/02065805/contact_banner_dsk.jpg\" class=\"dsk_banner\" alt=\"Contact Us - Tata Motors\" title=\"Contact Us - Tata Motors\"/>\\r\\n<img src=\"https://www.tatamotors.com/wp-content/uploads/2018/02/02065818/contact_banner_tab.jpg\" class=\"tab_banner\" alt=\"Contact Us - Tata Motors\" title=\"Contact Us - Tata Motors\"/>\\r\\n<img src=\"https://www.tatamotors.com/wp-content/uploads/2018/02/02065832/contact_banner_mob.jpg\" class=\"mobile-banner\" alt=\"Contact Us - Tata Motors\" title=\"Contact Us - Tata Motors\"/>\\r\\n<div class=\"heading_info\">\\n<h3>Contact Us</h3>\\n<p>At Tata Motors we believe in transparent communication and have built various touchpoints through which our stakeholders can get in touch with us.</p>\\n</div>\\n<script type=\"text/javascript\">\\r\\n$( document ).ready(function() {\\r\\n\\t$(\\'.inside_banner\\').first().attr(\\'data-text\\', \\'Contact Us\\');\\r\\n});\\r\\n</script>\\r\\n</div>\\r\\n\\r\\n<div class=\"inside_wrapper parallax_bottom\" data-text=\"Office Addresses\">\\r\\n<div class=\"inside_container\">\\r\\n<div class=\"row bg contact_block\">\\r\\n\\r\\n<div class=\"commercial_bg\">\\r\\n<div class=\"left\">\\r\\n<h4>For any assistance on</h4>\\r\\n<h3>Commercial Vehicles, Cars & Utility Vehicles</h3>\\r\\n</div>\\r\\n<div class=\"right\">\\r\\n<div class=\"contact_number\"><i><img src=\"https://www.tatamotors.com/wp-content/themes/tatamotors_2019/images/contact_ic.png\" alt=\"Contact us Icon\" title=\"Contact us Icon\" ></i> Call our toll free number  <span>1800 209 7979</span></div>\\r\\n<div class=\"or_bg\">or</div>\\r\\n<div class=\"email_us\"><i><img src=\"https://www.tatamotors.com/wp-content/themes/tatamotors_2019/images/email_ic.png\" alt=\"Email Icon\" title=\"Email Icon\" ></i> <span>Email us</span> <div class=\"clear_contact\"></div> <a>Passenger Vehicles<br> <span><img src=\"/wp-content/uploads/2018/02/14053302/customer_mailid.png\" alt=\"Customer Mail Id for Assistance on Passenger Vehicles\" title=\"Customer Mail Id for Assistance on Passenger Vehicles\"/></span></a> <a>Commercial Vehicles<br> \\r\\n<span><img src=\"/wp-content/uploads/2018/02/14053302/cacmail_id.png\" alt=\"Cac Mail Id for Assistance on Commercial Vehicles\" title=\"Cac Mail Id for Assistance on Commercial Vehicles\"/></span></a></div>\\r\\n</div>\\r\\n\\r\\n</div>\\r\\n<div class=\"website-link2\">\\r\\n<div class=\"supporting_block\">\\r\\n<div class=\"fixed_block\">\\r\\n<aside>\\r\\n<h3>Customer Support <i><img src=\"https://www.tatamotors.com/wp-content/themes/tatamotors_2019/images/support_ic.png\" alt=\"Support Icon\" title=\"Support Icon\"></i></h3>\\r\\n<p>Regional Manager Customer Care (Commercial Vehicles):<br>\\r\\n<!--North : <span>0124-2828904</span><br>-->\\r\\nNorth : <span>0124-2828900</span><br>\\r\\nEast : <span>033-66027502</span><br>\\r\\n<!--East : Contact details <span><a href=\"#contactpopup\" class=\"contactquery_pop\">click here</a></span><br>-->\\r\\nWest : <span>022-67927055</span><br>\\r\\nSouth : <span>080-66373598</span>\\r\\n</p>\\r\\n</aside>\\r\\n<aside>\\r\\n<h3>Dealer Locator <i><img src=\"https://www.tatamotors.com/wp-content/themes/tatamotors_2019/images/delaer_locator_ic.png\" alt=\"Dealer Locator Icon\" title=\"Dealer Locator Icon\"></i></h3>\\r\\n<!--<p><a href=\"http://dealerlocator.tatamotors.com:8080/tmdealerlocator/bu\" target=\"_blank\">Passenger Vehicles</a><a href=\"http://dealerlocator.tatamotors.com:8080/tmdealerlocator/bu\" target=\"_blank\">Commercial Vehicles</a></p>-->\\r\\n<p><a href=\"http://dealerlocator.tatamotors.com:8080/tmdealerlocator/bu\" target=\"_blank\">Click here</a></p>\\r\\n</aside>\\r\\n</div>\\r\\n</div>\\r\\n<div class=\"contact_inform\">\\r\\n        \\t<div class=\"tab\">\\r\\n                  <div class=\"tablinks active\" onclick=\"openCity(event, \\'Office_Addresses\\')\">Offices</div>\\r\\n                  <div class=\"tablinks\" onclick=\"openCity(event, \\'Media_Address\\')\">Media</div>\\r\\n                  <div class=\"tablinks\" onclick=\"openCity(event, \\'Investor_Addresses\\')\">Investors</div>\\r\\n            </div>\\r\\n            \\r\\n            <div id=\"Office_Addresses\" class=\"tabcontent \" style=\"display:block;\">\\r\\n               <ul class=\"invetst_con_list\">\\r\\n               <li class=\"bg full_block\"><h3>International Business</h3><p>A Block, Shivasagar Estate,<br> Dr. Annie Besant Road,<br> Worli, Mumbai - 400018<br> <span>+91(22) 67577200</span></p></li>\\r\\n                        <li>\\r\\n                        <h3>Head office</h3>\\r\\n                        <p>Tata Motors Ltd<br>4th Floor, Ahura Centre<br>82 Mahakali Caves Road<br>MIDC, Andheri East<br>Mumbai - 400093<br>Contact: <span>022 - 62407101</span></p>\\r\\n                        </li>\\r\\n                        <li>\\r\\n                        <h3>West 1</h3>\\r\\n                        <p><strong>Passenger Vehicles</strong><br>Tata Motors Ltd<br>3rd/4th Floor, Gyan Sadhna College<br>Service Road, Off Eastern Express<br>Teen Hath Naka, Thane West<br>Thane - 400604<br>Contact: <span>022 - 67927272</span></p>\\r\\n                        </li>                        \\r\\n                        \\r\\n                        <li class=\"bg\">\\r\\n                        <h3>West 2</h3>\\r\\n                        <p><strong>Passenger Vehicles</strong><br>Tata Motors Ltd<br>Amar Business Park<br>7th Floor, Baner Road,<br>Opposite Sadanad Hotel<br>Balewadi-Baner, Pune - 411045,<br>Contact: <span>020 - 67168700</span></p>\\r\\n                        </li>\\r\\n                        <li class=\"bg\">\\r\\n                        <h3>West 3</h3>\\r\\n                        <p><strong>Passenger Vehicles</strong><br>Tata Motors Ltd<br>C 1 Safal Profitaire,<br>Prahlad Nagar Corporate Road,<br>Opp Auda Garden, Prahladnagar,<br>Ahmedabad - 380015<br>Contact: <span>079 - 67772712</span></p>\\r\\n                        </li>\\r\\n                        \\r\\n                        <li>\\r\\n                        <h3>West 4</h3>\\r\\n                        <p><strong>Passenger Vehicles</strong><br>Tata Motors Ltd<br>1st Floor, Apollo Trade Centre,<br>Trade Centre, Geeta Bhawan Square,<br>Gita Bhawan Road,<br>Indore - 452001<br>Contact: <span>0731 249 0361</span></p>\\r\\n                        </li>\\r\\n                        <li>\\r\\n                        <h3>North 1</h3>\\r\\n                        <p><strong>Passenger Vehicles</strong><br>Tata Motors Ltd<br>Unit 305/306, 3rd Floor,<br>Tower B, Signature Tower, South City 1,<br>National Highway-8, Near Crowne Plaza<br>Gurgaon - 122001<br>Contact: <span>0124-2828900</span></p>\\r\\n                        </li>\\r\\n                        \\r\\n                        <li class=\"bg\">\\r\\n                        <h3>North 2</h3>\\r\\n                        <p><strong>Passenger Vehicles</strong><br>Tata Motors Ltd.<br>Godrej Eternia,<br>Plot No.-70, 4th Floor,<br>Industrial Area, Phase-1,<br>Chandigarh - 160002<br><br></p>\\r\\n                        </li>\\r\\n                        <li class=\"bg\">\\r\\n                        <h3>North 3</h3>\\r\\n                        <p><strong>Passenger Vehicles</strong><br>Tata Motors Ltd<br>7th Floor, Cyber Tower<br>Opp Indira Gandhi Pratisthan<br>Vibhuti Khand, Gomti Nagar<br>Lucknow - 226010<br>Contact: <span>0522-6668600</span></p>\\r\\n                        </li>\\r\\n                        \\r\\n                        <li>\\r\\n                        <h3>North 4</h3>\\r\\n                        <p><strong>Passenger Vehicles</strong><br>Tata Motors Ltd<br>D 232 - 233,<br>2nd Floor, Atlantis Tower,<br>Amrapali Marg, Vaishali Nagar<br>Jaipur - 302021</p>\\r\\n                        </li>\\r\\n                        <li>\\r\\n                        <h3>South 1</h3>\\r\\n                        <p><strong>Passenger Vehicles</strong><br>Tata Motors Ltd<br>2nd Floor, Fortune Summit<br>#224 HSR layout, 6th phase<br>Hosur Main Road<br>Bangalore - 560 102<br>Contact: <span>080663 73400</span></p>\\r\\n                        </li>\\r\\n                        \\r\\n                        <li class=\"bg\">\\r\\n                        <h3>South 2</h3>\\r\\n                        <p><strong>Passenger Vehicles</strong><br>Tata Motors Ltd<br>ASV Ramanas Towers<br>6th floor, Old no 37 & 38, New No 52,<br>Venkatnarayan Road, T Nagar<br>Chennai - 600 017<br>Contact: <span>044 - 66500900</span></p>\\r\\n                        </li>\\r\\n                        <li class=\"bg\">\\r\\n                        <h3>South 3</h3>\\r\\n                        <p><strong>Passenger Vehicles</strong><br>Tata Motors Ltd<br>Plot No 1-10-39 To 44, 4th Floor,<br>Gumidelli Towers, Old Airport Road<br>Opposite Shoppers Stop, Begumpet,<br>Hyderabad - 500016<br>Contact: <span>090102 04625</span></p>\\r\\n                        </li>\\r\\n                        \\r\\n                        <li>\\r\\n                        <h3>South 4</h3>\\r\\n                        <p><strong>Passenger Vehicles</strong><br>Tata Motors Ltd<br>4th Floor, Liv N Tower<br>Opp Gold Souk, Vyttila<br>Cochin - 682 019<br>Contact: <span>0484 - 6601400</span></p>\\r\\n                        </li>\\r\\n                        <li>\\r\\n                        <h3>East 1</h3>\\r\\n                        <p><strong>Passenger Vehicles</strong><br>Tata Motors Ltd<br>Rene Towers, 2nd Floor<br>1842 Rajdanga Main Road, Kasba,<br>Kolkata - 700 107<br>Contact: <span>033 - 66027400</span></p>\\r\\n                        </li>\\r\\n                        \\r\\n                        <li class=\"bg\">\\r\\n                        <h3>East 2</h3>\\r\\n                        <p><strong>Passenger Vehicles</strong><br>Tata Motors Ltd<br>4th Floor, Sai Corporate Park<br>Block - B,<br>Rukumpura<br>Patna - 800014<br>Contact: <span>0651 - 6560119</span></p>\\r\\n                        </li>\\r\\n                        <li class=\"bg\">\\r\\n                        <h3>East 3</h3>\\r\\n                        <p><strong>Passenger Vehicles</strong><br>Tata Motors Ltd<br>\\r\\n                        2nd Floor, VK Trade Centre,<br>\\r\\n                        Opposite Down Town Hospital,<br>\\r\\n                        GS Road,<br>\\r\\n                        Guwahati : 781006<br><b style=\"visibility:hidden\">Contact: <span>0361 - 2237756</span></b></p>\\r\\n                        </li>\\r\\n                        \\r\\n                        <li>\\r\\n                        <h3>East 4</h3>\\r\\n                        <p><strong>Passenger Vehicles</strong><br>Tata Motors Ltd<br>2nd Floor, Plot No 364<br>Above Nokia care, Rupali Square<br>Sahid Nagar, Janpath<br>Bhubaneshwar - 751007<br>Contact:  <span>0674 - 6626100</span></p>\\r\\n                        </li>\\r\\n                        <li>\\r\\n                        <h3>Marketing Office</h3>\\r\\n                        <p >Commercial Vehicles Business Unit<br><span>+91(22) 66586000</span><br>&nbsp;<br>&nbsp;<br>&nbsp;<br>\\r\\n                          <br>\\r\\n                          <br><br>\\r\\n                        </p>\\r\\n                      </li>\\r\\n                        \\r\\n                        <li class=\"bg\">\\r\\n                        <h3>Manufacturing Locations</h3>\\r\\n                        <p>Pune <span>: +91(20) - 66131111</span><br>\\r\\nDharwad : Contact details <a href=\"#contactpopup\" class=\"contactquery_pop\">click here</a><br>\\r\\nJamshedpur : Contact details <a href=\"#contactpopup\" class=\"contactquery_pop\">click here</a><br>\\r\\nPantnagar : Contact details <a href=\"#contactpopup\" class=\"contactquery_pop\">click here</a><br>\\r\\nLucknow : Contact details <a href=\"#contactpopup\" class=\"contactquery_pop\">click here</a></p>\\r\\n                        </li>\\r\\n                        <li class=\"bg\">\\r\\n                        <h3>Regional Office - North</h3>\\r\\n                        <p>\\r\\n                        <strong>Commercial Vehicles (Trucks & Buses) </strong><br>\\r\\n                        <span>+91(11) 66778808 ext 808/</span> <br> <span>+91(11) 66778800</span><br><br><br>\\r\\n                        <!--<strong>Cars & Utility Vehicles</strong><br>\\r\\n                        <span>(0124) 6470509-10-11-12-13-14</span>-->\\r\\n                        </p>\\r\\n                        </li>\\r\\n\\r\\n                        <li>\\r\\n                        <h3>Regional Office - South</h3>\\r\\n                        <p>\\r\\n                        <strong>Commercial Vehicles (Trucks & Buses)</strong><br>\\r\\n                        <span>080-66373 (400 to 407)</span><!--<br><br>\\r\\n                        <strong>Cars & Utility Vehicles</strong><br>\\r\\n                        <span>080-66373 (400 to 407)</span><br><span>044-66500 (905 to 906)</span>-->\\r\\n                        </p>\\r\\n                        </li>                        \\r\\n                        <li>\\r\\n                        <h3>Regional Office - East</h3>\\r\\n                        <p>\\r\\n                        <strong>Commercial Vehicles (Trucks & Buses)</strong><br>\\r\\n                        <span>+91(33) 66027500</span><!--<br><br>\\r\\n                        <strong>Cars & Utility Vehicles</strong><br>\\r\\n                        <span>+91(33) 66027400</span><br>&nbsp;--></p>\\r\\n                        </li>\\r\\n                        \\r\\n                        \\r\\n                         <li class=\"bg\">\\r\\n                        <h3>Regional Office - West</h3>\\r\\n                        <p>\\r\\n                        <strong>Commercial Vehicles (Trucks & Buses) </strong><br>\\r\\n                        <span>+91(22) 67927272</span><!--<br><br>\\r\\n                        <strong>Cars & Utility Vehicles</strong><br>\\r\\n                        <span>+91(22) 66930400/405/406</span><br><span>+91(79) 67772712</span>\\r\\n                        </p>-->\\r\\n                        </li>\\r\\n                        \\r\\n                        </ul>\\r\\n\\r\\n\\r\\n\\r\\n            </div>\\r\\n            \\r\\n            <div id=\"Media_Address\" class=\"tabcontent\">\\r\\n<ul class=\"invetst_con_list block_bg\">\\r\\n                        <li >\\r\\n                        <h3>Registered Office</h3>\\r\\n                        <p>\\r\\n                        <strong>Bombay House,</strong><br>\\r\\n                        24, Homi Mody Street, Fort,<br>\\r\\n                        Mumbai 400001<br>\\r\\n                        Phone :<span>+91-22-66658282</span>\\r\\n                        </p>\\r\\n                        </li>\\r\\n\\r\\n\\r\\n\\r\\n                        <li >\\r\\n                        <h3>Media Query:</h3>\\r\\n                        \\r\\n                        <p><img src=\"/wp-content/uploads/2018/02/14053302/indiacorp_mailid.png\" alt=\"Indiacorp Mail Id for Assistance on Media Query\" title=\"Indiacorp Mail Id for Assistance on Media Query\"/></p>\\r\\n                        </li>\\r\\n                        </ul>\\r\\n\\r\\n            </div>\\r\\n            \\r\\n\\r\\n            <div id=\"Investor_Addresses\" class=\"tabcontent\">\\r\\n            <h3 class=\"main_head none_space\">For Investor Queries</h3>\\r\\n\\t\\t\\t<ul class=\"invetst_con_list\">\\r\\n                        <li class=\"bg\">\\r\\n                        <h3>Retail / HNI Investors</h3>\\r\\n                        <p class=\"add_block\"><strong>Mr. H. K. Sethna</strong><br>\\r\\n                        Company Secretary<br>\\r\\n                        1st Floor, Bombay House,<br>\\r\\n                        Homi Mody Street, Fort,<br>\\r\\n                        Mumbai - 400 001, INDIA <br>\\r\\n                        Phone : <span>91-22- 6665 7824</span> <br>\\r\\n                        Fax : <span>91-22- 6665 7260</span>\\r\\n                        </p>\\r\\n                        <p>For further query <a href=\"#contactpopup\" class=\"contactquery_pop\">click here</a></p>\\r\\n                        </li>\\r\\n                        \\r\\n                        <li class=\"bg\">\\r\\n                        <h3>Institutional Investors</h3>\\r\\n<p class=\"add_block\"><strong>Mr. V. B. Somaiya</strong><br />\\r\\n                          Head (Treasury &amp; Investor Relations)<br />\\r\\n                          3rd floor, Nanavati Mahalaya,<br />\\r\\n                          24 Homi Mody Street,<br />\\r\\n                          Mumbai &#8211; 400 001, INDIA <br />\\r\\n                          Phone : <span>91-22-66658282</span><br />\\r\\n                         </p>\\r\\n<p>For further query <a href=\"#contactpopup\" class=\"contactquery_pop\">click here</a></p>\\r\\n                        </li>\\r\\n                        \\r\\n                        </ul>\\r\\n                        \\r\\n                         <h3 class=\"main_head\">For Fixed deposit queries / complaints contact</h3>\\r\\n\\t\\t\\t<ul class=\"invetst_con_list block_bg\">\\r\\n                        <li >\\r\\n                        <h3>Retail / HNI Investors</h3>\\r\\n                            <p><strong>TSR Darashaw Consultants Private Limited</strong><br />\\r\\n                    Unit: Tata Motors Limited,<br />\\r\\n                    6-10, Haji Moosa Patrawala Industrial Estate,<br />\\r\\n                    20, Dr. E Moses Road, Mahalaxmi,<br />\\r\\n                    <strong>Mumbai</strong> 400 011. <br />\\r\\n                    Tel : <span>022 6656 8484,</span><br />\\r\\n                    Fax : <span>022 6656 8494</span><br />\\r\\n</p>\\r\\n\\r\\n\\r\\n                            </li>\\r\\n                        \\r\\n                        \\r\\n                        \\r\\n                        </ul>\\r\\n                        \\r\\n                        <h3 class=\"main_head\">For share related matters/complaints, members are requested to correspond with the Company’s Registrar and Transfer Agents</h3>\\r\\n                        <ul class=\"invetst_con_list block_bg\">\\r\\n                        <li>\\r\\n                        <p class=\"add_block\"><strong>M/s TSR Darashaw Consultants Private Limited</strong><br>quoting their folio no./DP ID & Client ID at the following addresses:<br>(i) For transfer lodgement, delivery and correspondence: TSR Darashaw Consultants Private Limited, Unit:</p>\\r\\n                        </li>\\r\\n                        \\r\\n                        <li>\\r\\n<p class=\"add_block\"><strong>Tata Motors Limited,</strong><br />\\r\\n                    6-10, Haji Moosa Patrawala Industrial Estate,<br />\\r\\n                    20, Dr. E Moses Road, Mahalaxmi,<br />\\r\\n                  <strong>Mumbai</strong> - 400 011.<br />\\r\\n                    Tel : <span>022-6656 8484,</span><br />\\r\\n                    Fax : <span>022- 6656 8494</span><br />\\r\\n                    </p>\\r\\n                    \\r\\n                    <p>For further query <a href=\"#contactpopup\" class=\"contactquery_pop\">click here</a><br>\\r\\n                    website : <a href=\"http://www.tsrdarashaw.com/\" target=\"_blank\">www.tsrdarashaw.com</a></p>\\r\\n                    </li>\\r\\n                    </ul>\\r\\n                    <ul class=\"invetst_con_list\">\\r\\n                    \\r\\n                        <li>\\r\\n                        <h3 >Branches</h3>\\r\\n                        <p>503, Barton Centre, 5th Floor, 84, <br />\\r\\n                          Mahatma Gandhi Road, <br />\\r\\n                          Bengaluru &#8211; 560 001. <br />\\r\\n                          Tel : <span>080- 25320321,</span> <br />\\r\\n                          Fax : <span>080-25580019</span>\\r\\n                          </p>\\r\\n                          <p>Bungalow No.1, &quot;E&quot; Road, <br />\\r\\n                        Northern Town, Bistupur,<br /> \\r\\n                        Jamshedpur - 831 001.<br />\\r\\n                        Tel : <span>0657 - 2426616,</span><br />\\r\\n                        Fax : <span>0657 - 2426937</span></p>\\r\\n                        <p>For further query <a href=\"#contactpopup\" class=\"contactquery_pop\">click here</a></p>\\r\\n                        </li>\\r\\n                        \\r\\n                        <li>\\r\\n                        <h3 >&nbsp;</h3>\\r\\n<p>Tata Centre, 1st Floor,<br />\\r\\n                    43, Jawaharlal Nehru Road,<br />\\r\\n                    Kolkata - 700 071. <br />\\r\\n                    Tel : <span>033 - 22883087,</span><br />\\r\\n                    Fax : <span>033 - 22883062</span>\\r\\n                    </p>\\r\\n                    <p>Plot No.2/42, Sant Vihar,<br />\\r\\n                        Ansari Road, Daryaganj,<br />\\r\\n                        New Delhi - 110 002. <br />\\r\\n                        Tel : <span>011 - 23271805,</span> <br />\\r\\n                        Fax : <span>011 - 23271802</span></p>\\r\\n                    </li>\\r\\n\\r\\n                        \\r\\n                        </ul>\\r\\n                         <ul class=\"invetst_con_list block_bg\">\\r\\n                        \\r\\n                        <li class=\"bg\">\\r\\n                        <h3>Agent</h3>\\r\\n                        <p><strong>Shah Consultancy Services Limited</strong>\\r\\n3-Sumathinath Complex,<br>\\r\\nPritamnagar Akhada Road,<br>\\r\\nOpp. Kothawala Flats, Ellisbridge,<br>\\r\\nAhmedabad - 380 006.<br>\\r\\nTel : <span>079-2657 6038</span></p>\\r\\n                        <p>For further query <a href=\"#contactpopup\" class=\"contactquery_pop\">click here</a></p></li>\\r\\n                        \\r\\n                        <li class=\"bg\">\\r\\n                        <h3>Debenture Trustees</h3>\\r\\n                        <p><strong>Vistra ITCL (India) Limited (formerly IL&amp;FS Trust  Company Limited)</strong><br>\\r\\n        The IL&amp;FS Financial Center, Plot No. C - 22, G Block,<br>\\r\\n        Bandra Kurla Complex, Bandra (East),<br>\\r\\n        Mumbai – 400051<br>\\r\\n        Tel: +91 22 2659 3333      Fax:  +91 22 2653 3297<br>\\r\\n        Email: <a href=\"mailto:itclcomplianceofficer@vistra.com\"><strong>itclcomplianceofficer@vistra.com</strong></a> <br>\\r\\n        Website:<a href=\"https://www.vistraitcl.com/\" target=\"_blank\"><strong>https://www.vistraitcl.com/</strong></a> <br>\\r\\n        Contact Person: Mr. Jatin Chonani<br>\\r\\n        SEBI Registration Number:<strong> IND000000452</strong></p>\\r\\n                        <!--<p><strong>Vijaya Bank</strong>\\r\\nMerchant Banking Division<br>\\r\\nHead Office, 41/2 M. G. Road,<br>\\r\\nTrinity Circle, Bangalore - 560 001.<br>\\r\\nTel : \\t<span>+91 80 25584066 (Ext 867)</span> \\t\\t\\t\\r\\n<span>+91 80 25584603</span><br>\\r\\nFax : <span>+91 80 25584764</span></p>-->\\r\\n                        <p>For further query <a href=\"#contactpopup\" class=\"contactquery_pop\">click here</a></p></li>\\r\\n                        \\r\\n                        </ul>\\r\\n                        \\r\\n                        \\r\\n            </div>\\r\\n            \\r\\n            </div>\\r\\n        </div>\\r\\n<div style=\"display:none\">\\r\\n\\t\\t<div class=\"join_pop_wrap\" id=\"contactpopup\">\\r\\n<div class=\"join_head\">\\r\\n<div class=\"joinpopup_container\">\\r\\n<h3>Query</h3>\\r\\n</div>\\r\\n</div>\\r\\n<div class=\"joinpopup_container joinpopup_form_container_contact\">\\r\\n<form id=\"contactUsForm\" autocomplete=\"off\" method=\"post\" action=\"\">\\r\\n<input type=\"hidden\" id=\"blog_sub_form_nonce_field\" name=\"blog_sub_form_nonce_field\" value=\"8bba6f0199\" /><input type=\"hidden\" name=\"_wp_http_referer\" value=\"/contact-us/\" /><input type=\"hidden\" name=\"tm_option\" value=\"contact_us_form_submit\">\\r\\n<div class=\"join_popform\">\\r\\n\\r\\n<div class=\"form_input_wrap\">\\r\\n<div class=\"left_input_wrap\">\\r\\n<label>Query Type</label>\\r\\n<div class=\"input_box3-large\">\\r\\n    <label class=\"seletop\">\\r\\n        <select class=\"selectMenu\" name=\"txtQueryType\" required>\\r\\n          <option value=\"\">Select Query Type</option>\\r\\n          \\r\\n          <optgroup label=\"Domestic\">\\r\\n          <option value=\"d_p_v\">- Passenger Vehicles</option>\\r\\n          <option value=\"d_c_v\">- Commercial Vehicles</option>\\r\\n          </optgroup>\\r\\n          \\r\\n          <optgroup label=\"International\">\\r\\n          <option value=\"i_p_v\">- Passenger Vehicles</option>\\r\\n          <option value=\"i_c_v\">- Commercial Vehicles</option>\\r\\n          </optgroup>\\r\\n          \\r\\n          <option value=\"tass\">Tata Authorised Service Station (TASS)</option>\\r\\n          <option value=\"s_q\">Supplier\\'s Query</option>\\r\\n          <option value=\"i_i\">Institutional Investors</option>\\r\\n          <option value=\"r_hni_i\">Retail / HNI Investors</option>\\r\\n          <option value=\"o_f\">Open Forum</option>\\r\\n          <option value=\"c\">Careers</option>\\r\\n          <option value=\"e_e_c\">Ex-employee Corner</option>\\r\\n          <option value=\"m_r\">Media Relations</option>\\r\\n          \\r\\n        </select>\\r\\n</label>\\r\\n</div>\\r\\n</div>\\r\\n</div>\\r\\n\\r\\n<div class=\"form_input_wrap\">\\r\\n<label>For your questions / comments / enquiries</label>\\r\\n<textarea name=\"txtQuery\" placeholder=\"For your questions / comments / enquiries\" required pattern=\"[^()\\\\&\\\\*\\\\$\\\\[\\\\]@!%<>\\\\^#\\\\{\\\\}]+\"></textarea>\\r\\n</div>\\r\\n<div class=\"form_input_wrap\">\\r\\n<div class=\"left_input_wrap\">\\r\\n<label>Pin / zip code</label>\\r\\n<input name=\"txtPin\" type=\"text\" value=\"\" placeholder=\"Pin / Zip\" required pattern=\"[0-9]{5,10}\" title=\"Only numbers are allowed 5 to 10 digits\" autocomplete=\"off\">\\r\\n</div>\\r\\n<div class=\"right_input_wrap\">\\r\\n<label>Country</label>\\r\\n<div class=\"input_box3-large\">\\r\\n    <label class=\"seletop\">\\r\\n        <select class=\"selectMenu\" name=\"txtCountry\">\\r\\n            <option value=\"\">Select Country</option>\\r\\n            <option value=\"Afghanistan\">Afghanistan</option><option value=\"Albania\">Albania</option><option value=\"Algeria\">Algeria</option><option value=\"American Samoa\">American Samoa</option><option value=\"Andorra\">Andorra</option><option value=\"Angola\">Angola</option><option value=\"Anguilla\">Anguilla</option><option value=\"Antarctica\">Antarctica</option><option value=\"Antigua and Barbuda\">Antigua and Barbuda</option><option value=\"Argentina\">Argentina</option><option value=\"Armenia\">Armenia</option><option value=\"Aruba\">Aruba</option><option value=\"Australia\">Australia</option><option value=\"Austria\">Austria</option><option value=\"Azerbaijan\">Azerbaijan</option><option value=\"BS\">Bahamas, The</option><option value=\"Bahrain\">Bahrain</option><option value=\"Bangladesh\">Bangladesh</option><option value=\"Barbados\">Barbados</option><option value=\"Belarus\">Belarus</option><option value=\"Belgium\">Belgium</option><option value=\"Belize\">Belize</option><option value=\"Benin\">Benin</option><option value=\"Bermuda\">Bermuda</option><option value=\"Bhutan\">Bhutan</option><option value=\"Bolivia\">Bolivia</option><option value=\"Bosnia and Herzegovina\">Bosnia and Herzegovina</option><option value=\"Botswana\">Botswana</option><option value=\"Bouvet Island\">Bouvet Island</option><option value=\"Brazil\">Brazil</option><option value=\"Brunei\">Brunei</option><option value=\"Bulgaria\">Bulgaria</option><option value=\"Burkina Faso\">Burkina Faso</option><option value=\"Burundi\">Burundi</option><option value=\"Cambodia\">Cambodia</option><option value=\"Cameroon\">Cameroon</option><option value=\"Canada\">Canada</option><option value=\"Cape Verde\">Cape Verde</option><option value=\"Cayman Islands\">Cayman Islands</option><option value=\"Central African Republic\">Central African Republic</option><option value=\"Chad\">Chad</option><option value=\"Chile\">Chile</option><option value=\"China\">China</option><option value=\"Christmas Island\">Christmas Island</option><option value=\"Cocos (Keeling) Islands\">Cocos (Keeling) Islands</option><option value=\"Colombia\">Colombia</option><option value=\"Comoros\">Comoros</option><option value=\"Congo\">Congo</option><option value=\"Cook Islands\">Cook Islands</option><option value=\"Costa Rica\">Costa Rica</option><option value=\"Cote D\\'Ivoire (Ivory Coast)\">Cote D\\'Ivoire</option><option value=\"Croatia (Hrvatska)\">Croatia (Hrvatska)</option><option value=\"Cuba\">Cuba</option><option value=\"Cyprus\">Cyprus</option><option value=\"Czech Republic\">Czech Republic</option><option value=\"Denmark\">Denmark</option><option value=\"Djibouti\">Djibouti</option><option value=\"Dominica\">Dominica</option><option value=\"Dominican Republic\">Dominican Republic</option><option value=\"East Timor\">East Timor</option><option value=\"Ecuador\">Ecuador</option><option value=\"Egypt\">Egypt</option><option value=\"El Salvador\">El Salvador</option><option value=\"Equatorial Guinea\">Equatorial Guinea</option><option value=\"Eritrea\">Eritrea</option><option value=\"Estonia\">Estonia</option><option value=\"Ethiopia\">Ethiopia</option><option value=\"Falkland Islands (Islas Malvinas)\">Falkland Islands (Islas Malvinas)</option><option value=\"Faroe Islands\">Faroe Islands</option><option value=\"Fiji Islands\">Fiji Islands</option><option value=\"Finland\">Finland</option><option value=\"France\">France</option><option value=\"French Guiana\">French Guiana</option><option value=\"French Polynesia\">French Polynesia</option><option value=\"French Southern Territories\">French Southern Territories</option><option value=\"Gabon\">Gabon</option><option value=\"Gambia, The\">Gambia, The</option><option value=\"Georgia\">Georgia</option><option value=\"Germany\">Germany</option><option value=\"Ghana\">Ghana</option><option value=\"Gibraltar\">Gibraltar</option><option value=\"Greece\">Greece</option><option value=\"Greenland\">Greenland</option><option value=\"Grenada\">Grenada</option><option value=\"Guadeloupe\">Guadeloupe</option><option value=\"Guam\">Guam</option><option value=\"Guatemala\">Guatemala</option><option value=\"Guinea\">Guinea</option><option value=\"Guinea-Bissau\">Guinea-Bissau</option><option value=\"Guyana\">Guyana</option><option value=\"Haiti\">Haiti</option><option value=\"Heard and McDonald Islands\">Heard and McDonald Islands</option><option value=\"Honduras\">Honduras</option><option value=\"Hong Kong S.A.R.\">Hong Kong S.A.R.</option><option value=\"Hungary\">Hungary</option><option value=\"Iceland\">Iceland</option><option value=\"India\">India</option><option value=\"Indonesia\">Indonesia</option><option value=\"Iran\">Iran</option><option value=\"Iraq\">Iraq</option><option value=\"Ireland\">Ireland</option><option value=\"Israel\">Israel</option><option value=\"Italy\">Italy</option><option value=\"Jamaica\">Jamaica</option><option value=\"Japan\">Japan</option><option value=\"Jordan\">Jordan</option><option value=\"Kazakhstan\">Kazakhstan</option><option value=\"Kenya\">Kenya</option><option value=\"Kiribati\">Kiribati</option><option value=\"Korea\">Korea</option><option value=\"Korea, North\">Korea, North</option><option value=\"Kuwait\">Kuwait</option><option value=\"Kyrgyzstan\">Kyrgyzstan</option><option value=\"Laos\">Laos</option><option value=\"Latvia\">Latvia</option><option value=\"Lebanon\">Lebanon</option><option value=\"Lesotho\">Lesotho</option><option value=\"Liberia\">Liberia</option><option value=\"Libya\">Libya</option><option value=\"Liechtenstein\">Liechtenstein</option><option value=\"Lithuania\">Lithuania</option><option value=\"Luxembourg\">Luxembourg</option><option value=\"Macau S.A.R.\">Macau S.A.R.</option><option value=\"Macedonia\">Macedonia</option><option value=\"Madagascar\">Madagascar</option><option value=\"Malawi\">Malawi</option><option value=\"Malaysia\">Malaysia</option><option value=\"Maldives\">Maldives</option><option value=\"Mali\">Mali</option><option value=\"Malta\">Malta</option><option value=\"Marshall Islands\">Marshall Islands</option><option value=\"Martinique\">Martinique</option><option value=\"Mauritania\">Mauritania</option><option value=\"Mauritius\">Mauritius</option><option value=\"Mayotte\">Mayotte</option><option value=\"Mexico\">Mexico</option><option value=\"Micronesia\">Micronesia</option><option value=\"Moldova\">Moldova</option><option value=\"Monaco\">Monaco</option><option value=\"Mongolia\">Mongolia</option><option value=\"Montserrat\">Montserrat</option><option value=\"Morocco\">Morocco</option><option value=\"Mozambique\">Mozambique</option><option value=\"Myanmar\">Myanmar</option><option value=\"Namibia\">Namibia</option><option value=\"Nauru\">Nauru</option><option value=\"Nepal\">Nepal</option><option value=\"Netherlands Antilles\">Netherlands Antilles</option><option value=\"Netherlands, The\">Netherlands, The</option><option value=\"New Caledonia\">New Caledonia</option><option value=\"New Zealand\">New Zealand</option><option value=\"Nicaragua\">Nicaragua</option><option value=\"Niger\">Niger</option><option value=\"Nigeria\">Nigeria</option><option value=\"Niue\">Niue</option><option value=\"Norfolk Island\">Norfolk Island</option><option value=\"Northern Mariana Islands\">Northern Mariana Islands</option><option value=\"Norway\">Norway</option><option value=\"Oman\">Oman</option><option value=\"Pakistan\">Pakistan</option><option value=\"Palau\">Palau</option><option value=\"Panama\">Panama</option><option value=\"Papua new Guinea\">Papua new Guinea</option><option value=\"Paraguay\">Paraguay</option><option value=\"Peru\">Peru</option><option value=\"Philippines\">Philippines</option><option value=\"Pitcairn Island\">Pitcairn Island</option><option value=\"Poland\">Poland</option><option value=\"Portugal\">Portugal</option><option value=\"Puerto Rico\">Puerto Rico</option><option value=\"Qatar\">Qatar</option><option value=\"Reunion\">Reunion</option><option value=\"Romania\">Romania</option><option value=\"Russia\">Russia</option><option value=\"Rwanda\">Rwanda</option><option value=\"Saint Helena\">Saint Helena</option><option value=\"Saint Kitts and Nevis\">Saint Kitts and Nevis</option><option value=\"Saint Lucia\">Saint Lucia</option><option value=\"Saint Pierre and Miquelon\">Saint Pierre and Miquelon</option><option value=\"Samoa\">Samoa</option><option value=\"San Marino\">San Marino</option><option value=\"Sao Tome and Principe\">Sao Tome and Principe</option><option value=\"Saudi Arabia\">Saudi Arabia</option><option value=\"Senegal\">Senegal</option><option value=\"Seychelles\">Seychelles</option><option value=\"Sierra Leone\">Sierra Leone</option><option value=\"Singapore\">Singapore</option><option value=\"Slovakia\">Slovakia</option><option value=\"Slovenia\">Slovenia</option><option value=\"Solomon Islands\">Solomon Islands</option><option value=\"Somalia\">Somalia</option><option value=\"South Africa\">South Africa</option><option value=\"Spain\">Spain</option><option value=\"Sri Lanka\">Sri Lanka</option><option value=\"Sudan\">Sudan</option><option value=\"Suriname\">Suriname</option><option value=\"Swaziland\">Swaziland</option><option value=\"Sweden\">Sweden</option><option value=\"Switzerland\">Switzerland</option><option value=\"Syria\">Syria</option><option value=\"Taiwan\">Taiwan</option><option value=\"Tajikistan\">Tajikistan</option><option value=\"Tanzania\">Tanzania</option><option value=\"Thailand\">Thailand</option><option value=\"Togo\">Togo</option><option value=\"Tokelau\">Tokelau</option><option value=\"Tonga\">Tonga</option><option value=\"Trinidad and Tobago\">Trinidad and Tobago</option><option value=\"Tunisia\">Tunisia</option><option value=\"Turkey\">Turkey</option><option value=\"Turkmenistan\">Turkmenistan</option><option value=\"Turks and Caicos Islands\">Turks and Caicos Islands</option><option value=\"Tuvalu\">Tuvalu</option><option value=\"Uganda\">Uganda</option><option value=\"Ukraine\">Ukraine</option><option value=\"United Arab Emirates\">United Arab Emirates</option><option value=\"United Kingdom\">United Kingdom</option><option value=\"United States\">United States</option><option value=\"Uruguay\">Uruguay</option><option value=\"Uzbekistan\">Uzbekistan</option><option value=\"Vanuatu\">Vanuatu</option><option value=\"Vatican City State\">Vatican City State</option><option value=\"Venezuela\">Venezuela</option><option value=\"Vietnam\">Vietnam</option><option value=\"Virgin Islands (British)\">Virgin Islands (British)</option><option value=\"Virgin Islands (US)\">Virgin Islands (US)</option><option value=\"Wallis and Futuna Islands\">Wallis and Futuna Islands</option><option value=\"Yemen\">Yemen</option><option value=\"Yugoslavia\">Yugoslavia</option><option value=\"Zambia\">Zambia</option><option value=\"Zimbabwe\">Zimbabwe</option>        </select>\\r\\n</label>\\r\\n</div>\\r\\n</div>\\r\\n</div>\\r\\n<div class=\"form_input_wrap\">\\r\\n<div class=\"left_input_wrap\">\\r\\n<label>Name<span>*</span></label>\\r\\n<input name=\"txtFirstName\" type=\"text\" value=\"\" placeholder=\"First Name\" required pattern=\"[a-zA-Z][a-zA-Z0-9\\\\s]*\" autocomplete=\"off\">\\r\\n</div>\\r\\n<div class=\"right_input_wrap\">\\r\\n<label>&nbsp;</label>\\r\\n<input name=\"txtLastName\" type=\"text\" value=\"\" placeholder=\"Last Name\" pattern=\"[a-zA-Z][a-zA-Z0-9\\\\s]*\" autocomplete=\"off\">\\r\\n</div>\\r\\n</div>\\r\\n\\r\\n\\r\\n<div class=\"form_input_wrap\">\\r\\n<div class=\"left_input_wrap\">\\r\\n<label>Contact number<span>*</span></label>\\r\\n<input name=\"txtContactNo\" type=\"text\" value=\"\" placeholder=\"Contact Number\" required pattern=\"[0-9]*\" title=\"Only numbers are allowed\" autocomplete=\"off\">\\r\\n\\r\\n</div>\\r\\n<div class=\"right_input_wrap\">\\r\\n<label>Email<span>*</span></label>\\r\\n <input name=\"txtEmail\" type=\"email\" value=\"\" placeholder=\"E-mail: example@example.com\" required pattern=\"[a-zA-Z0-9._%+-]+@[a-zA-Z0-9.-]+\\\\.[a-z]{2,3}$\">\\r\\n</div>\\r\\n</div>\\r\\n\\r\\n<div class=\"form_input_wrap\">\\r\\n<div class=\"left_input_wrap\">\\r\\n<label>Captcha</label>\\r\\n<input name=\"captcha_ver_security_salt\" id=\"captcha_ver_security_salt\" type=\"hidden\" value=\"\">\\r\\n<input name=\"captcha_ver_code\" maxlength=\"5\" id=\"captcha_ver_code\" type=\"text\" placeholder=\"Enter the letters as they are\" autocomplete=\"off\">\\r\\n</div>\\r\\n</div>\\r\\n\\r\\n<div class=\"capcha\">\\r\\n    <img alt=\"Captcha\" title=\"Captcha\" id=\"captcha\" name=\"captcha\" src=\"\">\\r\\n    <div class=\"captcha-refresh\" id=\"changeCaptcha\" style=\"display: inline-block;top: 0;right: 0; cursor: pointer;\">\\r\\n        <img src=\"https://www.tatamotors.com/wp-content/themes/tatamotors_2019/images/refresh-icon.png\" alt=\"Change Captcha\" style=\"height: 50px;width: 50px;\" />\\r\\n    </div>\\r\\n</div>\\r\\n\\r\\n<div class=\"subscribe_btn\">\\r\\n<input class=\"submit\" name=\"submit\" value=\"Submit\" type=\"submit\">\\r\\n<span id=\"loading_contact_form\" style=\"display:none;\">Processing please wait..</span>\\r\\n</div>\\r\\n</div>\\r\\n</form>\\r\\n</div>\\r\\n</div>\\r\\n\\t\\t</div>\\r\\n        \\r\\n</div>\\r\\n</div>\\r\\n</div>\\r\\n\\r\\n</div><!-- ###inside content wrapper### -->\\r\\n\\r\\n<div class=\"bootom_link white_bg\" data-text=\"Interested In\">\\r\\n<ul>\\r\\n<li>you may also be interested in:</li>\\r\\n<li><a href=\"/products/\">Products</a></li>\\r\\n<li><a href=\"/investors/\">Investors</a></li>\\r\\n<li><a href=\"/markets/\">Markets</a></li>\\r\\n<li><a href=\"/careers/\">Careers</a></li>\\r\\n</ul>\\r\\n</div>\\r\\n<div class=\"footerWrapper\">\\r\\n\\r\\n<footer> <div class=\"fotter_container\">\\r\\n    <div class=\"row\">\\r\\n    <div class=\"left_sec\">\\r\\n    <!--<h3>Our vehicles are on the roads in <span>55 countries</span> </h3>-->\\r\\n    <h3>Tata Motors Group is on the roads of <span>175 countries</span></h3>\\r\\n    <img src=\"https://www.tatamotors.com/wp-content/themes/tatamotors_2019/images/world_map.gif\" alt=\"World Map - Tata Motor\" title=\"World Map - Tata Motor\"/> </div>\\r\\n     <div class=\"right_sec\">\\r\\n     <ul>\\r\\n     <li>\\r\\n     <h3>About Us </h3>\\r\\n    <a href=\"/about-us/company-profile/\" class=\"hide_ft\">Company Profile</a>\\r\\n    <a href=\"/about-us/leadership/\" class=\"hide_ft\">Leadership</a>\\r\\n    <a href=\"/about-us/facilities/\" class=\"hide_ft\">Facilities</a>\\r\\n    <a href=\"/about-us/subsidiaries/\" class=\"hide_ft\">Subsidiaries</a>\\r\\n<a href=\"/innovation/\" class=\"hide_ft\">Innovations</a>\\r\\n    <a href=\"/about-us/awards-recognitions/\" class=\"hide_ft\">Awards </a>\\r\\n    <!--<a href=\"/about-us/corporate-governance/\" class=\"hide_ft\">Corporate Governance</a>-->\\r\\n\\r\\n<h3 style=\"padding-top:20px;\">Dealer Application</h3>\\r\\n<a href=\"/wp-content/uploads/2015/09/PV-Dealer-Application-form.pdf\" target=\"_blank\">Passenger Vehicles</a>\\r\\n<a href=\"/wp-content/uploads/2018/02/27112840/CV-Dealer-application-form.pdf\" target=\"_blank\">Commercial Vehicles</a>\\r\\n     </li>\\r\\n     <li>\\r\\n     <h3>MEDIA</h3>\\r\\n     <a href=\"/media/press-releases/\" class=\"hide_ft\">Press Releases</a>\\r\\n<a href=\"/media/media-coverage/\" class=\"hide_ft\">Media Coverage</a>\\r\\n<a href=\"/media/product-stories/\" class=\"hide_ft\">Product Stories</a>\\r\\n<a href=\"/media/gallery/\" class=\"hide_ft\">Gallery</a>\\r\\n<!--<a href=\"https://career5.successfactors.eu/career?company=tataindiaP\" target=\"_blank\">Facility to take appointment for interviews</a>\\r\\n<a href=\"/media/#social\">Social Media Window</a>-->\\r\\n<!--<a href=\"#\">Press kits</a>-->\\r\\n<a href=\"/contact-us/?val=media\">Media Contact</a>\\r\\n<h3 style=\"margin-top:15px;\"><a href=\"/wp-content/uploads/2018/04/17065155/Distributor-Application-Form.pdf\" target=\"_blank\">Distributor Application</a></h3>\\r\\n<!--<a href=\"/new-dealer-locations/\" style=\"background-image:none;\"><img src=\"[template_url]/images/dealer-location.gif\" alt=\"\" /></a>-->\\r\\n<!--<h3><a href=\"#intdis\" class=\"marketmenu_pop\">Apply for International Distributorship</a></h3>-->\\r\\n     </li>\\r\\n     <li>\\r\\n     <h3><a href=\"/products/\">Products</a></h3>\\r\\n     <h3><a href=\"/markets/\">Markets</a></h3>\\r\\n     <h3><a href=\"/corporate-social-responsibility/\">CSR</a></h3>\\r\\n     <h3><a href=\"/connecting-aspirations/\">Connecting Aspirations</a></h3>\\r\\n     <h3><a href=\"/investors/\">Investors</a></h3>\\r\\n     <h3><a href=\"/careers/\">Careers</a></h3>\\r\\n     <h3><a href=\"/contact-us/\">Contact Us</a></h3>\\r\\n     </li>\\r\\n     </ul>\\r\\n     </div>\\r\\n    \\r\\n    </div>\\r\\n    </div> <div class=\"footer_bottom\">\\r\\n    <div class=\"container\">\\r\\n        <div class=\"social\">\\r\\n<a class=\"twitter icon\" href=\"https://twitter.com/TataMotors\" target=\"_blank\">twitter</a>\\r\\n<!--<a class=\"linkedin icon\" href=\"https://www.linkedin.com/company-beta/5665/\" target=\"_blank\">linkedin</a>-->\\r\\n<a class=\"linkedin icon\" href=\"https://www.linkedin.com/company/tata-motors/\" target=\"_blank\">linkedin</a>\\r\\n<a class=\"facebook icon\" href=\"https://www.facebook.com/TataMotorsGroup/\" target=\"_blank\">facebook</a>\\r\\n<a class=\"youtube icon\" href=\"https://www.youtube.com/user/TataMotorsGroup\" target=\"_blank\">youtube</a>\\r\\n<a class=\"Instagram icon\" href=\"https://instagram.com/tatamotorsgroup\" target=\"_blank\">Instagram</a>\\r\\n    </div>\\r\\n    <div class=\"copyrights\">© Copyright 2018 Tata Motors. All Rights Reserved. <span> <a href=\"/investors/disclaimer/\">Legal Disclaimer</a> <a href=\"/open-source-license-disclosure/\">Open Source License Disclosure</a>  <!--<a href=\"#\">Privacy and cookies policy</a>--> </span></div>\\r\\n\\r\\n    </div>\\r\\n    </div></footer>   \\r\\n\\r\\n<style>\\r\\n    label.error, .errorMsg {color: #a00; font-family: \"uni_neuebook\"; font-size: 16px;}\\r\\n</style>\\r\\n\\r\\n<!-- This contains the hidden content for inline calls -->\\r\\n<div style=\\'display:none\\'>\\r\\n<div class=\"join_pop_wrap\" id=\\'intdis\\'>\\r\\n<div class=\"join_headmarket\">\\r\\n<div class=\"joinpopup_container\">\\r\\n<h3>Distributorship <span>Enquiry Form</span></h3>\\r\\n</div>\\r\\n</div>\\r\\n\\r\\n<div class=\"joinpopup_container joinpopup_form_container_distributorship\">\\r\\n<form id=\"distributorshipForm\" autocomplete=\"off\" method=\"post\" action=\"\">\\r\\n<input type=\"hidden\" id=\"distributorship_form_nonce_field\" name=\"distributorship_form_nonce_field\" value=\"82ed4668b8\" /><input type=\"hidden\" name=\"_wp_http_referer\" value=\"/contact-us/\" /><input type=\"hidden\" name=\"tm_option\" value=\"distributorship_form_submit\">\\r\\n<div class=\"join_popform marpop\">\\r\\n<div class=\"form_input_wrap\">\\r\\n<div class=\"left_input_wrap\">\\r\\n<label>Name<span>*</span></label>\\r\\n<input name=\"txtName\" id=\"txtName\" type=\"text\" placeholder=\"Name\" value=\"\" required pattern=\"[a-zA-Z][a-zA-Z0-9\\\\s]*\">\\r\\n</div>\\r\\n<div class=\"right_input_wrap\">\\r\\n<label>Phone Number<span>*</span></label>\\r\\n<input name=\"txtPhone\" id=\"txtPhone\" type=\"text\" placeholder=\"Phone Number\" value=\"\" required pattern=\"[0-9]*\">\\r\\n</div>\\r\\n</div>\\r\\n<div class=\"form_input_wrap\">\\r\\n<div class=\"left_input_wrap\">\\r\\n<label>Country of Interest<span>*</span></label>\\r\\n<div class=\"input_box3-large\">\\r\\n<label>\\r\\n<select class=\"selectMenu\" id=\"txtCountry\" name=\"txtCountry\" required>\\r\\n    <option value=\"\">Select Country of Interest</option>\\r\\n    <option value=\"1\">Afghanistan</option><option value=\"2\">Albania</option><option value=\"3\">Algeria</option><option value=\"4\">American Samoa</option><option value=\"5\">Andorra</option><option value=\"6\">Angola</option><option value=\"7\">Anguilla</option><option value=\"8\">Antarctica</option><option value=\"9\">Antigua and Barbuda</option><option value=\"10\">Argentina</option><option value=\"11\">Armenia</option><option value=\"12\">Aruba</option><option value=\"13\">Australia</option><option value=\"14\">Austria</option><option value=\"15\">Azerbaijan</option><option value=\"16\">Bahamas</option><option value=\"17\">Bahrain</option><option value=\"18\">Bangladesh</option><option value=\"19\">Barbados</option><option value=\"20\">Belarus</option><option value=\"21\">Belgium</option><option value=\"22\">Belize</option><option value=\"23\">Benin</option><option value=\"24\">Bermuda</option><option value=\"25\">Bhutan</option><option value=\"26\">Bolivia</option><option value=\"27\">Bosnia and Herzegovina</option><option value=\"28\">Botswana</option><option value=\"29\">Brazil</option><option value=\"30\">Brunei Darussalam</option><option value=\"31\">Bulgaria</option><option value=\"32\">Burkina Faso</option><option value=\"33\">Burundi</option><option value=\"34\">Cambodia</option><option value=\"35\">Cameroon</option><option value=\"36\">Canada</option><option value=\"37\">Cape Verde</option><option value=\"38\">Cayman Islands</option><option value=\"39\">Central African Republic</option><option value=\"40\">Chad</option><option value=\"41\">Chile</option><option value=\"42\">China</option><option value=\"43\">Christmas Island</option><option value=\"44\">Cocos (Keeling) Islands</option><option value=\"45\">Colombia</option><option value=\"46\">Comoros</option><option value=\"47\">Congo</option><option value=\"48\">Cook Islands</option><option value=\"49\">Costa Rica</option><option value=\"50\">Croatia</option><option value=\"51\">Cuba</option><option value=\"52\">Cyprus</option><option value=\"53\">Czech Republic</option><option value=\"54\">Denmark</option><option value=\"55\">Djibouti</option><option value=\"56\">Dominica</option><option value=\"57\">Dominican Republic</option><option value=\"58\">East Timor (Timor-Leste)</option><option value=\"59\">Ecuador</option><option value=\"60\">Egypt</option><option value=\"61\">El Salvador</option><option value=\"62\">Equatorial Guinea</option><option value=\"63\">Eritrea</option><option value=\"64\">Estonia</option><option value=\"65\">Ethiopia</option><option value=\"66\">Falkland Islands</option><option value=\"67\">Faroe Islands</option><option value=\"68\">Fiji</option><option value=\"69\">Finland</option><option value=\"70\">France</option><option value=\"71\">French Guiana</option><option value=\"72\">French Polynesia</option><option value=\"73\">French Southern Territories</option><option value=\"74\">Gabon</option><option value=\"75\">Gambia</option><option value=\"76\">Georgia</option><option value=\"77\">Germany</option><option value=\"78\">Ghana</option><option value=\"79\">Gibraltar</option><option value=\"80\">Great Britain</option><option value=\"81\">Greece</option><option value=\"82\">Greenland</option><option value=\"83\">Grenada</option><option value=\"84\">Guadeloupe</option><option value=\"85\">Guam</option><option value=\"86\">Guatemala</option><option value=\"87\">Guinea</option><option value=\"88\">Guinea-Bissau</option><option value=\"89\">Guyana</option><option value=\"90\">Haiti</option><option value=\"91\">Holy See</option><option value=\"92\">Honduras</option><option value=\"93\">Hong Kong</option><option value=\"94\">Hungary</option><option value=\"95\">Iceland</option><option value=\"96\">India</option><option value=\"97\">Indonesia</option><option value=\"98\">Iran </option><option value=\"99\">Iraq</option><option value=\"100\">Ireland</option><option value=\"101\">Israel</option><option value=\"102\">Italy</option><option value=\"103\">Ivory Coast</option><option value=\"104\">Jamaica</option><option value=\"105\">Japan</option><option value=\"106\">Jordan</option><option value=\"107\">Kazakhstan</option><option value=\"108\">Kenya</option><option value=\"109\">Kiribati</option><option value=\"110\">North Korea</option><option value=\"111\">South Korea</option><option value=\"112\">Kosovo</option><option value=\"113\">Kuwait</option><option value=\"114\">Kyrgyzstan</option><option value=\"115\">Lao</option><option value=\"116\">Latvia</option><option value=\"117\">Lebanon</option><option value=\"118\">Lesotho</option><option value=\"119\">Liberia</option><option value=\"120\">Libya</option><option value=\"121\">Liechtenstein</option><option value=\"122\">Lithuania</option><option value=\"123\">Luxembourg</option><option value=\"124\">Macau</option><option value=\"125\">Macedonia</option><option value=\"126\">Madagascar</option><option value=\"127\">Malawi</option><option value=\"128\">Malaysia</option><option value=\"129\">Maldives</option><option value=\"130\">Mali</option><option value=\"131\">Malta</option><option value=\"132\">Marshall Islands</option><option value=\"133\">Martinique</option><option value=\"134\">Mauritania</option><option value=\"135\">Mauritius</option><option value=\"136\">Mayotte</option><option value=\"137\">Mexico</option><option value=\"138\">Micronesia</option><option value=\"139\">Moldova</option><option value=\"140\">Monaco</option><option value=\"141\">Mongolia</option><option value=\"142\">Montenegro</option><option value=\"143\">Montserrat</option><option value=\"144\">Morocco</option><option value=\"145\">Mozambique</option><option value=\"146\">Myanmar / Burma</option><option value=\"147\">Namibia</option><option value=\"148\">Nauru</option><option value=\"149\">Nepal</option><option value=\"150\">Netherlands</option><option value=\"151\">Netherlands Antilles</option><option value=\"152\">New Caledonia</option><option value=\"153\">New Zealand</option><option value=\"154\">Nicaragua</option><option value=\"155\">Niger</option><option value=\"156\">Nigeria</option><option value=\"157\">Niue</option><option value=\"158\">Northern Mariana Islands</option><option value=\"159\">Norway</option><option value=\"160\">Oman</option><option value=\"161\">Pakistan</option><option value=\"162\">Palau</option><option value=\"163\">Palestinian territories</option><option value=\"164\">Panama</option><option value=\"165\">Papua New Guinea</option><option value=\"166\">Paraguay</option><option value=\"167\">Peru</option><option value=\"168\">Philippines</option><option value=\"169\">Pitcairn Island</option><option value=\"170\">Poland</option><option value=\"171\">Portugal</option><option value=\"172\">Puerto Rico</option><option value=\"173\">Qatar</option><option value=\"174\">Reunion Island</option><option value=\"175\">Romania</option><option value=\"176\">Russian Federation</option><option value=\"177\">Rwanda</option><option value=\"178\">Saint Kitts and Nevis</option><option value=\"179\">Saint Lucia</option><option value=\"180\">Saint Vincent and the Grenadines</option><option value=\"181\">Samoa</option><option value=\"182\">San Marino</option><option value=\"183\">Sao Tome and Principe</option><option value=\"184\">Saudi Arabia</option><option value=\"185\">Senegal</option><option value=\"186\">Serbia</option><option value=\"187\">Seychelles</option><option value=\"188\">Sierra Leone</option><option value=\"189\">Singapore</option><option value=\"190\">Slovakia (Slovak Republic)</option><option value=\"191\">Slovenia</option><option value=\"192\">Solomon Islands</option><option value=\"193\">Somalia</option><option value=\"194\">South Africa</option><option value=\"195\">South Sudan</option><option value=\"196\">Spain</option><option value=\"197\">Sri Lanka</option><option value=\"198\">Sudan</option><option value=\"199\">Suriname</option><option value=\"200\">Swaziland</option><option value=\"201\">Sweden</option><option value=\"202\">Switzerland</option><option value=\"203\">Syria</option><option value=\"204\">Taiwan </option><option value=\"205\">Tajikistan</option><option value=\"206\">Tanzania</option><option value=\"207\">Thailand</option><option value=\"208\">Tibet</option><option value=\"209\">Timor-Leste (East Timor)</option><option value=\"210\">Togo</option><option value=\"211\">Tokelau</option><option value=\"212\">Tonga</option><option value=\"213\">Trinidad and Tobago</option><option value=\"214\">Tunisia</option><option value=\"215\">Turkey</option><option value=\"216\">Turkmenistan</option><option value=\"217\">Turks and Caicos Islands</option><option value=\"218\">Tuvalu</option><option value=\"219\">Uganda</option><option value=\"220\">Ukraine</option><option value=\"221\">United Arab Emirates</option><option value=\"222\">United Kingdom</option><option value=\"223\">United States</option><option value=\"224\">Uruguay</option><option value=\"225\">Uzbekistan</option><option value=\"226\">Vanuatu</option><option value=\"227\">Vatican City State </option><option value=\"228\">Venezuela</option><option value=\"229\">Vietnam</option><option value=\"230\">Virgin Islands </option><option value=\"231\">Wallis and Futuna Islands</option><option value=\"232\">Western Sahara</option><option value=\"233\">Yemen</option><option value=\"234\">Zambia</option><option value=\"235\">Zimbabwe</option></select>\\r\\n</label>\\r\\n</div>\\r\\n\\r\\n</div>\\r\\n<div class=\"right_input_wrap\">\\r\\n<label>Organization Name<span>*</span></label>\\r\\n<input name=\"orgName\" id=\"orgName\" type=\"text\" value=\"\" placeholder=\"Organization Name\" required pattern=\"[a-zA-Z0-9][a-zA-Z0-9\\\\s]*\">\\r\\n</div>\\r\\n</div>\\r\\n\\r\\n<div class=\"form_input_wrap\">\\r\\n<div class=\"left_input_wrap\">\\r\\n<label>Website<span>*</span></label>\\r\\n<input name=\"txtWebsite\" id=\"txtWebsite\" type=\"text\" value=\"\" placeholder=\"Website\">\\r\\n</div>\\r\\n<div class=\"right_input_wrap\">\\r\\n<label>Model of Interest<span>*</span></label>\\r\\n<input name=\"txtModels\" id=\"txtModels\" type=\"text\" value=\"\" placeholder=\"Models of Interest\">\\r\\n</div>\\r\\n</div>\\r\\n\\r\\n  <div class=\"form_input_wrap\">\\r\\n<div class=\"left_input_wrap\">\\r\\n<label>Email Id<span>*</span></label>\\r\\n <input name=\"txtEmail\" id=\"txtEmail\" type=\"email\" value=\"\" placeholder=\"E-mail ID*\" required pattern=\"[a-zA-Z0-9._%+-]+@[a-zA-Z0-9.-]+\\\\.[a-z]{2,3}$\">\\r\\n</div>\\r\\n</div>\\r\\n\\r\\n<div class=\"form_input_wrap\">\\r\\n<div class=\"left_input_wrap\">\\r\\n<label>Captcha</label>\\r\\n<input name=\"captcha_ver_security_salt_3\" id=\"captcha_ver_security_salt_3\" type=\"hidden\" value=\"\">\\r\\n<input name=\"captcha_ver_code\" maxlength=\"5\" id=\"captcha_ver_code\" type=\"text\" placeholder=\"Enter the letters as they are\" autocomplete=\"off\">\\r\\n</div>\\r\\n</div>\\r\\n\\r\\n<div class=\"capcha\">\\r\\n    <img alt=\"Captcha\" title=\"Captcha\" id=\"captcha_3\" name=\"captcha\" src=\"\">\\r\\n    <div class=\"captcha-refresh\" id=\"changeCaptcha_3\" style=\"display: inline-block;top: 0;right: 0; cursor: pointer;\">\\r\\n        <img src=\"https://www.tatamotors.com/wp-content/themes/tatamotors_2019/images/refresh-icon.png\" alt=\"Refresh Icon\" title=\"Refresh Icon\" style=\"height: 50px;width: 50px;\" />\\r\\n    </div>\\r\\n</div>\\r\\n\\r\\n<div class=\"subscribe_btn\">\\r\\n<input class=\"submit\" type=\"submit\" name=\"submit\" value=\"Submit\"><span id=\"loading_distributorship_form\" style=\"display:none;\">Processing please wait..</span>\\r\\n</div>\\r\\n</div>\\r\\n</form>\\r\\n</div>\\r\\n</div>\\r\\n</div>\\r\\n\\r\\n\\r\\n<div style=\\'display:none\\'>\\r\\n<div class=\"join_pop_wrap\" id=\\'listcoun\\'>\\r\\n<div class=\"join_headmarket\">\\r\\n<div class=\"joinpopup_container\">\\r\\n<h3>List Your Country <span>Enquiry Form</span></h3>\\r\\n</div>\\r\\n</div>\\r\\n\\r\\n<div class=\"joinpopup_container joinpopup_form_container_list_your_country\">\\r\\n<form id=\"listYourCountryForm\" autocomplete=\"off\" method=\"post\" action=\"\">\\r\\n<input type=\"hidden\" id=\"list_your_country_form_nonce_field\" name=\"list_your_country_form_nonce_field\" value=\"621710588e\" /><input type=\"hidden\" name=\"_wp_http_referer\" value=\"/contact-us/\" /><input type=\"hidden\" name=\"tm_option\" value=\"list_your_country_form_submit\">\\r\\n<div class=\"join_popform marpop\">\\r\\n<div class=\"form_input_wrap\">\\r\\n<div class=\"left_input_wrap\">\\r\\n<label>Name<span>*</span></label>\\r\\n<input name=\"txtName\" id=\"txtName\" type=\"text\" placeholder=\"Name\" value=\"\" required pattern=\"[a-zA-Z][a-zA-Z0-9\\\\s]*\">\\r\\n</div>\\r\\n<div class=\"right_input_wrap\">\\r\\n<label>Address<span>*</span></label>\\r\\n<textarea class=\"small_text\" name=\"txtAddress\" pattern=\"[^()\\\\&\\\\*\\\\$\\\\[\\\\]@!%<>\\\\^#\\\\{\\\\}]+\" required></textarea>\\r\\n</div>\\r\\n</div>\\r\\n<div class=\"form_input_wrap\">\\r\\n<div class=\"left_input_wrap\">\\r\\n<label>City<span>*</span></label>\\r\\n<input name=\"txtCity\" id=\"txtCity\" type=\"text\" placeholder=\"City\" value=\"\" required pattern=\"[a-zA-Z][a-zA-Z0-9\\\\s]*\">\\r\\n\\r\\n</div>\\r\\n<div class=\"right_input_wrap\">\\r\\n<label>Phone No. (Off)<span>*</span></label>\\r\\n<input name=\"txtPhone\" id=\"txtPhone\" type=\"text\" placeholder=\"Phone Number\" value=\"\" required pattern=\"[0-9]*\">\\r\\n</div>\\r\\n</div>\\r\\n\\r\\n<div class=\"form_input_wrap\">\\r\\n<div class=\"left_input_wrap\">\\r\\n<label>E-mail: example@example.com<span>*</span></label>\\r\\n<input name=\"txtEmail\" id=\"txtEmail\" type=\"email\" value=\"\" placeholder=\"E-mail ID*\" required pattern=\"[a-zA-Z0-9._%+-]+@[a-zA-Z0-9.-]+\\\\.[a-z]{2,3}$\">\\r\\n</div>\\r\\n<div class=\"right_input_wrap\">\\r\\n<label>PIN/ Postal/ Zip code<span>*</span></label>\\r\\n<input name=\"txtPin\" id=\"txtPin\" type=\"text\" placeholder=\"PIN / Postal / Zip code\" value=\"\" required pattern=\"[0-9]*\">\\r\\n</div>\\r\\n</div>\\r\\n\\r\\n  <div class=\"form_input_wrap\">\\r\\n<div class=\"left_input_wrap\">\\r\\n<label>Phone No. (Res)<span>*</span></label>\\r\\n<input name=\"txtResPhone\" id=\"txtResPhone\" type=\"text\" placeholder=\"Phone Number\" value=\"\" required pattern=\"[0-9]*\">\\r\\n</div>\\r\\n\\r\\n</div>\\r\\n\\r\\n  <div class=\"form_input_wrap\">\\r\\n<label>Query<span>*</span></label>\\r\\n<textarea class=\"full_text\" name=\"txtQuery\" pattern=\"[^()\\\\&\\\\*\\\\$\\\\[\\\\]@!%<>\\\\^#\\\\{\\\\}]+\" required></textarea>\\r\\n</div>\\r\\n\\r\\n<div class=\"form_input_wrap\">\\r\\n<div class=\"left_input_wrap\">\\r\\n<label>Captcha</label>\\r\\n<input name=\"captcha_ver_security_salt_4\" id=\"captcha_ver_security_salt_4\" type=\"hidden\" value=\"\">\\r\\n<input name=\"captcha_ver_code\" maxlength=\"5\" id=\"captcha_ver_code\" type=\"text\" placeholder=\"Enter the letters as they are\" autocomplete=\"off\">\\r\\n</div>\\r\\n</div>\\r\\n\\r\\n<div class=\"capcha\">\\r\\n    <img alt=\"Captcha\" title=\"Captcha\" id=\"captcha_4\" name=\"captcha\" src=\"\">\\r\\n    <div class=\"captcha-refresh\" id=\"changeCaptcha_4\" style=\"display: inline-block;top: 0;right: 0; cursor: pointer;\">\\r\\n        <img src=\"https://www.tatamotors.com/wp-content/themes/tatamotors_2019/images/refresh-icon.png\" alt=\"Refresh Icon\" title=\"Refresh Icon\" style=\"height: 50px;width: 50px;\" />\\r\\n    </div>\\r\\n</div>\\r\\n    \\r\\n<div class=\"subscribe_btn\">\\r\\n<input class=\"submit\" type=\"submit\" name=\"submit\" value=\"Submit\"><span id=\"loading_list_your_country_form\" style=\"display:none;\">Processing please wait..</span>\\r\\n</div>\\r\\n</div>\\r\\n</form>\\r\\n</div>\\r\\n</div>\\r\\n</div>\\r\\n\\r\\n<div class=\"search-overlay\"></div>\\r\\n<div class=\"happyconnection\">\\r\\n  <div class=\"overlay\"></div>\\r\\n  <div class=\"happytoconnect-icon\">Happy to connect</div>\\r\\n  <div class=\"happytoconnect-open-icon\">\\r\\n  <h3>Happy to connect</h3>\\r\\n  <div class=\"others\">\\r\\n  <div class=\"call\"><img src=\"https://www.tatamotors.com/wp-content/themes/tatamotors_2019/images/call_n.jpg\" alt=\"Tata Motors Customer Care\" title=\"Tata Motors Customer Care\"/></div>\\r\\n  \\t<ul>\\r\\n   \\t  <li><a href=\"http://dealerlocator.tatamotors.com:8080/tmdealerlocator/bu\" target=\"_blank\"><img src=\"https://www.tatamotors.com/wp-content/themes/tatamotors_2019/images/dealer-locator-icon.png\" alt=\"Dealer Locator\"><span>Dealer <br> Locator</span></a></li>\\r\\n        <li><a href=\"#partpopup\" class=\"partner_pop\"><img src=\"https://www.tatamotors.com/wp-content/themes/tatamotors_2019/images/calculator-icon.png\" alt=\"EMI Calculator\"><span>EMI <br> Calculator</span></a>\\r\\n        <div style=\\'display:none\\'>\\r\\n\\t\\t<div class=\"join_pop_wrap\" id=\\'partpopup\\'>\\r\\n<div class=\"join_head\">\\r\\n<div class=\"joinpopup_container\">\\r\\n<h3>EMI Calculator</h3>\\r\\n</div>\\r\\n</div>\\r\\n\\r\\n<div class=\"joinpopup_container joinpopup_form_container\">\\r\\n<form id=\"EmiCalculatorForm\" autocomplete=\"off\" method=\"post\" action=\"\">\\r\\n<input type=\"hidden\" id=\"blog_sub_form_nonce_field\" name=\"blog_sub_form_nonce_field\" value=\"8bba6f0199\" /><input type=\"hidden\" name=\"_wp_http_referer\" value=\"/contact-us/\" /><input type=\"hidden\" name=\"tm_option\" value=\"emi_form_submit\">\\r\\n<div class=\"join_popform\">\\r\\n<div class=\"form_input_wrap\">\\r\\n<div class=\"left_input_wrap\">\\r\\n<label>Loan Amount<span>*</span></label>\\r\\n<input type=\"text\" name=\"loan_amount\" placeholder=\"Enter loan amount\" pattern=\"[0-9-\\\\.]*\" title=\"Example 10000.00\">\\r\\n</div>\\r\\n<div class=\"right_input_wrap\">\\r\\n<label>Rate of Interest<span>*</span></label>\\r\\n<div class=\"rate_of\">%</div>\\r\\n<input type=\"text\" name=\"rate_of_interest\" placeholder=\"Enter rate of interest\" pattern=\"[0-9-\\\\.]*\" title=\"Example 10.5\">\\r\\n</div>\\r\\n</div>\\r\\n<div class=\"form_input_wrap\">\\r\\n<div class=\"left_input_wrap\">\\r\\n<label>Loan Tenure<span>*</span></label>\\r\\n<div class=\"input_box4-large\">\\r\\n<label class=\"seletop\">\\r\\n<select class=\"selectMenu\" name=\"loan_period\" required>\\r\\n<option value=\"\">Select loan tenure</option>\\r\\n<option value=\"12\">12</option>\\r\\n<option value=\"24\">24</option>\\r\\n<option value=\"36\">36</option>\\r\\n<option value=\"48\">48</option>\\r\\n<option value=\"60\">60</option>\\r\\n<option value=\"72\">72</option>\\r\\n<option value=\"84\">84</option>\\r\\n<option value=\"96\">96</option>\\r\\n<option value=\"108\">108</option>\\r\\n</select>\\r\\n</label>\\r\\n</div>\\r\\n</div>\\r\\n<div class=\"right_input_wrap\">\\r\\n<div class=\"emi_btn\">\\r\\n<input class=\"submit\" type=\"submit\" name=\"submit\" value=\"Calculate EMI\">\\r\\n<span id=\"loading_emi_form\" style=\"display:none;\">Processing please wait..</span>\\r\\n</div>\\r\\n\\r\\n</div>\\r\\n</div>\\r\\n<div class=\"form_input_wrap rupee\">\\r\\n<span>EMI (per month)</span> <i><img src=\"https://www.tatamotors.com/wp-content/themes/tatamotors_2019/images/rupee.png\" alt=\"Rupee Symbol\" title=\"Rupee Symbol\"></i> <span class=\"loan_amn\" id=\"calculated_emi\">0</span>\\r\\n</div>\\r\\n<div class=\"form_input_wrap info_des\">\\r\\n<p>The information provided by the calculator is for illustrative purposes only. Actual EMI may vary as per exact loan offering. Please contact your nearest Tata Motors dealer for further details. EMI calculation reflects amounts in Indian Rupees rounded to the nearest whole number.</p>\\r\\n<p>EMI calculations are based on zero advance EMI scheme alone.</p>\\r\\n</div>\\r\\n\\r\\n</div>\\r\\n</form>\\r\\n<style>\\r\\n    label.error, .errorMsg {color: #a00; font-family: \"uni_neuebook\"; font-size: 16px;}\\r\\n</style>\\r\\n\\r\\n</div>\\r\\n</div>\\r\\n\\t\\t</div>        </li>\\r\\n        <li><a href=\"/contact-us/\"><img src=\"https://www.tatamotors.com/wp-content/themes/tatamotors_2019/images/contact-us-icon.png\" alt=\"Contact Us\"><span>Contact <br> Us</span></a></li>\\r\\n  </ul>\\r\\n\\r\\n  </div>\\r\\n  </div>           \\r\\n</div></div>\\r\\n</div>\\r\\n<script type=\"text/javascript\" src=\"https://www.tatamotors.com/wp-content/themes/tatamotors_2019/js/slick.min.js\"></script>\\r\\n<script src=\"https://www.tatamotors.com/wp-content/themes/tatamotors_2019/js/jquery.colorbox.js\"></script>\\r\\n<script type=\"text/javascript\" src=\"https://www.tatamotors.com/wp-content/themes/tatamotors_2019/js/home.js\"></script>\\r\\n<script src=\"https://www.tatamotors.com/wp-content/themes/tatamotors_2019/js/css3-animate-it.js\"></script>\\r\\n<script src=\"https://www.tatamotors.com/wp-content/themes/tatamotors_2019/js/nav.js\"></script>\\r\\n<script src=\"https://www.tatamotors.com/wp-content/themes/tatamotors_2019/js/inside.js\"></script>\\r\\n<script src=\"https://www.tatamotors.com/wp-content/themes/tatamotors_2019/js/jquery-ui.js\"></script>\\r\\n<script src=\"https://www.tatamotors.com/wp-content/themes/tatamotors_2019/js/jquery.mCustomScrollbar.concat.min.js\"></script>\\r\\n<script src=\"https://cdn.jsdelivr.net/npm/jquery-validation@1.17.0/dist/jquery.validate.min.js\"></script>\\r\\n<script src=\"https://cdn.jsdelivr.net/npm/jquery-validation@1.17.0/dist/additional-methods.min.js\"></script>\\r\\n<script type=\\'text/javascript\\' src=\\'https://www.tatamotors.com/wp-content/themes/tatamotors_2019/js/dev.js?ver=4.9.4\\'></script>\\n\\r\\n<style>\\r\\n    label.error, .errorMsg {color: #a00; font-family: \"uni_neuebook\"; font-size: 16px;}\\r\\n</style>\\r\\n<script>\\r\\n\\r\\nfunction getParamValuesByName (querystring) {\\r\\n  var qstring = window.location.href.slice(window.location.href.indexOf(\\'?\\') + 1).split(\\'&\\');\\r\\n  for (var i = 0; i < qstring.length; i++) {\\r\\n    var urlparam = qstring[i].split(\\'=\\');\\r\\n    if (urlparam[0] == querystring) {\\r\\n       return urlparam[1];\\r\\n    }\\r\\n  }\\r\\n}\\r\\n\\r\\n\\r\\n\\r\\n\\r\\n\\r\\n$(function() {\\r\\n\\t\\r\\nvar uid = getParamValuesByName(\\'val\\');\\r\\n\\r\\nif(uid==\\'media\\'){\\r\\n\\t$(\\'div.tab div.tablinks\\').removeClass(\\'active\\');\\r\\n\\t$(\\'div.tab div.tablinks:nth-child(2)\\').addClass(\\'active\\');\\r\\n\\t$(\\'.tabcontent\\').hide();\\r\\n\\t$(\\'#Media_Address\\').show();\\r\\n\\t}\\r\\n\\r\\n\\r\\n\\r\\n\\r\\n    $.validator.methods.email = function( value, element ) {\\r\\n        return this.optional( element ) || /[a-zA-Z0-9._%+-]+@[a-zA-Z0-9.-]+\\\\.[a-z]{2,3}$/.test( value );\\r\\n    }\\r\\n    \\r\\n    $(\\'#contactUsForm\\').validate({\\r\\n        rules: {\\r\\n            txtQueryType: {required: true},\\r\\n            txtQuery: {required: true},\\r\\n\\t\\t\\ttxtPin: {required: true},\\r\\n\\t\\t\\ttxtFirstName: {required: true},\\r\\n\\t\\t\\ttxtEmail: {required: true},\\r\\n            captcha_ver_code: {required: true},\\r\\n        },\\r\\n        messages: {\\r\\n\\t\\t\\ttxtQueryType:{ required: \"Select query type\" },\\r\\n            txtQuery: {required: \"Enter your query\",},\\r\\n            txtPin: {required: \"Enter zip code\",},\\r\\n\\t\\t\\ttxtFirstName: {required: \"Enter first name\",},\\r\\n\\t\\t\\ttxtEmail: {\\r\\n                required: \"Enter your email address\",\\r\\n                email: \"Enter a valid email address\",\\r\\n            },\\r\\n            captcha_ver_code: {required: \"Enter captcha text as it shown\"}\\r\\n        },\\r\\n        submitHandler: function(form) {\\r\\n            contact_us_form_submit(form);\\r\\n        }\\r\\n    });\\r\\n});\\r\\n$(\\'#changeCaptcha\\').click(function() {\\r\\n    fnChangeCaptcha();\\r\\n});\\r\\n</script>\\r\\n\\r\\n<script type=\"text/javascript\">\\r\\n\\r\\n$(function(){\\r\\n\\r\\nvar cboxOptions = {\\r\\n  inline:true,\\r\\n  width: \\'100%\\',\\r\\n  height: \\'100%\\',\\r\\n  className: \\'join_popup\\',\\r\\n   onLoad: function() {\\r\\n\\tfnChangeCaptcha();\\r\\n  },\\r\\n  onClosed: function() {\\r\\n\\twindow.location.href = window.location.href;\\r\\n\\t}\\r\\n  //maxWidth: \\'950px\\',\\r\\n // maxHeight: 600,\\r\\n}\\r\\n var cboxOptions2 = {\\r\\n  iframe:false,\\r\\n  width: \\'100%\\',\\r\\n   height: \\'100%\\',\\r\\n   className: \\'join_popup\\',\\r\\n  //maxWidth: \\'600px\\',\\r\\n  scrolling:$(window).width()>1024 ? false : true,\\r\\n  fixed:true\\r\\n}\\r\\n\\r\\n$(\\'.colorboxImg\\').colorbox({rel:\\'colorboxImg\\'});\\r\\n$(\\'.colorboxImg\\').colorbox(cboxOptions2);\\r\\n$(\\'.contactquery_pop\\').colorbox(cboxOptions);\\r\\n$(\\'.subsblog_pop\\').colorbox(cboxOptions);\\r\\n\\r\\n$(window).resize(function(){\\r\\n  $.colorbox.resize({\\r\\n    width: window.innerWidth > parseInt(cboxOptions.maxWidth) ? cboxOptions.maxWidth : cboxOptions.width,\\r\\n    width: window.innerWidth > parseInt(cboxOptions2.maxWidth) ? cboxOptions2.maxWidth : cboxOptions2.width\\r\\n  });\\r\\n}); \\r\\n\\r\\n\\t$(document).bind(\\'cbox_open\\', function() {\\r\\n  $(\\'body,html\\').addClass(\"noScrollSimple\");\\r\\n}).bind(\\'cbox_cleanup\\', function() {\\r\\n  $(\\'body,html\\').removeClass(\"noScrollSimple\");\\r\\n});\\r\\n\\r\\n\\r\\n\\r\\n\\r\\n\\r\\n}); \\r\\n</script>\\r\\n\\r\\n</body>\\r\\n</html>'"
      ]
     },
     "execution_count": 41,
     "metadata": {},
     "output_type": "execute_result"
    }
   ],
   "source": [
    "content"
   ]
  },
  {
   "cell_type": "code",
   "execution_count": 42,
   "metadata": {},
   "outputs": [
    {
     "data": {
      "text/plain": [
       "['0124-2828904',\n",
       " '0124-2828900',\n",
       " '033-66027502',\n",
       " '022-67927055',\n",
       " '080-66373598',\n",
       " '022 - 62407101',\n",
       " '022 - 67927272',\n",
       " '020 - 67168700',\n",
       " '079 - 67772712',\n",
       " '0124-2828900',\n",
       " '0522-6668600',\n",
       " '044 - 66500900',\n",
       " '0484 - 6601400',\n",
       " '033 - 66027400',\n",
       " '0651 - 6560119',\n",
       " '0361 - 2237756',\n",
       " '0674 - 6626100',\n",
       " '080- 25320321',\n",
       " '080-25580019',\n",
       " '0657 - 2426616',\n",
       " '0657 - 2426937',\n",
       " '033 - 22883087',\n",
       " '033 - 22883062',\n",
       " '011 - 23271805',\n",
       " '011 - 23271802']"
      ]
     },
     "execution_count": 42,
     "metadata": {},
     "output_type": "execute_result"
    }
   ],
   "source": [
    "pattern = re.compile(r\"(\\d{3,4}\\s?[-]?\\s?\\d{7,8})\")\n",
    "pattern.findall(content)"
   ]
  },
  {
   "cell_type": "code",
   "execution_count": 43,
   "metadata": {},
   "outputs": [
    {
     "data": {
      "text/plain": [
       "['https://www.tatamotors.com',\n",
       " 'https://www.tatamotors.com',\n",
       " 'https://www.tatamotors.com',\n",
       " 'https://www.tatamotors.com',\n",
       " 'https://www.tatamotors.com',\n",
       " 'https://www.tatamotors.com',\n",
       " 'https://www.tatamotors.com',\n",
       " 'https://www.tatamotors.com',\n",
       " 'https://www.tatamotors.com',\n",
       " 'https://www.tatamotors.com',\n",
       " 'https://www.tatamotors.com',\n",
       " 'https://www.tatamotors.com',\n",
       " 'https://www.tatamotors.com',\n",
       " 'http://www.tata.com',\n",
       " 'https://www.tatamotors.com',\n",
       " 'https://www.tatamotors.com',\n",
       " 'https://www.tatamotors.com',\n",
       " 'https://www.tatamotors.com',\n",
       " 'http://www.tatamotors.com',\n",
       " 'https://www.tatamotors.com',\n",
       " 'https://www.tatamotors.com',\n",
       " 'https://www.tatamotors.com',\n",
       " 'https://www.tatamotors.com',\n",
       " 'https://www.tatamotors.com',\n",
       " 'https://www.tatamotors.com',\n",
       " 'https://www.tatamotors.com',\n",
       " 'https://www.tatamotors.com',\n",
       " 'https://www.tatamotors.com',\n",
       " 'http://www.tatamotors.com',\n",
       " 'https://www.tatamotors.com',\n",
       " 'https://www.tatamotors.com',\n",
       " 'https://www.tatamotors.com',\n",
       " 'https://www.tatamotors.com',\n",
       " 'https://www.tatamotors.com',\n",
       " 'http://www.tatamotors.com',\n",
       " 'https://www.tatamotors.com',\n",
       " 'https://www.tatamotors.com',\n",
       " 'http://www.tatamotors.com',\n",
       " 'https://www.tatamotors.com',\n",
       " 'http://www.tatamotors.com',\n",
       " 'https://www.tatamotors.com',\n",
       " 'https://www.tatamotors.com',\n",
       " 'https://www.tatamotors.com',\n",
       " 'http://www.tatamotors.com',\n",
       " 'https://www.tatamotors.com',\n",
       " 'http://www.tatamotors.com',\n",
       " 'https://www.tatamotors.com',\n",
       " 'http://www.tatamotors.com',\n",
       " 'https://www.tatamotors.com',\n",
       " 'http://www.tatamotors.com',\n",
       " 'https://www.tatamotors.com',\n",
       " 'https://www.tatamotors.com',\n",
       " 'https://www.tatamotors.com',\n",
       " 'https://www.tatamotors.com',\n",
       " 'http://me.tatamotors.com',\n",
       " 'https://www.tatamotors.com',\n",
       " 'http://me.tatamotors.com',\n",
       " 'https://www.tatamotors.com',\n",
       " 'http://me.tatamotors.com',\n",
       " 'https://www.tatamotors.com',\n",
       " 'http://me.tatamotors.com',\n",
       " 'https://www.tatamotors.com',\n",
       " 'http://me.tatamotors.com',\n",
       " 'https://www.tatamotors.com',\n",
       " 'http://me.tatamotors.com',\n",
       " 'https://www.tatamotors.com',\n",
       " 'http://www.tatamotors.com',\n",
       " 'https://www.tatamotors.com',\n",
       " 'http://www.tata.com',\n",
       " 'https://www.tatamotors.com',\n",
       " 'https://www.tatamotors.com',\n",
       " 'https://www.tatamotors.com',\n",
       " 'https://www.tatamotors.com',\n",
       " 'https://www.tatamotors.com',\n",
       " 'https://www.tatamotors.com',\n",
       " 'https://www.tatamotors.com',\n",
       " 'https://www.tatamotors.com',\n",
       " 'https://careers.tatamotors.com',\n",
       " 'https://www.tatamotors.com',\n",
       " 'https://www.tatamotors.com',\n",
       " 'https://www.tatamotors.com',\n",
       " 'https://www.tatamotors.com',\n",
       " 'https://www.tatamotors.com',\n",
       " 'https://www.tatamotors.com',\n",
       " 'https://www.tatamotors.com',\n",
       " 'https://www.tatamotors.com',\n",
       " 'https://www.tatamotors.com',\n",
       " 'http://dealerlocator.tatamotors.com',\n",
       " 'http://dealerlocator.tatamotors.com',\n",
       " 'http://dealerlocator.tatamotors.com',\n",
       " 'http://www.tsrdarashaw.com',\n",
       " 'https://www.vistraitcl.com',\n",
       " 'https://www.vistraitcl.com',\n",
       " 'https://www.tatamotors.com',\n",
       " 'https://www.tatamotors.com',\n",
       " 'https://twitter.com',\n",
       " 'https://www.linkedin.com/com',\n",
       " 'https://www.linkedin.com/com',\n",
       " 'https://www.facebook.com',\n",
       " 'https://www.youtube.com',\n",
       " 'https://instagram.com',\n",
       " 'https://www.tatamotors.com',\n",
       " 'https://www.tatamotors.com',\n",
       " 'https://www.tatamotors.com',\n",
       " 'http://dealerlocator.tatamotors.com',\n",
       " 'https://www.tatamotors.com',\n",
       " 'https://www.tatamotors.com',\n",
       " 'https://www.tatamotors.com',\n",
       " 'https://www.tatamotors.com',\n",
       " 'https://www.tatamotors.com',\n",
       " 'https://www.tatamotors.com',\n",
       " 'https://www.tatamotors.com',\n",
       " 'https://www.tatamotors.com',\n",
       " 'https://www.tatamotors.com',\n",
       " 'https://www.tatamotors.com',\n",
       " 'https://www.tatamotors.com',\n",
       " 'https://www.tatamotors.com',\n",
       " 'https://www.tatamotors.com']"
      ]
     },
     "execution_count": 43,
     "metadata": {},
     "output_type": "execute_result"
    }
   ],
   "source": [
    "pattern = re.compile(r\"(http[s]?://[\\w.]+.com)\")\n",
    "pattern.findall(content)"
   ]
  },
  {
   "cell_type": "code",
   "execution_count": 44,
   "metadata": {},
   "outputs": [
    {
     "data": {
      "text/plain": [
       "['itclcomplianceofficer@vistra.com',\n",
       " 'itclcomplianceofficer@vistra.com',\n",
       " 'example@example.com',\n",
       " 'example@example.com']"
      ]
     },
     "execution_count": 44,
     "metadata": {},
     "output_type": "execute_result"
    }
   ],
   "source": [
    "pattern = re.compile(r\"([\\w.]+@[\\w.]+.com)\")\n",
    "pattern.findall(content)"
   ]
  },
  {
   "cell_type": "code",
   "execution_count": null,
   "metadata": {},
   "outputs": [],
   "source": []
  }
 ],
 "metadata": {
  "kernelspec": {
   "display_name": "Python 3",
   "language": "python",
   "name": "python3"
  },
  "language_info": {
   "codemirror_mode": {
    "name": "ipython",
    "version": 3
   },
   "file_extension": ".py",
   "mimetype": "text/x-python",
   "name": "python",
   "nbconvert_exporter": "python",
   "pygments_lexer": "ipython3",
   "version": "3.7.3"
  }
 },
 "nbformat": 4,
 "nbformat_minor": 2
}
