{
 "cells": [
  {
   "cell_type": "code",
   "execution_count": 1,
   "metadata": {},
   "outputs": [],
   "source": [
    "import os\n",
    "import shutil"
   ]
  },
  {
   "cell_type": "code",
   "execution_count": 2,
   "metadata": {},
   "outputs": [
    {
     "ename": "NameError",
     "evalue": "name '__file__' is not defined",
     "output_type": "error",
     "traceback": [
      "\u001b[0;31m---------------------------------------------------------------------------\u001b[0m",
      "\u001b[0;31mNameError\u001b[0m                                 Traceback (most recent call last)",
      "\u001b[0;32m<ipython-input-2-63e47dd8117b>\u001b[0m in \u001b[0;36m<module>\u001b[0;34m()\u001b[0m\n\u001b[0;32m----> 1\u001b[0;31m \u001b[0mos\u001b[0m\u001b[0;34m.\u001b[0m\u001b[0mpath\u001b[0m\u001b[0;34m.\u001b[0m\u001b[0mbasename\u001b[0m\u001b[0;34m(\u001b[0m\u001b[0m__file__\u001b[0m\u001b[0;34m)\u001b[0m \u001b[0;31m# Does not work in interactive mode\u001b[0m\u001b[0;34m\u001b[0m\u001b[0;34m\u001b[0m\u001b[0m\n\u001b[0m",
      "\u001b[0;31mNameError\u001b[0m: name '__file__' is not defined"
     ]
    }
   ],
   "source": [
    "os.path.basename(__file__) # Does not work in interactive mode"
   ]
  },
  {
   "cell_type": "code",
   "execution_count": 3,
   "metadata": {},
   "outputs": [],
   "source": [
    "path = \"/data\""
   ]
  },
  {
   "cell_type": "code",
   "execution_count": 4,
   "metadata": {},
   "outputs": [
    {
     "data": {
      "text/plain": [
       "True"
      ]
     },
     "execution_count": 4,
     "metadata": {},
     "output_type": "execute_result"
    }
   ],
   "source": [
    "os.path.exists(path)"
   ]
  },
  {
   "cell_type": "code",
   "execution_count": 5,
   "metadata": {},
   "outputs": [
    {
     "data": {
      "text/plain": [
       "False"
      ]
     },
     "execution_count": 5,
     "metadata": {},
     "output_type": "execute_result"
    }
   ],
   "source": [
    "os.path.exists(\"/data-does-not-exist\")"
   ]
  },
  {
   "cell_type": "code",
   "execution_count": 6,
   "metadata": {},
   "outputs": [
    {
     "data": {
      "text/plain": [
       "'/data/stocks.csv'"
      ]
     },
     "execution_count": 6,
     "metadata": {},
     "output_type": "execute_result"
    }
   ],
   "source": [
    "os.path.join(path, \"stocks.csv\")"
   ]
  },
  {
   "cell_type": "code",
   "execution_count": 7,
   "metadata": {},
   "outputs": [
    {
     "data": {
      "text/plain": [
       "False"
      ]
     },
     "execution_count": 7,
     "metadata": {},
     "output_type": "execute_result"
    }
   ],
   "source": [
    "os.path.isfile(path)"
   ]
  },
  {
   "cell_type": "code",
   "execution_count": 8,
   "metadata": {},
   "outputs": [
    {
     "data": {
      "text/plain": [
       "True"
      ]
     },
     "execution_count": 8,
     "metadata": {},
     "output_type": "execute_result"
    }
   ],
   "source": [
    "os.path.isdir(path)"
   ]
  },
  {
   "cell_type": "code",
   "execution_count": 50,
   "metadata": {},
   "outputs": [
    {
     "data": {
      "text/plain": [
       "['MNIST',\n",
       " 'Combined_Cycle_Power_Plant.csv',\n",
       " 'housing.csv',\n",
       " 'stockmarket',\n",
       " 'jars',\n",
       " 'names',\n",
       " '.DS_Store',\n",
       " 'kaggle',\n",
       " 'cornell_movie_quotes_corpus',\n",
       " 'cifar-10-batches-py',\n",
       " 'diamonds.csv',\n",
       " 'CCPP',\n",
       " 'healthy.csv',\n",
       " 'insurance.csv',\n",
       " 'airline-passengers.csv',\n",
       " 'tumor.csv',\n",
       " 'bank-full.csv',\n",
       " 'Online Retail.xlsx',\n",
       " 'weblogs',\n",
       " 'credit-default.csv',\n",
       " 'toxic_comments',\n",
       " 'bird_tracking.csv',\n",
       " 'stocks.csv.zip',\n",
       " 'iris.csv',\n",
       " 'churn-bigml-20.csv',\n",
       " 'bitcoin.csv',\n",
       " 'snsdata.csv',\n",
       " 'HAR',\n",
       " 'stocks.small.csv',\n",
       " 'flights.csv',\n",
       " 'lena512.bmp',\n",
       " 'SP500.csv',\n",
       " 'imdb-comments.json',\n",
       " 'churn-bigml-80.csv',\n",
       " 'startups.csv',\n",
       " 'kddcup.data',\n",
       " 'gdp.csv',\n",
       " 'mobile-sales-data.csv',\n",
       " 'handsigns',\n",
       " 'sms.csv',\n",
       " 'creditcard-fraud.csv.gz',\n",
       " 'stocks.csv',\n",
       " 'movielens']"
      ]
     },
     "execution_count": 50,
     "metadata": {},
     "output_type": "execute_result"
    }
   ],
   "source": [
    "os.listdir(path)"
   ]
  },
  {
   "cell_type": "code",
   "execution_count": 9,
   "metadata": {},
   "outputs": [
    {
     "data": {
      "text/plain": [
       "<generator object walk at 0x10780df48>"
      ]
     },
     "execution_count": 9,
     "metadata": {},
     "output_type": "execute_result"
    }
   ],
   "source": [
    "os.walk(path)"
   ]
  },
  {
   "cell_type": "code",
   "execution_count": 51,
   "metadata": {},
   "outputs": [
    {
     "name": "stdout",
     "output_type": "stream",
     "text": [
      "/data 13 30\n",
      "/data/MNIST 0 3\n",
      "/data/stockmarket 0 3\n",
      "/data/jars 0 3\n",
      "/data/names 0 84\n",
      "/data/kaggle 3 3\n",
      "/data/kaggle/nyc-taxi 0 1\n",
      "/data/kaggle/evergreen 1 6\n",
      "/data/kaggle/evergreen/raw_content 0 10566\n",
      "/data/kaggle/Merchant Category Recommendation 0 8\n",
      "/data/cornell_movie_quotes_corpus 0 4\n",
      "/data/cifar-10-batches-py 0 8\n",
      "/data/CCPP 0 2\n",
      "/data/weblogs 1 7\n",
      "/data/weblogs/tmp 0 7\n",
      "/data/toxic_comments 0 3\n",
      "/data/HAR 1 2\n",
      "/data/HAR/UCI HAR Dataset 2 5\n",
      "/data/HAR/UCI HAR Dataset/test 1 3\n",
      "/data/HAR/UCI HAR Dataset/test/Inertial Signals 0 9\n",
      "/data/HAR/UCI HAR Dataset/train 1 3\n",
      "/data/HAR/UCI HAR Dataset/train/Inertial Signals 0 9\n",
      "/data/handsigns 0 2\n",
      "/data/movielens 0 5\n"
     ]
    }
   ],
   "source": [
    "for dir_path, dirs, files in os.walk(path):\n",
    "    print(dir_path, len(dirs), len(files))"
   ]
  },
  {
   "cell_type": "code",
   "execution_count": 52,
   "metadata": {},
   "outputs": [
    {
     "data": {
      "text/plain": [
       "[('/data/MNIST/', [], ['.DS_Store', 'mnist_train.csv', 'mnist_test.csv'])]"
      ]
     },
     "execution_count": 52,
     "metadata": {},
     "output_type": "execute_result"
    }
   ],
   "source": [
    "list(os.walk(\"/data/MNIST/\"))"
   ]
  },
  {
   "cell_type": "code",
   "execution_count": 54,
   "metadata": {},
   "outputs": [],
   "source": [
    "import shutil"
   ]
  },
  {
   "cell_type": "code",
   "execution_count": 53,
   "metadata": {},
   "outputs": [
    {
     "data": {
      "text/plain": [
       "usage(total=499963174912, used=195499147264, free=302674345984)"
      ]
     },
     "execution_count": 53,
     "metadata": {},
     "output_type": "execute_result"
    }
   ],
   "source": [
    "shutil.disk_usage(\"/\")"
   ]
  },
  {
   "cell_type": "code",
   "execution_count": 21,
   "metadata": {},
   "outputs": [],
   "source": [
    "shutil.rmtree(\"/tmp/abul-test\")"
   ]
  },
  {
   "cell_type": "code",
   "execution_count": 22,
   "metadata": {},
   "outputs": [
    {
     "data": {
      "text/plain": [
       "'/tmp/abul-test'"
      ]
     },
     "execution_count": 22,
     "metadata": {},
     "output_type": "execute_result"
    }
   ],
   "source": [
    "shutil.copytree(path, \"/tmp/abul-test\")"
   ]
  },
  {
   "cell_type": "code",
   "execution_count": 35,
   "metadata": {},
   "outputs": [],
   "source": [
    "from glob import glob\n",
    "from pathlib import Path"
   ]
  },
  {
   "cell_type": "code",
   "execution_count": 55,
   "metadata": {},
   "outputs": [
    {
     "data": {
      "text/plain": [
       "PosixPath('/Users/abasar')"
      ]
     },
     "execution_count": 55,
     "metadata": {},
     "output_type": "execute_result"
    }
   ],
   "source": [
    "Path.home()"
   ]
  },
  {
   "cell_type": "code",
   "execution_count": 45,
   "metadata": {},
   "outputs": [
    {
     "name": "stdout",
     "output_type": "stream",
     "text": [
      "/data/Combined_Cycle_Power_Plant.csv False True\n",
      "/data/housing.csv False True\n",
      "/data/diamonds.csv False True\n",
      "/data/healthy.csv False True\n",
      "/data/insurance.csv False True\n",
      "/data/airline-passengers.csv False True\n",
      "/data/tumor.csv False True\n",
      "/data/bank-full.csv False True\n",
      "/data/credit-default.csv False True\n",
      "/data/bird_tracking.csv False True\n",
      "/data/iris.csv False True\n",
      "/data/churn-bigml-20.csv False True\n",
      "/data/bitcoin.csv False True\n",
      "/data/snsdata.csv False True\n",
      "/data/stocks.small.csv False True\n",
      "/data/flights.csv False True\n",
      "/data/SP500.csv False True\n",
      "/data/churn-bigml-80.csv False True\n",
      "/data/startups.csv False True\n",
      "/data/gdp.csv False True\n",
      "/data/mobile-sales-data.csv False True\n",
      "/data/sms.csv False True\n",
      "/data/stocks.csv False True\n",
      "/data/MNIST/mnist_train.csv False True\n",
      "/data/MNIST/mnist_test.csv False True\n",
      "/data/stockmarket/amex.csv False True\n",
      "/data/stockmarket/nyse.csv False True\n",
      "/data/stockmarket/nasdaq.csv False True\n",
      "/data/kaggle/data_combined_cleaned.csv False True\n",
      "/data/kaggle/evergreen/sampleSubmission.csv False True\n",
      "/data/kaggle/Merchant Category Recommendation/new_merchant_transactions.csv False True\n",
      "/data/kaggle/Merchant Category Recommendation/test.csv False True\n",
      "/data/kaggle/Merchant Category Recommendation/merchants.csv False True\n",
      "/data/kaggle/Merchant Category Recommendation/historical_transactions.csv False True\n",
      "/data/kaggle/Merchant Category Recommendation/train.csv False True\n",
      "/data/kaggle/Merchant Category Recommendation/sample_submission.csv False True\n",
      "/data/movielens/links.csv False True\n",
      "/data/movielens/tags.csv False True\n",
      "/data/movielens/ratings.csv False True\n",
      "/data/movielens/movies.csv False True\n"
     ]
    }
   ],
   "source": [
    "for fname in Path(path).glob(\"**/*.csv\"):\n",
    "    print(str(fname), fname.is_dir(), fname.is_file())"
   ]
  },
  {
   "cell_type": "code",
   "execution_count": 10,
   "metadata": {},
   "outputs": [],
   "source": [
    "import hashlib"
   ]
  },
  {
   "cell_type": "code",
   "execution_count": 11,
   "metadata": {},
   "outputs": [],
   "source": [
    "def file_md5(fname):\n",
    "    hash_md5 = hashlib.md5()\n",
    "    with open(fname, \"rb\") as f:\n",
    "        for chunk in iter(lambda: f.read(4096), b\"\"):\n",
    "            hash_md5.update(chunk)\n",
    "    return hash_md5.hexdigest()"
   ]
  },
  {
   "cell_type": "code",
   "execution_count": 23,
   "metadata": {},
   "outputs": [
    {
     "data": {
      "text/plain": [
       "'93a9a02e4d8cdca66764aa4c936d3636'"
      ]
     },
     "execution_count": 23,
     "metadata": {},
     "output_type": "execute_result"
    }
   ],
   "source": [
    "file_md5(\"/data/movielens/movies.csv\")"
   ]
  },
  {
   "cell_type": "code",
   "execution_count": 33,
   "metadata": {},
   "outputs": [
    {
     "data": {
      "text/plain": [
       "'e8aa4b0eed309bd8e4e14bc35ca7bed0'"
      ]
     },
     "execution_count": 33,
     "metadata": {},
     "output_type": "execute_result"
    }
   ],
   "source": [
    "file_md5(\"/data/movielens/movies.csv\")"
   ]
  },
  {
   "cell_type": "code",
   "execution_count": 34,
   "metadata": {},
   "outputs": [
    {
     "data": {
      "text/plain": [
       "'e8aa4b0eed309bd8e4e14bc35ca7bed0'"
      ]
     },
     "execution_count": 34,
     "metadata": {},
     "output_type": "execute_result"
    }
   ],
   "source": [
    "file_md5(\"/data/movielens/movies.csv\")"
   ]
  },
  {
   "cell_type": "code",
   "execution_count": 26,
   "metadata": {},
   "outputs": [
    {
     "data": {
      "text/plain": [
       "32"
      ]
     },
     "execution_count": 26,
     "metadata": {},
     "output_type": "execute_result"
    }
   ],
   "source": [
    "len('93a9a02e4d8cdca66764aa4c936d3636')"
   ]
  },
  {
   "cell_type": "code",
   "execution_count": 35,
   "metadata": {},
   "outputs": [],
   "source": [
    "source_dir = \"/private/tmp/source\"\n",
    "target_dir = \"/private/tmp/target\""
   ]
  },
  {
   "cell_type": "code",
   "execution_count": 45,
   "metadata": {},
   "outputs": [],
   "source": [
    "import json \n",
    "class FileMetaData:\n",
    "    path = None\n",
    "    size = None\n",
    "    modified_time = None\n",
    "    write_time = None\n",
    "    md5_hash = None\n",
    "    \n",
    "    def __repr__(self):\n",
    "        return json.dumps(self.__dict__)\n",
    "    "
   ]
  },
  {
   "cell_type": "code",
   "execution_count": 53,
   "metadata": {},
   "outputs": [],
   "source": [
    "\n",
    "\n",
    "def get_file_metadata(dir_name):\n",
    "    source_files = {}\n",
    "    for fname in os.listdir(dir_name):\n",
    "        source_path = os.path.join(dir_name, fname)\n",
    "        meta = FileMetaData()\n",
    "        meta.path = source_path\n",
    "        meta.modified_time = os.path.getmtime(source_path)\n",
    "        meta.write_time = os.path.getctime(source_path)\n",
    "        meta.file_size = os.stat(source_path).st_size\n",
    "        meta.md5_hash = file_md5(source_path)\n",
    "        source_files[fname] = meta\n",
    "\n",
    "    return source_files\n",
    "\n"
   ]
  },
  {
   "cell_type": "code",
   "execution_count": 54,
   "metadata": {},
   "outputs": [
    {
     "data": {
      "text/plain": [
       "{'links.csv': {\"path\": \"/private/tmp/source/links.csv\", \"modified_time\": 1476682968.0, \"write_time\": 1564557762.9024959, \"file_size\": 183372, \"md5_hash\": \"917eddf52079d6ce5c6cfd63b17515f7\"},\n",
       " '.DS_Store': {\"path\": \"/private/tmp/source/.DS_Store\", \"modified_time\": 1526292413.0, \"write_time\": 1564557762.902914, \"file_size\": 6148, \"md5_hash\": \"194577a7e20bdcc7afbb718f502c134c\"},\n",
       " 'tags.csv': {\"path\": \"/private/tmp/source/tags.csv\", \"modified_time\": 1476682948.0, \"write_time\": 1564557762.9032755, \"file_size\": 41902, \"md5_hash\": \"ad39013860cfa6f3e5910a23185262aa\"},\n",
       " 'ratings.csv': {\"path\": \"/private/tmp/source/ratings.csv\", \"modified_time\": 1476682948.0, \"write_time\": 1564557762.9036362, \"file_size\": 2438266, \"md5_hash\": \"8864480f98416ccecaf17aa5263bbea1\"},\n",
       " 'movies.csv': {\"path\": \"/private/tmp/source/movies.csv\", \"modified_time\": 1564556337.3933392, \"write_time\": 1564557762.9040146, \"file_size\": 458392, \"md5_hash\": \"e8aa4b0eed309bd8e4e14bc35ca7bed0\"}}"
      ]
     },
     "execution_count": 54,
     "metadata": {},
     "output_type": "execute_result"
    }
   ],
   "source": [
    "source_files = get_file_metadata(source_dir)\n",
    "target_files = get_file_metadata(target_dir)\n",
    "source_files"
   ]
  },
  {
   "cell_type": "code",
   "execution_count": 60,
   "metadata": {},
   "outputs": [
    {
     "name": "stdout",
     "output_type": "stream",
     "text": [
      "tags.csv\n"
     ]
    }
   ],
   "source": [
    "source_files = get_file_metadata(source_dir)\n",
    "target_files = get_file_metadata(target_dir)\n",
    "\n",
    "for fname in source_files:\n",
    "    source_hash = source_files[fname].md5_hash\n",
    "    target_meta = target_files.get(fname)\n",
    "    target_hash = None\n",
    "    if target_meta is not None:\n",
    "        target_hash = target_meta.md5_hash\n",
    "    if not source_hash == target_hash:\n",
    "        print(fname)"
   ]
  },
  {
   "cell_type": "code",
   "execution_count": null,
   "metadata": {},
   "outputs": [],
   "source": []
  }
 ],
 "metadata": {
  "kernelspec": {
   "display_name": "Python 3",
   "language": "python",
   "name": "python3"
  },
  "language_info": {
   "codemirror_mode": {
    "name": "ipython",
    "version": 3
   },
   "file_extension": ".py",
   "mimetype": "text/x-python",
   "name": "python",
   "nbconvert_exporter": "python",
   "pygments_lexer": "ipython3",
   "version": "3.7.3"
  }
 },
 "nbformat": 4,
 "nbformat_minor": 2
}
