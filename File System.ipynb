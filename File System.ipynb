{
 "cells": [
  {
   "cell_type": "code",
   "execution_count": 11,
   "metadata": {},
   "outputs": [],
   "source": [
    "import os\n",
    "import shutil"
   ]
  },
  {
   "cell_type": "code",
   "execution_count": 64,
   "metadata": {},
   "outputs": [
    {
     "ename": "NameError",
     "evalue": "name '__file__' is not defined",
     "output_type": "error",
     "traceback": [
      "\u001b[0;31m---------------------------------------------------------------------------\u001b[0m",
      "\u001b[0;31mNameError\u001b[0m                                 Traceback (most recent call last)",
      "\u001b[0;32m<ipython-input-64-63e47dd8117b>\u001b[0m in \u001b[0;36m<module>\u001b[0;34m()\u001b[0m\n\u001b[0;32m----> 1\u001b[0;31m \u001b[0mos\u001b[0m\u001b[0;34m.\u001b[0m\u001b[0mpath\u001b[0m\u001b[0;34m.\u001b[0m\u001b[0mbasename\u001b[0m\u001b[0;34m(\u001b[0m\u001b[0m__file__\u001b[0m\u001b[0;34m)\u001b[0m \u001b[0;31m# Does not work in interactive mode\u001b[0m\u001b[0;34m\u001b[0m\u001b[0;34m\u001b[0m\u001b[0m\n\u001b[0m",
      "\u001b[0;31mNameError\u001b[0m: name '__file__' is not defined"
     ]
    }
   ],
   "source": [
    "os.path.basename(__file__) # Does not work in interactive mode"
   ]
  },
  {
   "cell_type": "code",
   "execution_count": 24,
   "metadata": {},
   "outputs": [
    {
     "data": {
      "text/plain": [
       "'/Users/abasar/workspaces/python'"
      ]
     },
     "execution_count": 24,
     "metadata": {},
     "output_type": "execute_result"
    }
   ],
   "source": [
    "os.path.dirname(os.path.dirname(os.path.abspath(__name__)))\n"
   ]
  },
  {
   "cell_type": "code",
   "execution_count": 15,
   "metadata": {},
   "outputs": [],
   "source": [
    "path = \"/data\""
   ]
  },
  {
   "cell_type": "code",
   "execution_count": 46,
   "metadata": {},
   "outputs": [
    {
     "data": {
      "text/plain": [
       "True"
      ]
     },
     "execution_count": 46,
     "metadata": {},
     "output_type": "execute_result"
    }
   ],
   "source": [
    "os.path.exists(path)"
   ]
  },
  {
   "cell_type": "code",
   "execution_count": 66,
   "metadata": {},
   "outputs": [
    {
     "data": {
      "text/plain": [
       "'/data/stocks.csv'"
      ]
     },
     "execution_count": 66,
     "metadata": {},
     "output_type": "execute_result"
    }
   ],
   "source": [
    "os.path.join(path, \"stocks.csv\")"
   ]
  },
  {
   "cell_type": "code",
   "execution_count": 48,
   "metadata": {},
   "outputs": [
    {
     "data": {
      "text/plain": [
       "False"
      ]
     },
     "execution_count": 48,
     "metadata": {},
     "output_type": "execute_result"
    }
   ],
   "source": [
    "os.path.isfile(path)"
   ]
  },
  {
   "cell_type": "code",
   "execution_count": 49,
   "metadata": {},
   "outputs": [
    {
     "data": {
      "text/plain": [
       "True"
      ]
     },
     "execution_count": 49,
     "metadata": {},
     "output_type": "execute_result"
    }
   ],
   "source": [
    "os.path.isdir(path)"
   ]
  },
  {
   "cell_type": "code",
   "execution_count": 50,
   "metadata": {},
   "outputs": [
    {
     "data": {
      "text/plain": [
       "['MNIST',\n",
       " 'Combined_Cycle_Power_Plant.csv',\n",
       " 'housing.csv',\n",
       " 'stockmarket',\n",
       " 'jars',\n",
       " 'names',\n",
       " '.DS_Store',\n",
       " 'kaggle',\n",
       " 'cornell_movie_quotes_corpus',\n",
       " 'cifar-10-batches-py',\n",
       " 'diamonds.csv',\n",
       " 'CCPP',\n",
       " 'healthy.csv',\n",
       " 'insurance.csv',\n",
       " 'airline-passengers.csv',\n",
       " 'tumor.csv',\n",
       " 'bank-full.csv',\n",
       " 'Online Retail.xlsx',\n",
       " 'weblogs',\n",
       " 'credit-default.csv',\n",
       " 'toxic_comments',\n",
       " 'bird_tracking.csv',\n",
       " 'stocks.csv.zip',\n",
       " 'iris.csv',\n",
       " 'churn-bigml-20.csv',\n",
       " 'bitcoin.csv',\n",
       " 'snsdata.csv',\n",
       " 'HAR',\n",
       " 'stocks.small.csv',\n",
       " 'flights.csv',\n",
       " 'lena512.bmp',\n",
       " 'SP500.csv',\n",
       " 'imdb-comments.json',\n",
       " 'churn-bigml-80.csv',\n",
       " 'startups.csv',\n",
       " 'kddcup.data',\n",
       " 'gdp.csv',\n",
       " 'mobile-sales-data.csv',\n",
       " 'handsigns',\n",
       " 'sms.csv',\n",
       " 'creditcard-fraud.csv.gz',\n",
       " 'stocks.csv',\n",
       " 'movielens']"
      ]
     },
     "execution_count": 50,
     "metadata": {},
     "output_type": "execute_result"
    }
   ],
   "source": [
    "os.listdir(path)"
   ]
  },
  {
   "cell_type": "code",
   "execution_count": 51,
   "metadata": {},
   "outputs": [
    {
     "name": "stdout",
     "output_type": "stream",
     "text": [
      "/data 13 30\n",
      "/data/MNIST 0 3\n",
      "/data/stockmarket 0 3\n",
      "/data/jars 0 3\n",
      "/data/names 0 84\n",
      "/data/kaggle 3 3\n",
      "/data/kaggle/nyc-taxi 0 1\n",
      "/data/kaggle/evergreen 1 6\n",
      "/data/kaggle/evergreen/raw_content 0 10566\n",
      "/data/kaggle/Merchant Category Recommendation 0 8\n",
      "/data/cornell_movie_quotes_corpus 0 4\n",
      "/data/cifar-10-batches-py 0 8\n",
      "/data/CCPP 0 2\n",
      "/data/weblogs 1 7\n",
      "/data/weblogs/tmp 0 7\n",
      "/data/toxic_comments 0 3\n",
      "/data/HAR 1 2\n",
      "/data/HAR/UCI HAR Dataset 2 5\n",
      "/data/HAR/UCI HAR Dataset/test 1 3\n",
      "/data/HAR/UCI HAR Dataset/test/Inertial Signals 0 9\n",
      "/data/HAR/UCI HAR Dataset/train 1 3\n",
      "/data/HAR/UCI HAR Dataset/train/Inertial Signals 0 9\n",
      "/data/handsigns 0 2\n",
      "/data/movielens 0 5\n"
     ]
    }
   ],
   "source": [
    "for dir_path, dirs, files in os.walk(path):\n",
    "    print(dir_path, len(dirs), len(files))"
   ]
  },
  {
   "cell_type": "code",
   "execution_count": 52,
   "metadata": {},
   "outputs": [
    {
     "data": {
      "text/plain": [
       "[('/data/MNIST/', [], ['.DS_Store', 'mnist_train.csv', 'mnist_test.csv'])]"
      ]
     },
     "execution_count": 52,
     "metadata": {},
     "output_type": "execute_result"
    }
   ],
   "source": [
    "list(os.walk(\"/data/MNIST/\"))"
   ]
  },
  {
   "cell_type": "code",
   "execution_count": 54,
   "metadata": {},
   "outputs": [],
   "source": [
    "import shutil"
   ]
  },
  {
   "cell_type": "code",
   "execution_count": 53,
   "metadata": {},
   "outputs": [
    {
     "data": {
      "text/plain": [
       "usage(total=499963174912, used=195499147264, free=302674345984)"
      ]
     },
     "execution_count": 53,
     "metadata": {},
     "output_type": "execute_result"
    }
   ],
   "source": [
    "shutil.disk_usage(\"/\")"
   ]
  },
  {
   "cell_type": "code",
   "execution_count": 21,
   "metadata": {},
   "outputs": [],
   "source": [
    "shutil.rmtree(\"/tmp/abul-test\")"
   ]
  },
  {
   "cell_type": "code",
   "execution_count": 22,
   "metadata": {},
   "outputs": [
    {
     "data": {
      "text/plain": [
       "'/tmp/abul-test'"
      ]
     },
     "execution_count": 22,
     "metadata": {},
     "output_type": "execute_result"
    }
   ],
   "source": [
    "shutil.copytree(path, \"/tmp/abul-test\")"
   ]
  },
  {
   "cell_type": "code",
   "execution_count": 35,
   "metadata": {},
   "outputs": [],
   "source": [
    "from glob import glob\n",
    "from pathlib import Path"
   ]
  },
  {
   "cell_type": "code",
   "execution_count": 55,
   "metadata": {},
   "outputs": [
    {
     "data": {
      "text/plain": [
       "PosixPath('/Users/abasar')"
      ]
     },
     "execution_count": 55,
     "metadata": {},
     "output_type": "execute_result"
    }
   ],
   "source": [
    "Path.home()"
   ]
  },
  {
   "cell_type": "code",
   "execution_count": 45,
   "metadata": {},
   "outputs": [
    {
     "name": "stdout",
     "output_type": "stream",
     "text": [
      "/data/Combined_Cycle_Power_Plant.csv False True\n",
      "/data/housing.csv False True\n",
      "/data/diamonds.csv False True\n",
      "/data/healthy.csv False True\n",
      "/data/insurance.csv False True\n",
      "/data/airline-passengers.csv False True\n",
      "/data/tumor.csv False True\n",
      "/data/bank-full.csv False True\n",
      "/data/credit-default.csv False True\n",
      "/data/bird_tracking.csv False True\n",
      "/data/iris.csv False True\n",
      "/data/churn-bigml-20.csv False True\n",
      "/data/bitcoin.csv False True\n",
      "/data/snsdata.csv False True\n",
      "/data/stocks.small.csv False True\n",
      "/data/flights.csv False True\n",
      "/data/SP500.csv False True\n",
      "/data/churn-bigml-80.csv False True\n",
      "/data/startups.csv False True\n",
      "/data/gdp.csv False True\n",
      "/data/mobile-sales-data.csv False True\n",
      "/data/sms.csv False True\n",
      "/data/stocks.csv False True\n",
      "/data/MNIST/mnist_train.csv False True\n",
      "/data/MNIST/mnist_test.csv False True\n",
      "/data/stockmarket/amex.csv False True\n",
      "/data/stockmarket/nyse.csv False True\n",
      "/data/stockmarket/nasdaq.csv False True\n",
      "/data/kaggle/data_combined_cleaned.csv False True\n",
      "/data/kaggle/evergreen/sampleSubmission.csv False True\n",
      "/data/kaggle/Merchant Category Recommendation/new_merchant_transactions.csv False True\n",
      "/data/kaggle/Merchant Category Recommendation/test.csv False True\n",
      "/data/kaggle/Merchant Category Recommendation/merchants.csv False True\n",
      "/data/kaggle/Merchant Category Recommendation/historical_transactions.csv False True\n",
      "/data/kaggle/Merchant Category Recommendation/train.csv False True\n",
      "/data/kaggle/Merchant Category Recommendation/sample_submission.csv False True\n",
      "/data/movielens/links.csv False True\n",
      "/data/movielens/tags.csv False True\n",
      "/data/movielens/ratings.csv False True\n",
      "/data/movielens/movies.csv False True\n"
     ]
    }
   ],
   "source": [
    "for fname in Path(path).glob(\"**/*.csv\"):\n",
    "    print(str(fname), fname.is_dir(), fname.is_file())"
   ]
  },
  {
   "cell_type": "code",
   "execution_count": 56,
   "metadata": {},
   "outputs": [],
   "source": [
    "import hashlib"
   ]
  },
  {
   "cell_type": "code",
   "execution_count": 58,
   "metadata": {},
   "outputs": [],
   "source": [
    "def file_md5(fname):\n",
    "    hash_md5 = hashlib.md5()\n",
    "    with open(fname, \"rb\") as f:\n",
    "        for chunk in iter(lambda: f.read(4096), b\"\"):\n",
    "            hash_md5.update(chunk)\n",
    "    return hash_md5.hexdigest()"
   ]
  },
  {
   "cell_type": "code",
   "execution_count": 59,
   "metadata": {},
   "outputs": [
    {
     "data": {
      "text/plain": [
       "'0509b8c989cd5efd1102ef50a51b20a8'"
      ]
     },
     "execution_count": 59,
     "metadata": {},
     "output_type": "execute_result"
    }
   ],
   "source": [
    "file_md5(\"/data/movielens/movies.csv\")"
   ]
  },
  {
   "cell_type": "code",
   "execution_count": 61,
   "metadata": {},
   "outputs": [
    {
     "data": {
      "text/plain": [
       "'93a9a02e4d8cdca66764aa4c936d3636'"
      ]
     },
     "execution_count": 61,
     "metadata": {},
     "output_type": "execute_result"
    }
   ],
   "source": [
    "file_md5(\"/data/movielens/movies.csv\")"
   ]
  },
  {
   "cell_type": "code",
   "execution_count": 62,
   "metadata": {},
   "outputs": [
    {
     "data": {
      "text/plain": [
       "32"
      ]
     },
     "execution_count": 62,
     "metadata": {},
     "output_type": "execute_result"
    }
   ],
   "source": [
    "len('93a9a02e4d8cdca66764aa4c936d3636')"
   ]
  },
  {
   "cell_type": "code",
   "execution_count": null,
   "metadata": {},
   "outputs": [],
   "source": []
  }
 ],
 "metadata": {
  "kernelspec": {
   "display_name": "Python 3",
   "language": "python",
   "name": "python3"
  },
  "language_info": {
   "codemirror_mode": {
    "name": "ipython",
    "version": 3
   },
   "file_extension": ".py",
   "mimetype": "text/x-python",
   "name": "python",
   "nbconvert_exporter": "python",
   "pygments_lexer": "ipython3",
   "version": "3.7.3"
  }
 },
 "nbformat": 4,
 "nbformat_minor": 2
}
