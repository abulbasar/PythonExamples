{
 "cells": [
  {
   "cell_type": "markdown",
   "metadata": {},
   "source": [
    "# Salesforce API\n",
    "\n",
    "- Documentation - https://developer.salesforce.com/docs/atlas.en-us.api_rest.meta/api_rest/dome_sobject_create.htm\n",
    "- Sign up for developer account: https://developer.salesforce.com/signup?d=70130000000td6N"
   ]
  },
  {
   "cell_type": "code",
   "execution_count": 1,
   "metadata": {},
   "outputs": [],
   "source": [
    "import requests\n",
    "from login import login, DEFAULT_API_VERSION"
   ]
  },
  {
   "cell_type": "code",
   "execution_count": 3,
   "metadata": {},
   "outputs": [
    {
     "data": {
      "text/plain": [
       "('00D28000000U6uh!ARUAQPUu5k8_fzQpcK1vPrr62.aQe5iDSpJRjOAgLpo0XsslnsO44lPLMN4t73x5XIkQHjJIMrhvm8YCtiwNucVhTtXdLDk.',\n",
       " 'ap7.salesforce.com')"
      ]
     },
     "execution_count": 3,
     "metadata": {},
     "output_type": "execute_result"
    }
   ],
   "source": [
    "# Signup for a developer account and save the password in password.txt file\n",
    "with open(\"password.txt\") as f:\n",
    "    password = f.read().replace(\"\\n\", \"\")\n",
    "\n",
    "token, server = login(username = \"abulbasar@gmail.com\"\n",
    "                      , password= password\n",
    "                      , security_token= \"3wyZJ2eCXxn6gW5mUKXnJNNj\")\n",
    "\n",
    "token, server"
   ]
  },
  {
   "cell_type": "code",
   "execution_count": 7,
   "metadata": {},
   "outputs": [
    {
     "data": {
      "text/plain": [
       "'24.0'"
      ]
     },
     "execution_count": 7,
     "metadata": {},
     "output_type": "execute_result"
    }
   ],
   "source": [
    "DEFAULT_API_VERSION"
   ]
  },
  {
   "cell_type": "code",
   "execution_count": 27,
   "metadata": {},
   "outputs": [
    {
     "data": {
      "text/plain": [
       "{'User-Agent': 'python-requests/2.23.0', 'Accept-Encoding': 'gzip, deflate', 'Accept': '*/*', 'Connection': 'keep-alive', 'Authorization': 'Bearer 00D28000000U6uh!ARUAQPUu5k8_fzQpcK1vPrr62.aQe5iDSpJRjOAgLpo0XsslnsO44lPLMN4t73x5XIkQHjJIMrhvm8YCtiwNucVhTtXdLDk.', 'Content-Type': 'application/json'}"
      ]
     },
     "execution_count": 27,
     "metadata": {},
     "output_type": "execute_result"
    }
   ],
   "source": [
    "session = requests.Session()\n",
    "session.headers.update({\"Authorization\": \"Bearer \" + token, \"Content-Type\": \"application/json\"})\n",
    "session.headers"
   ]
  },
  {
   "cell_type": "code",
   "execution_count": 30,
   "metadata": {},
   "outputs": [],
   "source": [
    "\n",
    "body = {\n",
    "    \"name\": \"AZ - Abul 2020-07-29\",\n",
    "    \"Industry\": \"Biotechnology\",\n",
    "    \"NumberOfEmployees\": 120\n",
    "}"
   ]
  },
  {
   "cell_type": "code",
   "execution_count": 31,
   "metadata": {},
   "outputs": [
    {
     "data": {
      "text/plain": [
       "(<Response [201]>, {'id': '0010I00002U7j2bQAB', 'success': True, 'errors': []})"
      ]
     },
     "execution_count": 31,
     "metadata": {},
     "output_type": "execute_result"
    }
   ],
   "source": [
    "# Create new record\n",
    "\n",
    "url = f\"https://{server}/services/data/v{DEFAULT_API_VERSION}/sobjects/Account/\"\n",
    "response = session.post(url, json = body)\n",
    "response, response.json()"
   ]
  },
  {
   "cell_type": "code",
   "execution_count": 32,
   "metadata": {},
   "outputs": [
    {
     "data": {
      "text/plain": [
       "'0010I00002U7j2bQAB'"
      ]
     },
     "execution_count": 32,
     "metadata": {},
     "output_type": "execute_result"
    }
   ],
   "source": [
    "account_id = response.json()[\"id\"]\n",
    "account_id"
   ]
  },
  {
   "cell_type": "code",
   "execution_count": 33,
   "metadata": {},
   "outputs": [
    {
     "data": {
      "text/plain": [
       "(<Response [204]>, '')"
      ]
     },
     "execution_count": 33,
     "metadata": {},
     "output_type": "execute_result"
    }
   ],
   "source": [
    "# Udpate request\n",
    "\n",
    "body = {\n",
    "    \"name\": \"AZ - Abul 2020-07-29 - update\",\n",
    "    \"NumberOfEmployees\": 150\n",
    "}\n",
    "url = f\"https://{server}/services/data/v{DEFAULT_API_VERSION}/sobjects/Account/{account_id}\" \n",
    "r = session.patch(url, json = body)\n",
    "r, r.text"
   ]
  },
  {
   "cell_type": "code",
   "execution_count": 34,
   "metadata": {},
   "outputs": [
    {
     "data": {
      "text/plain": [
       "(<Response [204]>, '')"
      ]
     },
     "execution_count": 34,
     "metadata": {},
     "output_type": "execute_result"
    }
   ],
   "source": [
    "# Delete request\n",
    "\n",
    "url = f\"https://{server}/services/data/v{DEFAULT_API_VERSION}/sobjects/Account/{account_id}\" \n",
    "r = session.delete(url, json = body)\n",
    "r, r.text"
   ]
  },
  {
   "cell_type": "code",
   "execution_count": null,
   "metadata": {},
   "outputs": [],
   "source": []
  }
 ],
 "metadata": {
  "kernelspec": {
   "display_name": "Python 3",
   "language": "python",
   "name": "python3"
  },
  "language_info": {
   "codemirror_mode": {
    "name": "ipython",
    "version": 3
   },
   "file_extension": ".py",
   "mimetype": "text/x-python",
   "name": "python",
   "nbconvert_exporter": "python",
   "pygments_lexer": "ipython3",
   "version": "3.8.3"
  }
 },
 "nbformat": 4,
 "nbformat_minor": 2
}
