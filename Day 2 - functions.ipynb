{
 "cells": [
  {
   "cell_type": "code",
   "execution_count": 1,
   "metadata": {},
   "outputs": [
    {
     "data": {
      "text/plain": [
       "{'__name__': '__main__',\n",
       " '__doc__': 'Automatically created module for IPython interactive environment',\n",
       " '__package__': None,\n",
       " '__loader__': None,\n",
       " '__spec__': None,\n",
       " '__builtin__': <module 'builtins' (built-in)>,\n",
       " '__builtins__': <module 'builtins' (built-in)>,\n",
       " '_ih': ['', 'globals()'],\n",
       " '_oh': {},\n",
       " '_dh': ['/Users/abasar/workspaces/python/AZ - demos'],\n",
       " '_sh': <module 'IPython.core.shadowns' from '/anaconda3/lib/python3.7/site-packages/IPython/core/shadowns.py'>,\n",
       " 'In': ['', 'globals()'],\n",
       " 'Out': {},\n",
       " 'get_ipython': <bound method InteractiveShell.get_ipython of <ipykernel.zmqshell.ZMQInteractiveShell object at 0x109a786a0>>,\n",
       " 'exit': <IPython.core.autocall.ZMQExitAutocall at 0x109adf3c8>,\n",
       " 'quit': <IPython.core.autocall.ZMQExitAutocall at 0x109adf3c8>,\n",
       " '_': '',\n",
       " '__': '',\n",
       " '___': '',\n",
       " '_i': '',\n",
       " '_ii': '',\n",
       " '_iii': '',\n",
       " '_i1': 'globals()'}"
      ]
     },
     "execution_count": 1,
     "metadata": {},
     "output_type": "execute_result"
    }
   ],
   "source": [
    "globals()"
   ]
  },
  {
   "cell_type": "code",
   "execution_count": 2,
   "metadata": {},
   "outputs": [],
   "source": [
    "x = 10"
   ]
  },
  {
   "cell_type": "code",
   "execution_count": 3,
   "metadata": {},
   "outputs": [
    {
     "data": {
      "text/plain": [
       "{'__name__': '__main__',\n",
       " '__doc__': 'Automatically created module for IPython interactive environment',\n",
       " '__package__': None,\n",
       " '__loader__': None,\n",
       " '__spec__': None,\n",
       " '__builtin__': <module 'builtins' (built-in)>,\n",
       " '__builtins__': <module 'builtins' (built-in)>,\n",
       " '_ih': ['', 'globals()', 'x = 10', 'globals()'],\n",
       " '_oh': {1: {...}},\n",
       " '_dh': ['/Users/abasar/workspaces/python/AZ - demos'],\n",
       " '_sh': <module 'IPython.core.shadowns' from '/anaconda3/lib/python3.7/site-packages/IPython/core/shadowns.py'>,\n",
       " 'In': ['', 'globals()', 'x = 10', 'globals()'],\n",
       " 'Out': {1: {...}},\n",
       " 'get_ipython': <bound method InteractiveShell.get_ipython of <ipykernel.zmqshell.ZMQInteractiveShell object at 0x109a786a0>>,\n",
       " 'exit': <IPython.core.autocall.ZMQExitAutocall at 0x109adf3c8>,\n",
       " 'quit': <IPython.core.autocall.ZMQExitAutocall at 0x109adf3c8>,\n",
       " '_': {...},\n",
       " '__': '',\n",
       " '___': '',\n",
       " '_i': 'x = 10',\n",
       " '_ii': 'globals()',\n",
       " '_iii': '',\n",
       " '_i1': 'globals()',\n",
       " '_1': {...},\n",
       " '_i2': 'x = 10',\n",
       " 'x': 10,\n",
       " '_i3': 'globals()'}"
      ]
     },
     "execution_count": 3,
     "metadata": {},
     "output_type": "execute_result"
    }
   ],
   "source": [
    "globals()"
   ]
  },
  {
   "cell_type": "code",
   "execution_count": 5,
   "metadata": {},
   "outputs": [
    {
     "data": {
      "text/plain": [
       "[9, 81, 100, 4, 900, 1]"
      ]
     },
     "execution_count": 5,
     "metadata": {},
     "output_type": "execute_result"
    }
   ],
   "source": [
    "x = [3, 9, 10, 2, 30, -1]\n",
    "def square(n):\n",
    "    return n * n # n ** 2\n",
    "list(map(square, x))"
   ]
  },
  {
   "cell_type": "code",
   "execution_count": 8,
   "metadata": {},
   "outputs": [
    {
     "data": {
      "text/plain": [
       "[9, 81, 100, 4, 900, 1]"
      ]
     },
     "execution_count": 8,
     "metadata": {},
     "output_type": "execute_result"
    }
   ],
   "source": [
    "# Lambda is an anonymous function\n",
    "# That means, it is a function with only argument and body, but no name\n",
    "x = [3, 9, 10, 2, 30, -1]\n",
    "square = lambda n: n*n\n",
    "list(map(square, x))"
   ]
  },
  {
   "cell_type": "code",
   "execution_count": 9,
   "metadata": {},
   "outputs": [
    {
     "data": {
      "text/plain": [
       "[9, 81, 100, 4, 900, 1]"
      ]
     },
     "execution_count": 9,
     "metadata": {},
     "output_type": "execute_result"
    }
   ],
   "source": [
    "x = [3, 9, 10, 2, 30, -1]\n",
    "list(map(lambda n: n*n, x))"
   ]
  },
  {
   "cell_type": "code",
   "execution_count": 10,
   "metadata": {},
   "outputs": [
    {
     "data": {
      "text/plain": [
       "[5, 6, 4, 4]"
      ]
     },
     "execution_count": 10,
     "metadata": {},
     "output_type": "execute_result"
    }
   ],
   "source": [
    "x = [\"Apple\", \"Banana\", \"Cake\", \"Duck\"]\n",
    "list(map(len, x))"
   ]
  },
  {
   "cell_type": "code",
   "execution_count": 11,
   "metadata": {},
   "outputs": [
    {
     "data": {
      "text/plain": [
       "[5, 6, 4, 4]"
      ]
     },
     "execution_count": 11,
     "metadata": {},
     "output_type": "execute_result"
    }
   ],
   "source": [
    "x = [\"Apple\", \"Banana\", \"Cake\", \"Duck\"]\n",
    "list(map(lambda v: len(v), x))"
   ]
  },
  {
   "cell_type": "code",
   "execution_count": 12,
   "metadata": {},
   "outputs": [
    {
     "name": "stdout",
     "output_type": "stream",
     "text": [
      "3\n",
      "9\n",
      "10\n",
      "2\n",
      "30\n",
      "-1\n"
     ]
    },
    {
     "data": {
      "text/plain": [
       "[9, 81, 100, 4, 900, 1]"
      ]
     },
     "execution_count": 12,
     "metadata": {},
     "output_type": "execute_result"
    }
   ],
   "source": [
    "x = [3, 9, 10, 2, 30, -1]\n",
    "def square(n):\n",
    "    print(n)\n",
    "    return n * n # n ** 2\n",
    "list(map(square, x))"
   ]
  },
  {
   "cell_type": "code",
   "execution_count": 13,
   "metadata": {},
   "outputs": [
    {
     "data": {
      "text/plain": [
       "<map at 0x109c16748>"
      ]
     },
     "execution_count": 13,
     "metadata": {},
     "output_type": "execute_result"
    }
   ],
   "source": [
    "x = [3, 9, 10, 2, 30, -1]\n",
    "def square(n):\n",
    "    print(n)\n",
    "    return n * n # n ** 2\n",
    "map(square, x)"
   ]
  },
  {
   "cell_type": "code",
   "execution_count": 15,
   "metadata": {},
   "outputs": [
    {
     "name": "stdout",
     "output_type": "stream",
     "text": [
      "3\n",
      "9\n",
      "10\n",
      "2\n",
      "30\n",
      "-1\n"
     ]
    },
    {
     "data": {
      "text/plain": [
       "[9, 81, 100]"
      ]
     },
     "execution_count": 15,
     "metadata": {},
     "output_type": "execute_result"
    }
   ],
   "source": [
    "x = [3, 9, 10, 2, 30, -1]\n",
    "def square(n):\n",
    "    print(n)\n",
    "    return n * n # n ** 2\n",
    "list(map(square, x))[:3]"
   ]
  },
  {
   "cell_type": "code",
   "execution_count": 18,
   "metadata": {},
   "outputs": [
    {
     "name": "stdout",
     "output_type": "stream",
     "text": [
      "m1\n"
     ]
    }
   ],
   "source": [
    "\n",
    "def m1():\n",
    "    print(\"m1\")\n",
    "\n",
    "\n",
    "m1()"
   ]
  },
  {
   "cell_type": "code",
   "execution_count": 25,
   "metadata": {},
   "outputs": [
    {
     "name": "stdout",
     "output_type": "stream",
     "text": [
      "-1\n",
      "-8\n",
      "12\n"
     ]
    }
   ],
   "source": [
    "def add(x, y = 10):\n",
    "    return x - y\n",
    "\n",
    "print(add(2, 3))\n",
    "print(add(2))\n",
    "print(add(y = 2, x = 14))"
   ]
  },
  {
   "cell_type": "code",
   "execution_count": 26,
   "metadata": {},
   "outputs": [
    {
     "name": "stdout",
     "output_type": "stream",
     "text": [
      "0\n",
      "7\n"
     ]
    }
   ],
   "source": [
    "def add(x, y, z):\n",
    "    return x +  y - z\n",
    "\n",
    "print(add(2, 3, 5))\n",
    "print(add(2, z = 10, y = 15))"
   ]
  },
  {
   "cell_type": "code",
   "execution_count": 41,
   "metadata": {},
   "outputs": [
    {
     "name": "stdout",
     "output_type": "stream",
     "text": [
      "0\n",
      "7\n",
      "2\n",
      "-88\n"
     ]
    }
   ],
   "source": [
    "def add(x:int, y:int = 10, z:int = 100) -> int:\n",
    "    return x +  y - z\n",
    "\n",
    "print(add(2, 3, 5))\n",
    "print(add(2, z = 10, y = 15))\n",
    "print(add(2, z = 10))\n",
    "print(add(2))"
   ]
  },
  {
   "cell_type": "code",
   "execution_count": 31,
   "metadata": {},
   "outputs": [
    {
     "name": "stdout",
     "output_type": "stream",
     "text": [
      "<class 'tuple'>\n",
      "0\n",
      "<class 'tuple'>\n",
      "1\n",
      "<class 'tuple'>\n",
      "3\n",
      "<class 'tuple'>\n",
      "13\n"
     ]
    }
   ],
   "source": [
    "def add(*n):\n",
    "    print(type(n))\n",
    "    total = 0\n",
    "    for v in n:\n",
    "        total += v\n",
    "    return total\n",
    "\n",
    "print(add())\n",
    "print(add(1))\n",
    "print(add(1, 2))\n",
    "print(add(1, 2, 10))"
   ]
  },
  {
   "cell_type": "code",
   "execution_count": 33,
   "metadata": {},
   "outputs": [
    {
     "name": "stdout",
     "output_type": "stream",
     "text": [
      "<class 'dict'>\n",
      "{}\n",
      "<class 'dict'>\n",
      "{\"a\": \"apple\"}\n",
      "<class 'dict'>\n",
      "{\"a\": \"apple\", \"b\": \"banana\"}\n"
     ]
    }
   ],
   "source": [
    "import json\n",
    "def to_json(**kw):\n",
    "    print(type(kw))\n",
    "    return json.dumps(kw)\n",
    "print(to_json())\n",
    "print(to_json(a = \"apple\"))\n",
    "print(to_json(a = \"apple\", b = \"banana\"))"
   ]
  },
  {
   "cell_type": "code",
   "execution_count": 34,
   "metadata": {},
   "outputs": [
    {
     "ename": "TypeError",
     "evalue": "to_json() takes 0 positional arguments but 2 were given",
     "output_type": "error",
     "traceback": [
      "\u001b[0;31m---------------------------------------------------------------------------\u001b[0m",
      "\u001b[0;31mTypeError\u001b[0m                                 Traceback (most recent call last)",
      "\u001b[0;32m<ipython-input-34-906b251ecc53>\u001b[0m in \u001b[0;36m<module>\u001b[0;34m()\u001b[0m\n\u001b[1;32m      3\u001b[0m     \u001b[0mprint\u001b[0m\u001b[0;34m(\u001b[0m\u001b[0mtype\u001b[0m\u001b[0;34m(\u001b[0m\u001b[0mkw\u001b[0m\u001b[0;34m)\u001b[0m\u001b[0;34m)\u001b[0m\u001b[0;34m\u001b[0m\u001b[0;34m\u001b[0m\u001b[0m\n\u001b[1;32m      4\u001b[0m     \u001b[0;32mreturn\u001b[0m \u001b[0mjson\u001b[0m\u001b[0;34m.\u001b[0m\u001b[0mdumps\u001b[0m\u001b[0;34m(\u001b[0m\u001b[0mkw\u001b[0m\u001b[0;34m)\u001b[0m\u001b[0;34m\u001b[0m\u001b[0;34m\u001b[0m\u001b[0m\n\u001b[0;32m----> 5\u001b[0;31m \u001b[0mprint\u001b[0m\u001b[0;34m(\u001b[0m\u001b[0mto_json\u001b[0m\u001b[0;34m(\u001b[0m\u001b[0;36m1\u001b[0m\u001b[0;34m,\u001b[0m \u001b[0;36m2\u001b[0m\u001b[0;34m)\u001b[0m\u001b[0;34m)\u001b[0m\u001b[0;34m\u001b[0m\u001b[0;34m\u001b[0m\u001b[0m\n\u001b[0m",
      "\u001b[0;31mTypeError\u001b[0m: to_json() takes 0 positional arguments but 2 were given"
     ]
    }
   ],
   "source": [
    "import json\n",
    "def to_json(**kw):\n",
    "    print(type(kw))\n",
    "    return json.dumps(kw)\n",
    "print(to_json(1, 2))"
   ]
  },
  {
   "cell_type": "code",
   "execution_count": 40,
   "metadata": {},
   "outputs": [
    {
     "ename": "TypeError",
     "evalue": "my_fun() missing 1 required positional argument: 'x1'",
     "output_type": "error",
     "traceback": [
      "\u001b[0;31m---------------------------------------------------------------------------\u001b[0m",
      "\u001b[0;31mTypeError\u001b[0m                                 Traceback (most recent call last)",
      "\u001b[0;32m<ipython-input-40-6a045fdb560d>\u001b[0m in \u001b[0;36m<module>\u001b[0;34m()\u001b[0m\n\u001b[1;32m      4\u001b[0m     \u001b[0mprint\u001b[0m\u001b[0;34m(\u001b[0m\u001b[0;34m\"kws\"\u001b[0m\u001b[0;34m,\u001b[0m \u001b[0mtype\u001b[0m\u001b[0;34m(\u001b[0m\u001b[0mkws\u001b[0m\u001b[0;34m)\u001b[0m\u001b[0;34m,\u001b[0m \u001b[0mkws\u001b[0m\u001b[0;34m)\u001b[0m\u001b[0;34m\u001b[0m\u001b[0;34m\u001b[0m\u001b[0m\n\u001b[1;32m      5\u001b[0m \u001b[0;34m\u001b[0m\u001b[0m\n\u001b[0;32m----> 6\u001b[0;31m \u001b[0mmy_fun\u001b[0m\u001b[0;34m(\u001b[0m\u001b[0;34m)\u001b[0m\u001b[0;34m\u001b[0m\u001b[0;34m\u001b[0m\u001b[0m\n\u001b[0m",
      "\u001b[0;31mTypeError\u001b[0m: my_fun() missing 1 required positional argument: 'x1'"
     ]
    }
   ],
   "source": [
    "def my_fun(x1, *ys, **kws):\n",
    "    print(\"x1\", type(x1), x1)\n",
    "    print(\"ys\", type(ys), ys)\n",
    "    print(\"kws\", type(kws), kws)\n",
    "\n",
    "my_fun()"
   ]
  },
  {
   "cell_type": "code",
   "execution_count": 37,
   "metadata": {},
   "outputs": [
    {
     "name": "stdout",
     "output_type": "stream",
     "text": [
      "x1 <class 'int'> 100\n",
      "ys <class 'tuple'> ()\n",
      "kws <class 'dict'> {}\n"
     ]
    }
   ],
   "source": [
    "def my_fun(x1 = 100, *ys, **kws):\n",
    "    print(\"x1\", type(x1), x1)\n",
    "    print(\"ys\", type(ys), ys)\n",
    "    print(\"kws\", type(kws), kws)\n",
    "\n",
    "my_fun()"
   ]
  },
  {
   "cell_type": "code",
   "execution_count": 38,
   "metadata": {},
   "outputs": [
    {
     "name": "stdout",
     "output_type": "stream",
     "text": [
      "x1 <class 'int'> 102\n",
      "ys <class 'tuple'> (304, 501, 40)\n",
      "kws <class 'dict'> {}\n"
     ]
    }
   ],
   "source": [
    "my_fun(102, 304, 501, 40)"
   ]
  },
  {
   "cell_type": "code",
   "execution_count": 39,
   "metadata": {},
   "outputs": [
    {
     "name": "stdout",
     "output_type": "stream",
     "text": [
      "x1 <class 'int'> 102\n",
      "ys <class 'tuple'> (304, 501, 40)\n",
      "kws <class 'dict'> {'a': 'apple', 'b': 'banana'}\n"
     ]
    }
   ],
   "source": [
    "my_fun(102, 304, 501, 40, a = \"apple\", b = \"banana\")"
   ]
  },
  {
   "cell_type": "code",
   "execution_count": 44,
   "metadata": {},
   "outputs": [
    {
     "name": "stdout",
     "output_type": "stream",
     "text": [
      "3\n",
      "3.0\n",
      "3.9\n",
      "onetwo\n",
      "[1, 4, 65, 2, 45, 0]\n"
     ]
    }
   ],
   "source": [
    "def add(x:int, y: int) -> int:\n",
    "    return x + y\n",
    "\n",
    "print(add(1, 2))\n",
    "print(add(1.0, 2.))\n",
    "print(add(1, 2.9))\n",
    "print(add(\"one\", \"two\"))\n",
    "print(add([1, 4, 65], [2, 45, 0]))"
   ]
  },
  {
   "cell_type": "code",
   "execution_count": 45,
   "metadata": {},
   "outputs": [
    {
     "name": "stdout",
     "output_type": "stream",
     "text": [
      "3\n"
     ]
    },
    {
     "ename": "ValueError",
     "evalue": "x must be in",
     "output_type": "error",
     "traceback": [
      "\u001b[0;31m---------------------------------------------------------------------------\u001b[0m",
      "\u001b[0;31mValueError\u001b[0m                                Traceback (most recent call last)",
      "\u001b[0;32m<ipython-input-45-43394ee204ab>\u001b[0m in \u001b[0;36m<module>\u001b[0;34m()\u001b[0m\n\u001b[1;32m      7\u001b[0m \u001b[0;34m\u001b[0m\u001b[0m\n\u001b[1;32m      8\u001b[0m \u001b[0mprint\u001b[0m\u001b[0;34m(\u001b[0m\u001b[0madd\u001b[0m\u001b[0;34m(\u001b[0m\u001b[0;36m1\u001b[0m\u001b[0;34m,\u001b[0m \u001b[0;36m2\u001b[0m\u001b[0;34m)\u001b[0m\u001b[0;34m)\u001b[0m\u001b[0;34m\u001b[0m\u001b[0;34m\u001b[0m\u001b[0m\n\u001b[0;32m----> 9\u001b[0;31m \u001b[0mprint\u001b[0m\u001b[0;34m(\u001b[0m\u001b[0madd\u001b[0m\u001b[0;34m(\u001b[0m\u001b[0;36m1.0\u001b[0m\u001b[0;34m,\u001b[0m \u001b[0;36m2.\u001b[0m\u001b[0;34m)\u001b[0m\u001b[0;34m)\u001b[0m\u001b[0;34m\u001b[0m\u001b[0;34m\u001b[0m\u001b[0m\n\u001b[0m\u001b[1;32m     10\u001b[0m \u001b[0mprint\u001b[0m\u001b[0;34m(\u001b[0m\u001b[0madd\u001b[0m\u001b[0;34m(\u001b[0m\u001b[0;36m1\u001b[0m\u001b[0;34m,\u001b[0m \u001b[0;36m2.9\u001b[0m\u001b[0;34m)\u001b[0m\u001b[0;34m)\u001b[0m\u001b[0;34m\u001b[0m\u001b[0;34m\u001b[0m\u001b[0m\n\u001b[1;32m     11\u001b[0m \u001b[0mprint\u001b[0m\u001b[0;34m(\u001b[0m\u001b[0madd\u001b[0m\u001b[0;34m(\u001b[0m\u001b[0;34m\"one\"\u001b[0m\u001b[0;34m,\u001b[0m \u001b[0;34m\"two\"\u001b[0m\u001b[0;34m)\u001b[0m\u001b[0;34m)\u001b[0m\u001b[0;34m\u001b[0m\u001b[0;34m\u001b[0m\u001b[0m\n",
      "\u001b[0;32m<ipython-input-45-43394ee204ab>\u001b[0m in \u001b[0;36madd\u001b[0;34m(x, y)\u001b[0m\n\u001b[1;32m      1\u001b[0m \u001b[0;32mdef\u001b[0m \u001b[0madd\u001b[0m\u001b[0;34m(\u001b[0m\u001b[0mx\u001b[0m\u001b[0;34m:\u001b[0m\u001b[0mint\u001b[0m\u001b[0;34m,\u001b[0m \u001b[0my\u001b[0m\u001b[0;34m:\u001b[0m \u001b[0mint\u001b[0m\u001b[0;34m)\u001b[0m \u001b[0;34m->\u001b[0m \u001b[0mint\u001b[0m\u001b[0;34m:\u001b[0m\u001b[0;34m\u001b[0m\u001b[0;34m\u001b[0m\u001b[0m\n\u001b[1;32m      2\u001b[0m     \u001b[0;32mif\u001b[0m \u001b[0mtype\u001b[0m\u001b[0;34m(\u001b[0m\u001b[0mx\u001b[0m\u001b[0;34m)\u001b[0m \u001b[0;32mis\u001b[0m \u001b[0;32mnot\u001b[0m \u001b[0mint\u001b[0m\u001b[0;34m:\u001b[0m\u001b[0;34m\u001b[0m\u001b[0;34m\u001b[0m\u001b[0m\n\u001b[0;32m----> 3\u001b[0;31m         \u001b[0;32mraise\u001b[0m \u001b[0mValueError\u001b[0m\u001b[0;34m(\u001b[0m\u001b[0;34m\"x must be in\"\u001b[0m\u001b[0;34m)\u001b[0m\u001b[0;34m\u001b[0m\u001b[0;34m\u001b[0m\u001b[0m\n\u001b[0m\u001b[1;32m      4\u001b[0m     \u001b[0;32mif\u001b[0m \u001b[0mtype\u001b[0m\u001b[0;34m(\u001b[0m\u001b[0my\u001b[0m\u001b[0;34m)\u001b[0m \u001b[0;32mis\u001b[0m \u001b[0;32mnot\u001b[0m \u001b[0mint\u001b[0m\u001b[0;34m:\u001b[0m\u001b[0;34m\u001b[0m\u001b[0;34m\u001b[0m\u001b[0m\n\u001b[1;32m      5\u001b[0m         \u001b[0;32mraise\u001b[0m \u001b[0mValueError\u001b[0m\u001b[0;34m(\u001b[0m\u001b[0;34m\"y must be in\"\u001b[0m\u001b[0;34m)\u001b[0m\u001b[0;34m\u001b[0m\u001b[0;34m\u001b[0m\u001b[0m\n",
      "\u001b[0;31mValueError\u001b[0m: x must be in"
     ]
    }
   ],
   "source": [
    "def add(x:int, y: int) -> int:\n",
    "    if type(x) is not int:\n",
    "        raise ValueError(\"x must be in\")\n",
    "    if type(y) is not int:\n",
    "        raise ValueError(\"y must be in\")\n",
    "    return x + y\n",
    "\n",
    "print(add(1, 2))\n",
    "print(add(1.0, 2.))\n",
    "print(add(1, 2.9))\n",
    "print(add(\"one\", \"two\"))\n",
    "print(add([1, 4, 65], [2, 45, 0]))"
   ]
  },
  {
   "cell_type": "code",
   "execution_count": 46,
   "metadata": {},
   "outputs": [],
   "source": [
    "def create_multiplier(n): \n",
    "    def multiply(x):\n",
    "        return x * n\n",
    "    return multiply"
   ]
  },
  {
   "cell_type": "code",
   "execution_count": 47,
   "metadata": {},
   "outputs": [],
   "source": [
    "multiplier10 = create_multiplier(10)"
   ]
  },
  {
   "cell_type": "code",
   "execution_count": 48,
   "metadata": {},
   "outputs": [
    {
     "data": {
      "text/plain": [
       "function"
      ]
     },
     "execution_count": 48,
     "metadata": {},
     "output_type": "execute_result"
    }
   ],
   "source": [
    "type(multiplier10)"
   ]
  },
  {
   "cell_type": "code",
   "execution_count": 49,
   "metadata": {},
   "outputs": [
    {
     "data": {
      "text/plain": [
       "200"
      ]
     },
     "execution_count": 49,
     "metadata": {},
     "output_type": "execute_result"
    }
   ],
   "source": [
    "multiplier10(20)"
   ]
  },
  {
   "cell_type": "code",
   "execution_count": 50,
   "metadata": {},
   "outputs": [
    {
     "data": {
      "text/plain": [
       "300"
      ]
     },
     "execution_count": 50,
     "metadata": {},
     "output_type": "execute_result"
    }
   ],
   "source": [
    "multiplier10(30)"
   ]
  },
  {
   "cell_type": "code",
   "execution_count": 51,
   "metadata": {},
   "outputs": [],
   "source": [
    "multiplier2 = create_multiplier(2)"
   ]
  },
  {
   "cell_type": "code",
   "execution_count": 52,
   "metadata": {},
   "outputs": [
    {
     "data": {
      "text/plain": [
       "6"
      ]
     },
     "execution_count": 52,
     "metadata": {},
     "output_type": "execute_result"
    }
   ],
   "source": [
    "multiplier2(3)"
   ]
  },
  {
   "cell_type": "code",
   "execution_count": 53,
   "metadata": {},
   "outputs": [
    {
     "data": {
      "text/plain": [
       "38"
      ]
     },
     "execution_count": 53,
     "metadata": {},
     "output_type": "execute_result"
    }
   ],
   "source": [
    "multiplier2(19)"
   ]
  },
  {
   "cell_type": "markdown",
   "metadata": {},
   "source": [
    "# Exercise: Define a closure for wrapper around datetime.datetime.strptime function\n",
    "\n",
    "The closure should take a format and return function that will parse a string date format to return datetime.\n",
    "\n",
    "```\n",
    "def create_parser(format):\n",
    "    ... define the body\n",
    "\n",
    "date_parser = create_parser(\"%Y-%m-%d\")\n",
    "date_parser(\"2019-07-29\") # datetime.datetime(2019, 7, 29, 0, 0)\n",
    "date_parser(\"2019-07-31\") # datetime.datetime(2019, 7, 31, 0, 0)\n",
    "\n",
    "```"
   ]
  },
  {
   "cell_type": "code",
   "execution_count": 60,
   "metadata": {},
   "outputs": [
    {
     "name": "stdout",
     "output_type": "stream",
     "text": [
      "2019-07-29 00:00:00\n",
      "2019-07-31 00:00:00\n"
     ]
    }
   ],
   "source": [
    "from datetime import datetime\n",
    "\n",
    "def create_parser(format):\n",
    "    def parse(date_string):\n",
    "        return datetime.strptime(date_string, format)\n",
    "    return parse\n",
    "\n",
    "date_parser = create_parser(\"%Y-%m-%d\")\n",
    "print(date_parser(\"2019-07-29\"))\n",
    "print(date_parser(\"2019-07-31\"))\n"
   ]
  },
  {
   "cell_type": "code",
   "execution_count": 88,
   "metadata": {},
   "outputs": [
    {
     "name": "stdout",
     "output_type": "stream",
     "text": [
      "Abul Basar\n"
     ]
    }
   ],
   "source": [
    "class BankAccount():\n",
    "    pass\n",
    "\n",
    "account1 = BankAccount() # instantiation\n",
    "account1.name = \"Abul Basar\"\n",
    "print(account1.name)"
   ]
  },
  {
   "cell_type": "code",
   "execution_count": 153,
   "metadata": {},
   "outputs": [],
   "source": [
    "from datetime import datetime"
   ]
  },
  {
   "cell_type": "code",
   "execution_count": 163,
   "metadata": {},
   "outputs": [
    {
     "data": {
      "text/plain": [
       "1564458154740950"
      ]
     },
     "execution_count": 163,
     "metadata": {},
     "output_type": "execute_result"
    }
   ],
   "source": [
    "int(datetime.utcnow().timestamp() * 1000000)"
   ]
  },
  {
   "cell_type": "code",
   "execution_count": 191,
   "metadata": {},
   "outputs": [
    {
     "name": "stdout",
     "output_type": "stream",
     "text": [
      "account:  id: 1564459249288292 name: Abul Basar, balance: 100 status: AccountStatus.Active\n",
      "name:  Abul Basar\n"
     ]
    },
    {
     "ename": "InvalidDepositAmount",
     "evalue": "Amount must be greater than 0",
     "output_type": "error",
     "traceback": [
      "\u001b[0;31m---------------------------------------------------------------------------\u001b[0m",
      "\u001b[0;31mInvalidDepositAmount\u001b[0m                      Traceback (most recent call last)",
      "\u001b[0;32m<ipython-input-191-4f58f5152fee>\u001b[0m in \u001b[0;36m<module>\u001b[0;34m()\u001b[0m\n\u001b[1;32m     73\u001b[0m \u001b[0mprint\u001b[0m\u001b[0;34m(\u001b[0m\u001b[0;34m\"name: \"\u001b[0m\u001b[0;34m,\u001b[0m \u001b[0maccount1\u001b[0m\u001b[0;34m.\u001b[0m\u001b[0mname\u001b[0m\u001b[0;34m)\u001b[0m\u001b[0;34m\u001b[0m\u001b[0;34m\u001b[0m\u001b[0m\n\u001b[1;32m     74\u001b[0m \u001b[0maccount1\u001b[0m\u001b[0;34m.\u001b[0m\u001b[0mwithdraw\u001b[0m\u001b[0;34m(\u001b[0m\u001b[0;36m80\u001b[0m\u001b[0;34m)\u001b[0m\u001b[0;34m\u001b[0m\u001b[0;34m\u001b[0m\u001b[0m\n\u001b[0;32m---> 75\u001b[0;31m \u001b[0maccount1\u001b[0m\u001b[0;34m.\u001b[0m\u001b[0mdeposit\u001b[0m\u001b[0;34m(\u001b[0m\u001b[0;34m-\u001b[0m\u001b[0;36m100\u001b[0m\u001b[0;34m)\u001b[0m\u001b[0;34m\u001b[0m\u001b[0;34m\u001b[0m\u001b[0m\n\u001b[0m\u001b[1;32m     76\u001b[0m \u001b[0maccount1\u001b[0m\u001b[0;34m\u001b[0m\u001b[0;34m\u001b[0m\u001b[0m\n",
      "\u001b[0;32m<ipython-input-191-4f58f5152fee>\u001b[0m in \u001b[0;36mdeposit\u001b[0;34m(self, amount)\u001b[0m\n\u001b[1;32m     53\u001b[0m \u001b[0;34m\u001b[0m\u001b[0m\n\u001b[1;32m     54\u001b[0m         \u001b[0;32mif\u001b[0m \u001b[0mamount\u001b[0m\u001b[0;34m<\u001b[0m\u001b[0;36m0\u001b[0m\u001b[0;34m:\u001b[0m\u001b[0;34m\u001b[0m\u001b[0;34m\u001b[0m\u001b[0m\n\u001b[0;32m---> 55\u001b[0;31m             \u001b[0;32mraise\u001b[0m \u001b[0mInvalidDepositAmount\u001b[0m\u001b[0;34m(\u001b[0m\u001b[0;34m\"Amount must be greater than 0\"\u001b[0m\u001b[0;34m)\u001b[0m\u001b[0;34m\u001b[0m\u001b[0;34m\u001b[0m\u001b[0m\n\u001b[0m\u001b[1;32m     56\u001b[0m \u001b[0;34m\u001b[0m\u001b[0m\n\u001b[1;32m     57\u001b[0m         \u001b[0mself\u001b[0m\u001b[0;34m.\u001b[0m\u001b[0m__balance\u001b[0m \u001b[0;34m=\u001b[0m \u001b[0mself\u001b[0m\u001b[0;34m.\u001b[0m\u001b[0m__balance\u001b[0m \u001b[0;34m+\u001b[0m \u001b[0mamount\u001b[0m\u001b[0;34m\u001b[0m\u001b[0;34m\u001b[0m\u001b[0m\n",
      "\u001b[0;31mInvalidDepositAmount\u001b[0m: Amount must be greater than 0"
     ]
    }
   ],
   "source": [
    "from enum import Enum\n",
    "\n",
    "\n",
    "class InvalidDepositAmountError(Exception):\n",
    "    pass\n",
    "\n",
    "class AccountStatus(Enum):\n",
    "    Active = 1\n",
    "    Inactive = 2\n",
    "    Suspend = 3\n",
    "\n",
    "\n",
    "class BankAccount():\n",
    "    \n",
    "    __slots__ = (\"name\", \"__balance\", \"transactions\", \"__acct_id\", \"status\")\n",
    "    \n",
    "    def __init__(self, name:str, balance:float = 0):\n",
    "        self.__acct_id = self.generate_id()\n",
    "        self.name = name\n",
    "        self.__balance = balance\n",
    "        self.transactions = []\n",
    "        self.status = AccountStatus.Active\n",
    "        \n",
    "    @staticmethod\n",
    "    def generate_id():\n",
    "        return int(datetime.utcnow().timestamp() * 1000000)\n",
    "        \n",
    "    @property\n",
    "    def acct_id():\n",
    "        return __acct_id\n",
    "    \n",
    "    @property\n",
    "    def balance(self):\n",
    "        return self.__balance\n",
    "    \n",
    "    @balance.setter\n",
    "    def balance(self, amount):\n",
    "        if amount<0:\n",
    "            raise ValueError(\"Net balance must be 0 or more\")\n",
    "        \n",
    "    def __repr__(self):\n",
    "        return \"id: {id} name: {name}, balance: {balance} status: {status}\".format(\n",
    "            id = self.__acct_id, \n",
    "            name = self.name, \n",
    "            balance = self.__balance,\n",
    "            status = self.status\n",
    "        )\n",
    "    \n",
    "    def deposit(self, amount):\n",
    "        \n",
    "        if not(type(amount) is int or type(amount) is float):\n",
    "            raise InvalidDepositAmountError(\"Amount must be float or integer\")\n",
    "            \n",
    "        if amount<0:\n",
    "            raise InvalidDepositAmount(\"Amount must be greater than 0\")\n",
    "        \n",
    "        self.__balance = self.__balance + amount\n",
    "        \n",
    "    def withdraw(self, amount):\n",
    "        if amount > self.__balance:\n",
    "            raise ValueError(\"Withdrawal amount must be lower than the balance amount\")\n",
    "        self.balance = self.balance - amount\n",
    "    \n",
    "    def __eq__(self, other):\n",
    "        return self.name == other.name\n",
    "\n",
    "\n",
    "account1 = BankAccount(\"abul basar\")\n",
    "account1.deposit(100)\n",
    "account1.withdraw(80)\n",
    "account1.name = \"Abul Basar\"\n",
    "print(\"account: \", account1)\n",
    "print(\"name: \", account1.name)\n",
    "account1.withdraw(80)\n",
    "account1.deposit(-100)\n",
    "account1"
   ]
  },
  {
   "cell_type": "code",
   "execution_count": 166,
   "metadata": {},
   "outputs": [
    {
     "data": {
      "text/plain": [
       "1564458186823802"
      ]
     },
     "execution_count": 166,
     "metadata": {},
     "output_type": "execute_result"
    }
   ],
   "source": [
    "account1.generate_id()"
   ]
  },
  {
   "cell_type": "code",
   "execution_count": 168,
   "metadata": {},
   "outputs": [
    {
     "data": {
      "text/plain": [
       "1564458214975921"
      ]
     },
     "execution_count": 168,
     "metadata": {},
     "output_type": "execute_result"
    }
   ],
   "source": [
    "BankAccount.generate_id()"
   ]
  },
  {
   "cell_type": "code",
   "execution_count": 152,
   "metadata": {},
   "outputs": [
    {
     "ename": "ValueError",
     "evalue": "Net balance must be 0 or more",
     "output_type": "error",
     "traceback": [
      "\u001b[0;31m---------------------------------------------------------------------------\u001b[0m",
      "\u001b[0;31mValueError\u001b[0m                                Traceback (most recent call last)",
      "\u001b[0;32m<ipython-input-152-b5e3d21ed8a1>\u001b[0m in \u001b[0;36m<module>\u001b[0;34m()\u001b[0m\n\u001b[0;32m----> 1\u001b[0;31m \u001b[0maccount1\u001b[0m\u001b[0;34m.\u001b[0m\u001b[0mbalance\u001b[0m \u001b[0;34m=\u001b[0m \u001b[0;34m-\u001b[0m\u001b[0;36m10\u001b[0m\u001b[0;34m\u001b[0m\u001b[0;34m\u001b[0m\u001b[0m\n\u001b[0m",
      "\u001b[0;32m<ipython-input-151-808633f7fbcf>\u001b[0m in \u001b[0;36mbalance\u001b[0;34m(self, amount)\u001b[0m\n\u001b[1;32m     15\u001b[0m     \u001b[0;32mdef\u001b[0m \u001b[0mbalance\u001b[0m\u001b[0;34m(\u001b[0m\u001b[0mself\u001b[0m\u001b[0;34m,\u001b[0m \u001b[0mamount\u001b[0m\u001b[0;34m)\u001b[0m\u001b[0;34m:\u001b[0m\u001b[0;34m\u001b[0m\u001b[0;34m\u001b[0m\u001b[0m\n\u001b[1;32m     16\u001b[0m         \u001b[0;32mif\u001b[0m \u001b[0mamount\u001b[0m\u001b[0;34m<\u001b[0m\u001b[0;36m0\u001b[0m\u001b[0;34m:\u001b[0m\u001b[0;34m\u001b[0m\u001b[0;34m\u001b[0m\u001b[0m\n\u001b[0;32m---> 17\u001b[0;31m             \u001b[0;32mraise\u001b[0m \u001b[0mValueError\u001b[0m\u001b[0;34m(\u001b[0m\u001b[0;34m\"Net balance must be 0 or more\"\u001b[0m\u001b[0;34m)\u001b[0m\u001b[0;34m\u001b[0m\u001b[0;34m\u001b[0m\u001b[0m\n\u001b[0m\u001b[1;32m     18\u001b[0m \u001b[0;34m\u001b[0m\u001b[0m\n\u001b[1;32m     19\u001b[0m     \u001b[0;32mdef\u001b[0m \u001b[0m__repr__\u001b[0m\u001b[0;34m(\u001b[0m\u001b[0mself\u001b[0m\u001b[0;34m)\u001b[0m\u001b[0;34m:\u001b[0m\u001b[0;34m\u001b[0m\u001b[0;34m\u001b[0m\u001b[0m\n",
      "\u001b[0;31mValueError\u001b[0m: Net balance must be 0 or more"
     ]
    }
   ],
   "source": [
    "account1.balance = -10"
   ]
  },
  {
   "cell_type": "code",
   "execution_count": 125,
   "metadata": {},
   "outputs": [
    {
     "data": {
      "text/plain": [
       "False"
      ]
     },
     "execution_count": 125,
     "metadata": {},
     "output_type": "execute_result"
    }
   ],
   "source": [
    "account1 = BankAccount(\"abul basar\", 100)\n",
    "account2 = BankAccount(\"Abul Basar\", 200)\n",
    "\n",
    "account1 == account2"
   ]
  },
  {
   "cell_type": "code",
   "execution_count": null,
   "metadata": {},
   "outputs": [],
   "source": [
    "account1 ==> "
   ]
  },
  {
   "cell_type": "code",
   "execution_count": 126,
   "metadata": {},
   "outputs": [
    {
     "data": {
      "text/plain": [
       "name: abul basar, balance: 100"
      ]
     },
     "execution_count": 126,
     "metadata": {},
     "output_type": "execute_result"
    }
   ],
   "source": [
    "account1"
   ]
  },
  {
   "cell_type": "code",
   "execution_count": 127,
   "metadata": {},
   "outputs": [
    {
     "data": {
      "text/plain": [
       "name: Abul Basar, balance: 200"
      ]
     },
     "execution_count": 127,
     "metadata": {},
     "output_type": "execute_result"
    }
   ],
   "source": [
    "account2"
   ]
  },
  {
   "cell_type": "code",
   "execution_count": 78,
   "metadata": {},
   "outputs": [
    {
     "data": {
      "text/plain": [
       "'name: Abul Basar, balance: 0'"
      ]
     },
     "execution_count": 78,
     "metadata": {},
     "output_type": "execute_result"
    }
   ],
   "source": [
    "\"name: {}, balance: {}\".format(account1.name, account1.balance)"
   ]
  },
  {
   "cell_type": "code",
   "execution_count": 80,
   "metadata": {},
   "outputs": [
    {
     "data": {
      "text/plain": [
       "'name: Abul Basar, balance: 0'"
      ]
     },
     "execution_count": 80,
     "metadata": {},
     "output_type": "execute_result"
    }
   ],
   "source": [
    "\"name: {name}, balance: {balance}\".format(name = account1.name\n",
    "                                          , balance = account1.balance)"
   ]
  },
  {
   "cell_type": "code",
   "execution_count": 82,
   "metadata": {},
   "outputs": [
    {
     "data": {
      "text/plain": [
       "'name: Abul Basar, balance: 0'"
      ]
     },
     "execution_count": 82,
     "metadata": {},
     "output_type": "execute_result"
    }
   ],
   "source": [
    "\"name: {name}, balance: {balance}\".format(**account1.__dict__)"
   ]
  },
  {
   "cell_type": "markdown",
   "metadata": {},
   "source": [
    "# Exercise: Define a class Stock \n",
    "\n",
    "Data Source: https://raw.githubusercontent.com/abulbasar/data/master/stocks.small.csv\n",
    "\n",
    "- Members date,open,high,low,close,volume,adjclose,symbol \n",
    "- Define a constructor that take a line and populates the member variables. Type cast open,high,low,close,volume,adjclose as float and parse date field as datetime.\n",
    "- Define a method that calculates the percent change in stock within a day. [Hint: pct = (close - open)/open]\n",
    "- Define a method that represent a record in json string format\n",
    "\n",
    "\n",
    "```\n",
    "class Stock():\n",
    "    def __init__(self, line):\n",
    "        parts = line.split(\",\")\n",
    "        ...\n",
    "    \n",
    "    def __repr__(self):\n",
    "        return ...\n",
    "    \n",
    "    def pct_change(self):\n",
    "        return (self.close - self.open) * 100/ self.open\n",
    "    \n",
    "content = requests.open(\"...\").text\n",
    "data = cotent.split(\"\\n\")[1:-1]\n",
    "records = []\n",
    "for line in data:\n",
    "    stock = Stock(line)\n",
    "    records.append(stock)\n",
    "```"
   ]
  },
  {
   "cell_type": "code",
   "execution_count": 97,
   "metadata": {},
   "outputs": [],
   "source": [
    "from datetime import datetime\n",
    "class Stock():\n",
    "    \n",
    "    @staticmethod\n",
    "    def parse_utc_date(date_string):\n",
    "        return datetime.strptime(date_string, \"%Y-%m-%d\")\n",
    "    \n",
    "    def __init__(self, line):\n",
    "        parts = line.split(\",\")\n",
    "        self.date = self.parse_utc_date(parts[0])\n",
    "        self.open = float(parts[1]) \n",
    "        self.high = float(parts[2])\n",
    "        self.low = float(parts[3])\n",
    "        self.close = float(parts[4])\n",
    "        self.volume = float(parts[5])\n",
    "        self.adjclose = float(parts[6])\n",
    "        self.symbol = parts[7]\n",
    "        \n",
    "    def __repr__(self):\n",
    "        return \"{date} {symbol} {adjclose}\".format(**self.__dict__)\n",
    "    \n",
    "    @property\n",
    "    def pct_change(self):\n",
    "        return (self.close - self.open) * 100/ self.open\n",
    "\n",
    "content = open(\"/data/stocks.small.csv\").read()\n",
    "data = content.split(\"\\n\")[1:-1]\n",
    "records = []\n",
    "for line in data:\n",
    "    stock = Stock(line)\n",
    "    records.append(stock)"
   ]
  },
  {
   "cell_type": "code",
   "execution_count": 101,
   "metadata": {},
   "outputs": [
    {
     "data": {
      "text/plain": [
       "-1.2516184721622787"
      ]
     },
     "execution_count": 101,
     "metadata": {},
     "output_type": "execute_result"
    }
   ],
   "source": [
    "records[0].pct_change"
   ]
  },
  {
   "cell_type": "code",
   "execution_count": 129,
   "metadata": {
    "scrolled": false
   },
   "outputs": [
    {
     "name": "stdout",
     "output_type": "stream",
     "text": [
      "2000-07-18 00:00:00 INTC 50.155473 -1.2516184721622787\n",
      "2000-07-20 00:00:00 BEN 8.789734 2.4667620594270687\n",
      "2000-07-24 00:00:00 APH 7.689567 0.7782101167315175\n",
      "2000-07-26 00:00:00 SHW 15.61832 -4.285714285714286\n",
      "2000-07-26 00:00:00 STJ 9.402721 -0.2976190476190476\n"
     ]
    }
   ],
   "source": [
    "for record in records[:5]: \n",
    "    print(record, record.pct_change)"
   ]
  },
  {
   "cell_type": "code",
   "execution_count": 140,
   "metadata": {},
   "outputs": [
    {
     "data": {
      "text/plain": [
       "{\"name\": \"test1\", \"legs\": 4}"
      ]
     },
     "execution_count": 140,
     "metadata": {},
     "output_type": "execute_result"
    }
   ],
   "source": [
    "import json \n",
    "\n",
    "class Animal():\n",
    "    def __init__(self, name, legs):\n",
    "        self.name = name\n",
    "        self.legs = legs\n",
    "        \n",
    "    def __repr__(self):\n",
    "        return json.dumps(self.__dict__)\n",
    "    \n",
    "    def scream(self):\n",
    "        print(\"Screaming \", self.name)\n",
    "        \n",
    "animal1 = Animal(\"test1\", 4)\n",
    "animal1"
   ]
  },
  {
   "cell_type": "code",
   "execution_count": 141,
   "metadata": {},
   "outputs": [
    {
     "data": {
      "text/plain": [
       "{\"name\": \"Test2\", \"legs\": 2, \"blood_grroup\": \"A\"}"
      ]
     },
     "execution_count": 141,
     "metadata": {},
     "output_type": "execute_result"
    }
   ],
   "source": [
    "class Monkey(Animal):\n",
    "    def __init__(self, name, legs, blood_group):\n",
    "        super().__init__(name, legs)\n",
    "        self.blood_grroup = blood_group\n",
    "        \n",
    "monkey1 = Monkey(\"Test2\", 2, \"A\")\n",
    "monkey1"
   ]
  },
  {
   "cell_type": "code",
   "execution_count": 142,
   "metadata": {},
   "outputs": [
    {
     "name": "stdout",
     "output_type": "stream",
     "text": [
      "Screaming  Test2\n"
     ]
    }
   ],
   "source": [
    "monkey1.scream()"
   ]
  },
  {
   "cell_type": "code",
   "execution_count": 144,
   "metadata": {},
   "outputs": [
    {
     "data": {
      "text/plain": [
       "{\"name\": \"Test2\", \"legs\": 2, \"blood_grroup\": \"A\"}"
      ]
     },
     "execution_count": 144,
     "metadata": {},
     "output_type": "execute_result"
    }
   ],
   "source": [
    "import json \n",
    "\n",
    "class Animal():\n",
    "    def __init__(self, name, legs):\n",
    "        self.name = name\n",
    "        self.legs = legs\n",
    "        \n",
    "    def __repr__(self):\n",
    "        return json.dumps(self.__dict__)\n",
    "    \n",
    "    def scream(self):\n",
    "        print(\"Screaming \", self.name)\n",
    "        \n",
    "animal1 = Animal(\"test1\", 4)\n",
    "animal1\n",
    "\n",
    "\n",
    "class Monkey(Animal):\n",
    "    def __init__(self, name, legs, blood_group):\n",
    "        super().__init__(name, legs)\n",
    "        self.blood_grroup = blood_group\n",
    "        \n",
    "    def scream(self):\n",
    "        print(\"Monkey Screaming \", self.name)\n",
    "        \n",
    "monkey1 = Monkey(\"Test2\", 2, \"A\")\n",
    "monkey1"
   ]
  },
  {
   "cell_type": "code",
   "execution_count": 145,
   "metadata": {},
   "outputs": [
    {
     "name": "stdout",
     "output_type": "stream",
     "text": [
      "Monkey Screaming  Test2\n"
     ]
    }
   ],
   "source": [
    "monkey1.scream()"
   ]
  },
  {
   "cell_type": "code",
   "execution_count": null,
   "metadata": {},
   "outputs": [],
   "source": []
  }
 ],
 "metadata": {
  "kernelspec": {
   "display_name": "Python 3",
   "language": "python",
   "name": "python3"
  },
  "language_info": {
   "codemirror_mode": {
    "name": "ipython",
    "version": 3
   },
   "file_extension": ".py",
   "mimetype": "text/x-python",
   "name": "python",
   "nbconvert_exporter": "python",
   "pygments_lexer": "ipython3",
   "version": "3.7.3"
  }
 },
 "nbformat": 4,
 "nbformat_minor": 2
}
